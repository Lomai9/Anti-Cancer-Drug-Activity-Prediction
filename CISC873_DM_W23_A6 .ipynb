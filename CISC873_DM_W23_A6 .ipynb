{
  "cells": [
    {
      "cell_type": "markdown",
      "source": [
        "# ✔️ Problem Formulation:\n",
        "**The problem: ❎**\n",
        "\n",
        "Anticancer activity prediction, where each chemical compound is represented as a graph, with atoms representing nodes and bonds as edges. A chemical compound is positive against non-small cell lung cancer, or negative otherwise. \n",
        "\n",
        "**What is the input? ⏩**\n",
        "\n",
        "there are a train set and test set, 2 input features: nodes and edges between these nodes.\n",
        "\n",
        "**What is the output? ⏪**\n",
        "\n",
        "Predict chemical compound is effective or Not.\n",
        "\n",
        "**What data mining function is required? 🤔**\n",
        "\n",
        "-Classification.\n",
        "-predection.\n",
        "-tokenization.\n",
        "\n",
        "**What could be the challenges? ⛏**\n",
        "\n",
        "\n",
        "*   the train and test data are SDF file.\n",
        "\n",
        "*   Find the best way to train this data and get the best accuracy.\n",
        "\n",
        "*   Handle with data imbalance.\n",
        "\n",
        "\n",
        "\n",
        "\n",
        "\n",
        "**What is the impact? 😀**\n",
        "\n",
        "The resolution of this medical issue will advance medicine, particularly in the treatment of lung cancer, by leading medical professionals to seek out the most effective treatments.\n",
        "\n",
        "**What is an ideal solution?**✊\n",
        "\n",
        "The Sixth trail when using GGNN after Resampleing.  \n",
        "GGNN can achieve better performance and accuracy than other GNN models or traditional machine learning methods for anti-cancer activity prediction.\n",
        "This Trail Get Score on Kaggle (0.85219)\n",
        "\n"
      ],
      "metadata": {
        "id": "fuc4TBY7w3-Z"
      }
    },
    {
      "cell_type": "markdown",
      "source": [
        "# Experimental protocol 💻\n",
        "-Read SDF format data (structured-data format)\n",
        "\n",
        "-read dataset from SDF file\n",
        "\n",
        "-Spilt train set to train validation set\n",
        "\n",
        "-Visualizing/Inspecting a Sample\n",
        "- Preprocessing:\n",
        "*   Toknization.\n",
        "\n",
        "-building models (the First five trail) without UP sampling We using:\n",
        "\n",
        "\n",
        "1.   GAN\n",
        "2.   RGCN\n",
        "3.   RGAT\n",
        "4.   RGIN\n",
        "5.   GGNN\n",
        "6.   Using Conv2d layer. (Multi-objective learning (multi-task))\n",
        "7.   Transfer learning (VGG model) (Multi-modality learning with Multi-objective learning)\n",
        "-Model Training\n",
        "-Predition\n",
        "-Create Submit file and check the score of each model on kaggle."
      ],
      "metadata": {
        "id": "vP8YmIznxfnj"
      }
    },
    {
      "cell_type": "markdown",
      "metadata": {
        "id": "2tHAKVoBT0RV"
      },
      "source": [
        "## Read SDF format data (structured-data format) 🔀"
      ]
    },
    {
      "cell_type": "code",
      "execution_count": null,
      "metadata": {
        "id": "XgT7rco6T0RX"
      },
      "outputs": [],
      "source": [
        "import numpy as np\n",
        "from tqdm.notebook import tqdm\n",
        "\n",
        "def read_sdf(file):\n",
        "    with open(file, 'r') as rf:\n",
        "        content = rf.read()\n",
        "    samples = content.split('$$$$')\n",
        "    \n",
        "    def parse_sample(s):\n",
        "        lines = s.splitlines()\n",
        "        links = []\n",
        "        nodes = []\n",
        "        label = 0\n",
        "        for l in lines:\n",
        "            if l.strip() == '1.0':\n",
        "                label = 1\n",
        "            if l.strip() == '-1.0':\n",
        "                label = 0\n",
        "            if l.startswith('    '):\n",
        "                feature = l.split()\n",
        "                node = feature[3]\n",
        "                nodes.append(node)\n",
        "            elif l.startswith(' '):\n",
        "                lnk = l.split()\n",
        "                # edge: (from, to,) (1-based index)\n",
        "                if int(lnk[0]) - 1 < len(nodes):\n",
        "                    links.append((\n",
        "                        int(lnk[0])-1, \n",
        "                        int(lnk[1])-1, # zero-based index\n",
        "                        # int(lnk[2]) ignore edge weight\n",
        "                    ))\n",
        "        return nodes, np.array(links), label\n",
        "    \n",
        "    return [parse_sample(s) for s in tqdm(samples) if len(s[0]) > 0]\n",
        "                \n",
        "        \n",
        "        "
      ]
    },
    {
      "cell_type": "markdown",
      "source": [
        "#Read the train and test set"
      ],
      "metadata": {
        "id": "SUNAKiM4hA3j"
      }
    },
    {
      "cell_type": "code",
      "source": [
        "#read the traing data \n",
        "train = read_sdf('/content/train.sdf')\n",
        "#read the test data \n",
        "test = read_sdf('/content/test_x.sdf')"
      ],
      "metadata": {
        "colab": {
          "base_uri": "https://localhost:8080/",
          "height": 81,
          "referenced_widgets": [
            "ad786a4961b348379333ac9be1b6453e",
            "5685c5357c5d43e38b46d9666527ef46",
            "1ef2440a5fb94ecca679be6011f5c5ef",
            "826607c0b1764e2781d1b2b9d239c1eb",
            "7b36d147e30942c4af5b49a083f6b3f9",
            "578f7757ece7498493896320487382bc",
            "9844385c647e472f880b01b403324f2d",
            "d13d65a4ce5142a4aa83f02ea56690d7",
            "a756c3f635a7446f910772109a7ed90b",
            "bbc87883103e4a828d50aa34db3bafb1",
            "e73cc11cf337404889e22f6b53a463ae",
            "f74466b53e654495801e00571c94761b",
            "5cc662bff3ac492eab197e2b696a9c35",
            "8c035bd0cab84415b4a50d2a8b51a4bc",
            "0ce446bf396344f7be24c2e9b2141c73",
            "983bcafc04fa411f9ca92c7213d9e760",
            "b1042b6361f74b7890392984c4b93cbf",
            "e5f88b4566544a6fa60507411aec4984",
            "3f88ce8c4af541b9bf86a2584c2ae6ba",
            "c908b982b4954208bb5863eae59e31b8",
            "b123ae0d1ee642c0811ec0aa1be9dc71",
            "ed8848a79484485d96c1aa43f37d8e0d"
          ]
        },
        "id": "iQGypQzYUPdu",
        "outputId": "6830c7e6-3dbe-4029-bca6-9b31aa8aedcf"
      },
      "execution_count": null,
      "outputs": [
        {
          "output_type": "display_data",
          "data": {
            "text/plain": [
              "  0%|          | 0/25024 [00:00<?, ?it/s]"
            ],
            "application/vnd.jupyter.widget-view+json": {
              "version_major": 2,
              "version_minor": 0,
              "model_id": "ad786a4961b348379333ac9be1b6453e"
            }
          },
          "metadata": {}
        },
        {
          "output_type": "display_data",
          "data": {
            "text/plain": [
              "  0%|          | 0/12326 [00:00<?, ?it/s]"
            ],
            "application/vnd.jupyter.widget-view+json": {
              "version_major": 2,
              "version_minor": 0,
              "model_id": "f74466b53e654495801e00571c94761b"
            }
          },
          "metadata": {}
        }
      ]
    },
    {
      "cell_type": "markdown",
      "source": [
        "#Spilt train set to train validation set"
      ],
      "metadata": {
        "id": "pBUF-9T0V34p"
      }
    },
    {
      "cell_type": "code",
      "source": [
        "#Splitting traing data \n",
        "from sklearn.model_selection import train_test_split\n",
        "X, Y = train_test_split(train, test_size=0.15,)\n",
        "     "
      ],
      "metadata": {
        "id": "LWKW9iomV_3l"
      },
      "execution_count": null,
      "outputs": []
    },
    {
      "cell_type": "code",
      "source": [
        "print(X[1])\n"
      ],
      "metadata": {
        "colab": {
          "base_uri": "https://localhost:8080/"
        },
        "id": "03S7qeyFWmKL",
        "outputId": "8d13da9b-18d2-4ffb-d1f4-17036a7b3ced"
      },
      "execution_count": null,
      "outputs": [
        {
          "output_type": "stream",
          "name": "stdout",
          "text": [
            "(['O', 'O', 'O', 'O', 'N', 'N', 'N', 'N', 'C', 'C', 'C', 'C', 'C', 'C', 'C', 'C', 'C', 'C', 'C', 'C', 'C', 'C', 'C', 'C', 'C'], array([[ 0,  4],\n",
            "       [ 1,  4],\n",
            "       [ 2,  6],\n",
            "       [ 3,  6],\n",
            "       [ 4,  8],\n",
            "       [ 5,  7],\n",
            "       [ 5,  9],\n",
            "       [ 6, 10],\n",
            "       [ 7, 16],\n",
            "       [ 8,  9],\n",
            "       [ 8, 11],\n",
            "       [ 9, 14],\n",
            "       [10, 11],\n",
            "       [10, 15],\n",
            "       [12, 13],\n",
            "       [12, 17],\n",
            "       [12, 19],\n",
            "       [13, 18],\n",
            "       [13, 20],\n",
            "       [14, 15],\n",
            "       [16, 18],\n",
            "       [16, 21],\n",
            "       [17, 22],\n",
            "       [17, 24],\n",
            "       [19, 23],\n",
            "       [20, 23],\n",
            "       [21, 22]]), 0)\n"
          ]
        }
      ]
    },
    {
      "cell_type": "markdown",
      "metadata": {
        "id": "e8kRUGDHT0Ra"
      },
      "source": [
        "## Visualizing/Inspecting a Sample 🖼"
      ]
    },
    {
      "cell_type": "code",
      "execution_count": null,
      "metadata": {
        "id": "Yk0uh03nT0Ra"
      },
      "outputs": [],
      "source": [
        "!pip install --quiet networkx\n",
        "import networkx as nx\n",
        "import matplotlib.pyplot as plt\n",
        "from matplotlib import cm\n",
        "colors = cm.rainbow(np.linspace(0, 1, 50))"
      ]
    },
    {
      "cell_type": "code",
      "execution_count": null,
      "metadata": {
        "id": "_vF7iLI7T0Rb"
      },
      "outputs": [],
      "source": [
        "def visualize(sample):\n",
        "    G=nx.Graph()\n",
        "    nodes = sample[0]\n",
        "    edges = sample[1]\n",
        "    \n",
        "    labeldict={}\n",
        "    node_color=[]\n",
        "    for i,n in enumerate(nodes):\n",
        "        G.add_node(i)\n",
        "        labeldict[i]=n\n",
        "        node_color.append(colors[hash(n)%len(colors)])\n",
        "\n",
        "    # a list of nodes:\n",
        "    for e in edges:\n",
        "        G.add_edge(e[0], e[1])\n",
        "        \n",
        "    nx.draw(G, labels=labeldict, with_labels = True, node_color = node_color)\n",
        "    plt.show()\n",
        "    \n",
        "    return G"
      ]
    },
    {
      "cell_type": "code",
      "execution_count": null,
      "metadata": {
        "colab": {
          "base_uri": "https://localhost:8080/",
          "height": 533
        },
        "id": "dbn0H1oyT0Rb",
        "outputId": "40152b73-a9d0-4ed4-8038-9da3851f7ddb"
      },
      "outputs": [
        {
          "output_type": "display_data",
          "data": {
            "text/plain": [
              "<Figure size 640x480 with 1 Axes>"
            ],
            "image/png": "[encoded data removed]"
          },
          "metadata": {}
        },
        {
          "output_type": "execute_result",
          "data": {
            "text/plain": [
              "<networkx.classes.graph.Graph at 0x7fc4f83a9f10>"
            ]
          },
          "metadata": {},
          "execution_count": 10
        }
      ],
      "source": [
        "plt.clf()\n",
        "visualize(X[20])"
      ]
    },
    {
      "cell_type": "markdown",
      "metadata": {
        "id": "Wi2ePmkvT0Rb"
      },
      "source": [
        "#Preprocessing:"
      ]
    },
    {
      "cell_type": "markdown",
      "source": [
        "# Toknization\n",
        "\n",
        "Tokenization is an important step in text preprocessing that can help facilitate downstream NLP tasks."
      ],
      "metadata": {
        "id": "UQyvmZ3XYxKO"
      }
    },
    {
      "cell_type": "code",
      "execution_count": null,
      "metadata": {
        "id": "WoEA4VOkT0Rc"
      },
      "outputs": [],
      "source": [
        "from tensorflow.keras.preprocessing.text import Tokenizer\n",
        "\n",
        "max_vocab = 500\n",
        "max_len = 100\n",
        "\n",
        "\n",
        "# build vocabulary from training set\n",
        "all_nodes = [s[0] for s in X]\n",
        "tokenizer = Tokenizer(num_words=max_vocab)\n",
        "tokenizer.fit_on_texts(all_nodes)"
      ]
    },
    {
      "cell_type": "code",
      "execution_count": null,
      "metadata": {
        "id": "a2DYo7j-T0Rc"
      },
      "outputs": [],
      "source": [
        "from tensorflow.keras.preprocessing.sequence import pad_sequences\n",
        "import random\n",
        "random.seed(0)\n",
        "\n",
        "def prepare_single_batch(samples):\n",
        "    sample_nodes = [s[0] for s in samples]\n",
        "    sample_nodes = tokenizer.texts_to_sequences(sample_nodes)\n",
        "    sample_nodes = pad_sequences(sample_nodes, padding='post')\n",
        "    max_nodes_len = np.shape(sample_nodes)[1]\n",
        "    edges = [s[1]+i*max_nodes_len for i,s in enumerate(samples)]\n",
        "    edges = [e for e in edges if len(e) > 0]\n",
        "    node_to_graph = [[i]*max_nodes_len for i in range(len(samples))]\n",
        "    \n",
        "    all_nodes = np.reshape(sample_nodes, -1)\n",
        "    all_edges = np.concatenate(edges)\n",
        "\n",
        "    node_to_graph = np.reshape(node_to_graph, -1)\n",
        "    return {\n",
        "        'data': all_nodes,\n",
        "        'edges': all_edges,\n",
        "        'node2grah': node_to_graph,\n",
        "    }, np.array([s[2] for s in samples])\n",
        "\n",
        "\n",
        "\n",
        "def gen_batch(dataset, batch_size=16, repeat=False, shuffle=True):\n",
        "    while True:\n",
        "        dataset = list(dataset)\n",
        "        if shuffle:\n",
        "            random.shuffle(dataset)\n",
        "        l = len(dataset)\n",
        "        for ndx in range(0, l, batch_size):\n",
        "            batch_samples = dataset[ndx:min(ndx + batch_size, l)]\n",
        "            yield prepare_single_batch(batch_samples)\n",
        "        if not repeat:\n",
        "            break\n"
      ]
    },
    {
      "cell_type": "code",
      "execution_count": null,
      "metadata": {
        "id": "rSn0_wPoT0Rc",
        "colab": {
          "base_uri": "https://localhost:8080/"
        },
        "outputId": "e3ac97b8-4978-472a-a534-4d83753616d1"
      },
      "outputs": [
        {
          "output_type": "stream",
          "name": "stdout",
          "text": [
            "data\n",
            "[4 2 2 3 3 3 3 1 1 1 1 1 1 1 1 1 1 1 1 1 1 1 1 1 1 1 1 1 1 1 1 4 2 2 2 2 3\n",
            " 3 3 1 1 1 1 1 1 1 1 1 1 1 1 1 1 1 1 1 1 1 1 1 0 0 5 2 2 3 3 3 1 1 1 1 1 1\n",
            " 1 1 1 1 1 1 1 1 1 1 1 1 1 1 1 0 0 0 0 4 3 3 3 1 1 1 1 1 1 1 1 1 1 0 0 0 0\n",
            " 0 0 0 0 0 0 0 0 0 0 0 0 0]\n",
            "edges\n",
            "[[  0  23]\n",
            " [  1   9]\n",
            " [  2  13]\n",
            " [  3   4]\n",
            " [  3   7]\n",
            " [  3   9]\n",
            " [  4   8]\n",
            " [  5   7]\n",
            " [  5  10]\n",
            " [  6  12]\n",
            " [  6  13]\n",
            " [  7  14]\n",
            " [  8  11]\n",
            " [  8  13]\n",
            " [  9  10]\n",
            " [ 10  15]\n",
            " [ 11  12]\n",
            " [ 11  16]\n",
            " [ 12  17]\n",
            " [ 14  19]\n",
            " [ 14  20]\n",
            " [ 15  18]\n",
            " [ 16  21]\n",
            " [ 17  22]\n",
            " [ 18  23]\n",
            " [ 18  24]\n",
            " [ 19  25]\n",
            " [ 20  26]\n",
            " [ 21  22]\n",
            " [ 23  28]\n",
            " [ 24  29]\n",
            " [ 25  27]\n",
            " [ 26  27]\n",
            " [ 28  30]\n",
            " [ 29  30]\n",
            " [ 31  34]\n",
            " [ 31  35]\n",
            " [ 31  38]\n",
            " [ 31  53]\n",
            " [ 32  39]\n",
            " [ 32  45]\n",
            " [ 33  44]\n",
            " [ 36  37]\n",
            " [ 36  40]\n",
            " [ 37  52]\n",
            " [ 39  40]\n",
            " [ 39  41]\n",
            " [ 40  42]\n",
            " [ 41  44]\n",
            " [ 41  46]\n",
            " [ 42  43]\n",
            " [ 42  47]\n",
            " [ 43  44]\n",
            " [ 43  49]\n",
            " [ 45  48]\n",
            " [ 45  54]\n",
            " [ 45  55]\n",
            " [ 46  48]\n",
            " [ 47  50]\n",
            " [ 49  51]\n",
            " [ 50  51]\n",
            " [ 52  56]\n",
            " [ 52  57]\n",
            " [ 53  58]\n",
            " [ 53  59]\n",
            " [ 56  58]\n",
            " [ 57  59]\n",
            " [ 62  85]\n",
            " [ 63  69]\n",
            " [ 64  74]\n",
            " [ 65  67]\n",
            " [ 65  68]\n",
            " [ 65  69]\n",
            " [ 66  68]\n",
            " [ 66  71]\n",
            " [ 67  74]\n",
            " [ 68  72]\n",
            " [ 69  70]\n",
            " [ 70  71]\n",
            " [ 70  73]\n",
            " [ 71  75]\n",
            " [ 72  77]\n",
            " [ 72  78]\n",
            " [ 73  79]\n",
            " [ 74  76]\n",
            " [ 75  80]\n",
            " [ 76  81]\n",
            " [ 76  82]\n",
            " [ 77  83]\n",
            " [ 78  84]\n",
            " [ 79  80]\n",
            " [ 81  87]\n",
            " [ 82  88]\n",
            " [ 83  86]\n",
            " [ 84  86]\n",
            " [ 85  87]\n",
            " [ 85  88]\n",
            " [ 93 103]\n",
            " [ 93 106]\n",
            " [ 94  97]\n",
            " [ 94  98]\n",
            " [ 95  97]\n",
            " [ 95  99]\n",
            " [ 96 100]\n",
            " [ 96 106]\n",
            " [ 97 100]\n",
            " [ 98  99]\n",
            " [ 98 101]\n",
            " [ 99 102]\n",
            " [100 103]\n",
            " [101 104]\n",
            " [102 105]\n",
            " [104 105]]\n",
            "node2grah\n",
            "[0 0 0 0 0 0 0 0 0 0 0 0 0 0 0 0 0 0 0 0 0 0 0 0 0 0 0 0 0 0 0 1 1 1 1 1 1\n",
            " 1 1 1 1 1 1 1 1 1 1 1 1 1 1 1 1 1 1 1 1 1 1 1 1 1 2 2 2 2 2 2 2 2 2 2 2 2\n",
            " 2 2 2 2 2 2 2 2 2 2 2 2 2 2 2 2 2 2 2 3 3 3 3 3 3 3 3 3 3 3 3 3 3 3 3 3 3\n",
            " 3 3 3 3 3 3 3 3 3 3 3 3 3]\n",
            "label [0 0 0 0]\n"
          ]
        }
      ],
      "source": [
        "# showing one batch:\n",
        "for train_batch in gen_batch(X, batch_size=4):\n",
        "    for k,v in train_batch[0].items():\n",
        "        print(k)\n",
        "        print(v)\n",
        "        pass\n",
        "    print('label', train_batch[1])\n",
        "    break"
      ]
    },
    {
      "cell_type": "markdown",
      "source": [
        "# The First Trail\n",
        "#GNN\n",
        "GNNs are particularly useful in scenarios where the data is structured as a graph, which consists of nodes and edges that connect them. GNNs can learn to effectively capture information from the graph structure, such as local and global relationships between nodes, and use this information to make predictions or perform other tasks.\n",
        "\n"
      ],
      "metadata": {
        "id": "0xRbG0ZQZT0J"
      }
    },
    {
      "cell_type": "markdown",
      "source": [
        "GNNs can be a powerful tool for anti-cancer activity prediction, leveraging the structure of molecular and drug interaction networks to identify potential therapeutics.\n",
        "we will check that:\n",
        "\n"
      ],
      "metadata": {
        "id": "2RVgwobtZ5gp"
      }
    },
    {
      "cell_type": "markdown",
      "source": [
        "`I have no expectation how it will perform`\n"
      ],
      "metadata": {
        "id": "cvt-k7xVYI2q"
      }
    },
    {
      "cell_type": "code",
      "execution_count": null,
      "metadata": {
        "id": "j_DXT5IAT0Rd",
        "colab": {
          "base_uri": "https://localhost:8080/"
        },
        "outputId": "a8e100b6-105c-49fd-bf50-17f11a4245a0"
      },
      "outputs": [
        {
          "output_type": "stream",
          "name": "stdout",
          "text": [
            "\u001b[?25l     \u001b[90m━━━━━━━━━━━━━━━━━━━━━━━━━━━━━━━━━━━━━━━━\u001b[0m \u001b[32m0.0/54.9 kB\u001b[0m \u001b[31m?\u001b[0m eta \u001b[36m-:--:--\u001b[0m\r\u001b[2K     \u001b[90m━━━━━━━━━━━━━━━━━━━━━━━━━━━━━━━━━━━━━━━━\u001b[0m \u001b[32m54.9/54.9 kB\u001b[0m \u001b[31m6.3 MB/s\u001b[0m eta \u001b[36m0:00:00\u001b[0m\n",
            "\u001b[?25h  Preparing metadata (setup.py) ... \u001b[?25l\u001b[?25hdone\n",
            "\u001b[2K     \u001b[90m━━━━━━━━━━━━━━━━━━━━━━━━━━━━━━━━━━━━━━━━\u001b[0m \u001b[32m73.3/73.3 kB\u001b[0m \u001b[31m7.3 MB/s\u001b[0m eta \u001b[36m0:00:00\u001b[0m\n",
            "\u001b[2K     \u001b[90m━━━━━━━━━━━━━━━━━━━━━━━━━━━━━━━━━━━━━━\u001b[0m \u001b[32m135.5/135.5 kB\u001b[0m \u001b[31m15.9 MB/s\u001b[0m eta \u001b[36m0:00:00\u001b[0m\n",
            "\u001b[2K     \u001b[90m━━━━━━━━━━━━━━━━━━━━━━━━━━━━━━━━━━━━━━━━\u001b[0m \u001b[32m1.3/1.3 MB\u001b[0m \u001b[31m62.1 MB/s\u001b[0m eta \u001b[36m0:00:00\u001b[0m\n",
            "\u001b[2K     \u001b[90m━━━━━━━━━━━━━━━━━━━━━━━━━━━━━━━━━━━━━━\u001b[0m \u001b[32m388.0/388.0 kB\u001b[0m \u001b[31m16.0 MB/s\u001b[0m eta \u001b[36m0:00:00\u001b[0m\n",
            "\u001b[?25h  Preparing metadata (setup.py) ... \u001b[?25l\u001b[?25hdone\n",
            "\u001b[2K     \u001b[90m━━━━━━━━━━━━━━━━━━━━━━━━━━━━━━━━━━━━━━━━\u001b[0m \u001b[32m90.0/90.0 kB\u001b[0m \u001b[31m9.9 MB/s\u001b[0m eta \u001b[36m0:00:00\u001b[0m\n",
            "\u001b[2K     \u001b[90m━━━━━━━━━━━━━━━━━━━━━━━━━━━━━━━━━━━━━━\u001b[0m \u001b[32m173.9/173.9 kB\u001b[0m \u001b[31m19.0 MB/s\u001b[0m eta \u001b[36m0:00:00\u001b[0m\n",
            "\u001b[2K     \u001b[90m━━━━━━━━━━━━━━━━━━━━━━━━━━━━━━━━━━━━━━━━\u001b[0m \u001b[32m41.7/41.7 kB\u001b[0m \u001b[31m4.9 MB/s\u001b[0m eta \u001b[36m0:00:00\u001b[0m\n",
            "\u001b[?25h  Building wheel for tf2_gnn (setup.py) ... \u001b[?25l\u001b[?25hdone\n",
            "  Building wheel for docopt (setup.py) ... \u001b[?25l\u001b[?25hdone\n"
          ]
        }
      ],
      "source": [
        "!pip install --quiet tf2_gnn\n",
        "\n",
        "# https://github.com/microsoft/tf2-gnn\n",
        "# https://github.com/microsoft/tf2-gnn/blob/master/tf2_gnn/layers/gnn.py\n",
        "\n",
        "from tf2_gnn.layers.gnn import GNN, GNNInput"
      ]
    },
    {
      "cell_type": "code",
      "execution_count": null,
      "metadata": {
        "id": "4OfkRc9dT0Rd",
        "colab": {
          "base_uri": "https://localhost:8080/"
        },
        "outputId": "1f491873-4949-474a-c869-1032761539f5"
      },
      "outputs": [
        {
          "output_type": "stream",
          "name": "stdout",
          "text": [
            "gnn_out KerasTensor(type_spec=TensorSpec(shape=(None, 32), dtype=tf.float32, name=None), name='gnn/StatefulPartitionedCall:0', description=\"created by layer 'gnn'\")\n",
            "mean: KerasTensor(type_spec=TensorSpec(shape=(None, 32), dtype=tf.float32, name=None), name='tf.math.segment_mean/SegmentMean:0', description=\"created by layer 'tf.math.segment_mean'\")\n",
            "pred: KerasTensor(type_spec=TensorSpec(shape=(None, 1), dtype=tf.float32, name=None), name='dense/Sigmoid:0', description=\"created by layer 'dense'\")\n",
            "Model: \"model\"\n",
            "__________________________________________________________________________________________________\n",
            " Layer (type)                   Output Shape         Param #     Connected to                     \n",
            "==================================================================================================\n",
            " input_3 (InputLayer)           [(None,)]            0           []                               \n",
            "                                                                                                  \n",
            " input_1 (InputLayer)           [(None,)]            0           []                               \n",
            "                                                                                                  \n",
            " tf.math.reduce_max (TFOpLambda  ()                  0           ['input_3[0][0]']                \n",
            " )                                                                                                \n",
            "                                                                                                  \n",
            " embedding (Embedding)          (None, 20)           10000       ['input_1[0][0]']                \n",
            "                                                                                                  \n",
            " input_2 (InputLayer)           [(None, 2)]          0           []                               \n",
            "                                                                                                  \n",
            " tf.__operators__.add (TFOpLamb  ()                  0           ['tf.math.reduce_max[0][0]']     \n",
            " da)                                                                                              \n",
            "                                                                                                  \n",
            " gnn (GNN)                      (None, 32)           22464       ['embedding[0][0]',              \n",
            "                                                                  'input_2[0][0]',                \n",
            "                                                                  'input_3[0][0]',                \n",
            "                                                                  'tf.__operators__.add[0][0]']   \n",
            "                                                                                                  \n",
            " tf.math.segment_mean (TFOpLamb  (None, 32)          0           ['gnn[0][0]',                    \n",
            " da)                                                              'input_3[0][0]']                \n",
            "                                                                                                  \n",
            " dense (Dense)                  (None, 1)            33          ['tf.math.segment_mean[0][0]']   \n",
            "                                                                                                  \n",
            "==================================================================================================\n",
            "Total params: 32,497\n",
            "Trainable params: 32,497\n",
            "Non-trainable params: 0\n",
            "__________________________________________________________________________________________________\n"
          ]
        }
      ],
      "source": [
        "#Import the necessary modules\n",
        "import tensorflow as tf\n",
        "from tensorflow.math import segment_mean\n",
        "from tensorflow import keras\n",
        "from tensorflow.keras import Input, Model\n",
        "from tensorflow.keras.layers import Embedding, Dense\n",
        "from tensorflow.keras.optimizers import Adam\n",
        "\n",
        "#Define the input for the node features (a batch of sequences of tokens)\n",
        "data = keras.Input(batch_shape=(None,))\n",
        "\n",
        "# the first dim is different to the previous one. it is the total number of edges in this batch\n",
        "edge = keras.Input(batch_shape=(None, 2), dtype=tf.int32)\n",
        "node2graph = keras.Input(batch_shape=(None,), dtype=tf.int32)\n",
        "embeded = Embedding(tokenizer.num_words, 20)(data)\n",
        "\n",
        "# number of graphs (number of samples)\n",
        "# Compute the maximum graph index in the node2graph array\n",
        "num_graph = tf.reduce_max(node2graph)+1\n",
        "\n",
        "# Create a GNNInput object that contains the node features, adjacency lists,\n",
        "# node to graph map, and number of graphs\n",
        "gnn_input = GNNInput(\n",
        "    node_features=embeded,\n",
        "    adjacency_lists=(edge,),\n",
        "    node_to_graph_map=node2graph, \n",
        "    num_graphs=num_graph,\n",
        ")\n",
        "\n",
        "\n",
        "# Get the default hyperparameters for the GNN model and set the hidden dimension to 32\n",
        "params = GNN.get_default_hyperparameters()\n",
        "params[\"hidden_dim\"] = 32\n",
        "\n",
        "# Create a GNN layer with the given parameters\n",
        "gnn_layer = GNN(params)\n",
        "# Apply the GNN layer to the input and get the output node representations\n",
        "gnn_out = gnn_layer(gnn_input)\n",
        "\n",
        "# Print the shape and values of gnn_out\n",
        "print('gnn_out', gnn_out)\n",
        "\n",
        "# Compute the mean of the node representations for each graph using segment_mean\n",
        "avg = segment_mean(\n",
        "    data=gnn_out,\n",
        "    segment_ids=node2graph\n",
        ")\n",
        "\n",
        "# Print the shape and values of avg\n",
        "print('mean:', avg)\n",
        "\n",
        "pred = Dense(1, activation='sigmoid')(avg)\n",
        "print('pred:', pred)\n",
        "\n",
        "model = Model(\n",
        "    inputs={\n",
        "        'data': data,\n",
        "        'edges': edge,\n",
        "        'node2grah': node2graph,\n",
        "    },\n",
        "    outputs=pred\n",
        ")\n",
        "model.summary()"
      ]
    },
    {
      "cell_type": "code",
      "execution_count": null,
      "metadata": {
        "id": "rx7Q0AQ6T0Rd"
      },
      "outputs": [],
      "source": [
        "#Set up the model for binary classification with BinaryCrossentropy loss and AUC metric\n",
        "model.compile(\n",
        "    loss='BinaryCrossentropy',\n",
        "    metrics=['AUC']\n",
        ")"
      ]
    },
    {
      "cell_type": "code",
      "execution_count": null,
      "metadata": {
        "id": "R7Nn3DpJT0Rd",
        "colab": {
          "base_uri": "https://localhost:8080/"
        },
        "outputId": "d23f4682-95da-4db6-ab49-45861dfdbfb4"
      },
      "outputs": [
        {
          "output_type": "stream",
          "name": "stdout",
          "text": [
            "Epoch 1/5\n",
            "1330/1330 [==============================] - 48s 32ms/step - loss: 0.2286 - auc: 0.5057 - val_loss: 0.2021 - val_auc: 0.6234\n",
            "Epoch 2/5\n",
            "1330/1330 [==============================] - 24s 18ms/step - loss: 0.1931 - auc: 0.6186 - val_loss: 0.1923 - val_auc: 0.6978\n",
            "Epoch 3/5\n",
            "1330/1330 [==============================] - 25s 19ms/step - loss: 0.1895 - auc: 0.6439 - val_loss: 0.1912 - val_auc: 0.7121\n",
            "Epoch 4/5\n",
            "1330/1330 [==============================] - 28s 21ms/step - loss: 0.1878 - auc: 0.6519 - val_loss: 0.1872 - val_auc: 0.7148\n",
            "Epoch 5/5\n",
            "1330/1330 [==============================] - 41s 31ms/step - loss: 0.1867 - auc: 0.6603 - val_loss: 0.1903 - val_auc: 0.7261\n"
          ]
        },
        {
          "output_type": "execute_result",
          "data": {
            "text/plain": [
              "<keras.callbacks.History at 0x7f6672319f10>"
            ]
          },
          "metadata": {},
          "execution_count": 14
        }
      ],
      "source": [
        "#Train the model for 5 epochs using a custom data generator and batch size of 16\n",
        "import math\n",
        "\n",
        "batch_size = 16\n",
        "num_batchs = math.ceil(len(X) / batch_size)\n",
        "num_batchs_validation = math.ceil(len(Y) / batch_size)\n",
        "\n",
        "model.fit(\n",
        "    gen_batch(\n",
        "        X, batch_size=batch_size, repeat=True\n",
        "    ),\n",
        "    steps_per_epoch=num_batchs,\n",
        "    epochs=5,\n",
        "    validation_data=gen_batch(\n",
        "        Y, batch_size=16, repeat=True\n",
        "    ),\n",
        "    validation_steps=num_batchs_validation,\n",
        ")"
      ]
    },
    {
      "cell_type": "markdown",
      "source": [
        "## Predition\n",
        "\n",
        "We can use the model to predict the testing samples."
      ],
      "metadata": {
        "id": "FdVbNitNBynm"
      }
    },
    {
      "cell_type": "code",
      "execution_count": null,
      "metadata": {
        "id": "4q580E1JT0Re",
        "colab": {
          "base_uri": "https://localhost:8080/"
        },
        "outputId": "0b9fbd89-0796-44b7-fb9e-8051315ac15d"
      },
      "outputs": [
        {
          "output_type": "stream",
          "name": "stdout",
          "text": [
            "771/771 [==============================] - 6s 7ms/step\n"
          ]
        }
      ],
      "source": [
        "# Use the model to make predictions on the test data\n",
        "# The test data is generated in batches of 16 and not shuffled\n",
        "y_pred = model.predict(\n",
        "    gen_batch(test, batch_size=16, shuffle=False)\n",
        ")\n",
        "# Reshape the predictions to a one-dimensional array\n",
        "y_pred = np.reshape(y_pred, -1)"
      ]
    },
    {
      "cell_type": "code",
      "execution_count": null,
      "metadata": {
        "id": "WnIKNqaaT0Re",
        "colab": {
          "base_uri": "https://localhost:8080/"
        },
        "outputId": "1b653813-2529-4a6d-fee6-b8b2b78200f5"
      },
      "outputs": [
        {
          "output_type": "execute_result",
          "data": {
            "text/plain": [
              "12326"
            ]
          },
          "metadata": {},
          "execution_count": 16
        }
      ],
      "source": [
        "len(y_pred)"
      ]
    },
    {
      "cell_type": "code",
      "execution_count": null,
      "metadata": {
        "id": "LPfRybLoT0Re"
      },
      "outputs": [],
      "source": [
        "#  (if for kaggle competition and it is about genre prediction)\n",
        "import pandas as pd \n",
        "submission = pd.DataFrame({'label':y_pred})\n",
        "submission.index.name = 'id'\n",
        "submission.to_csv('sample_submission.csv')"
      ]
    },
    {
      "cell_type": "markdown",
      "source": [
        "This trail get score 0.71461 on Kaggle.\n",
        "`it's not bad there is no overfitting or underfitting.`"
      ],
      "metadata": {
        "id": "inoLVU8xaet9"
      }
    },
    {
      "cell_type": "markdown",
      "source": [
        "#The Secound Trail\n",
        "#RGCN\n",
        "\n",
        "RGCN, or Relational Graph Convolution Network , is a type of Graph Neural Network (GNN) that can be used for modeling relational data. Specifically, RGCNs can be used for link prediction and recommendation systems, where the goal is to predict the presence or absence of a connection between two entities in a graph.\n",
        "\n",
        "may require experimentation and testing to determine the most effective approach. \n",
        "\n",
        "RGCNs can be used to predict the efficacy of potential drugs based on their molecular structures and relationships with biological targets. By analyzing the graph structure of the relationship network between drugs, molecular structures, and biological targets, RGCNs can learn to extract features that are important in predicting the anti-cancer activity of compounds.\n",
        "\n",
        "RGCNs can provide a powerful tool for anti-cancer activity prediction by leveraging the structure of relational data and identifying key features and relationships that are important in predicting cancer outcomes, an RGCN model could be a suitable choice\n"
      ],
      "metadata": {
        "id": "RWqhyBRPawVY"
      }
    },
    {
      "cell_type": "markdown",
      "source": [
        "`I expect the performance will be better than the previous trail.`\n"
      ],
      "metadata": {
        "id": "bQLVypyzY21k"
      }
    },
    {
      "cell_type": "code",
      "execution_count": null,
      "metadata": {
        "id": "FR0m_1sAcVOr",
        "colab": {
          "base_uri": "https://localhost:8080/"
        },
        "outputId": "439b820f-cad7-4a43-aced-a3391109c8e5"
      },
      "outputs": [
        {
          "output_type": "stream",
          "name": "stdout",
          "text": [
            "rgcn_out KerasTensor(type_spec=TensorSpec(shape=(None, 64), dtype=tf.float32, name=None), name='gnn_2/StatefulPartitionedCall:0', description=\"created by layer 'gnn_2'\")\n",
            "mean: KerasTensor(type_spec=TensorSpec(shape=(None, 64), dtype=tf.float32, name=None), name='tf.math.segment_mean_2/SegmentMean:0', description=\"created by layer 'tf.math.segment_mean_2'\")\n",
            "pred: KerasTensor(type_spec=TensorSpec(shape=(None, 1), dtype=tf.float32, name=None), name='dense_2/Sigmoid:0', description=\"created by layer 'dense_2'\")\n",
            "Model: \"model_2\"\n",
            "__________________________________________________________________________________________________\n",
            " Layer (type)                   Output Shape         Param #     Connected to                     \n",
            "==================================================================================================\n",
            " input_15 (InputLayer)          [(None,)]            0           []                               \n",
            "                                                                                                  \n",
            " input_13 (InputLayer)          [(None,)]            0           []                               \n",
            "                                                                                                  \n",
            " tf.math.reduce_max_3 (TFOpLamb  ()                  0           ['input_15[0][0]']               \n",
            " da)                                                                                              \n",
            "                                                                                                  \n",
            " embedding_4 (Embedding)        (None, 20)           10000       ['input_13[0][0]']               \n",
            "                                                                                                  \n",
            " input_14 (InputLayer)          [(None, 2)]          0           []                               \n",
            "                                                                                                  \n",
            " tf.__operators__.add_3 (TFOpLa  ()                  0           ['tf.math.reduce_max_3[0][0]']   \n",
            " mbda)                                                                                            \n",
            "                                                                                                  \n",
            " gnn_2 (GNN)                    (None, 64)           71552       ['embedding_4[0][0]',            \n",
            "                                                                  'input_14[0][0]',               \n",
            "                                                                  'input_15[0][0]',               \n",
            "                                                                  'tf.__operators__.add_3[0][0]'] \n",
            "                                                                                                  \n",
            " tf.math.segment_mean_2 (TFOpLa  (None, 64)          0           ['gnn_2[0][0]',                  \n",
            " mbda)                                                            'input_15[0][0]']               \n",
            "                                                                                                  \n",
            " dense_2 (Dense)                (None, 1)            65          ['tf.math.segment_mean_2[0][0]'] \n",
            "                                                                                                  \n",
            "==================================================================================================\n",
            "Total params: 81,617\n",
            "Trainable params: 81,617\n",
            "Non-trainable params: 0\n",
            "__________________________________________________________________________________________________\n"
          ]
        }
      ],
      "source": [
        "#Import the necessary modules\n",
        "\n",
        "import tensorflow as tf\n",
        "from tensorflow.keras.layers import Input, Embedding, Dense, Lambda\n",
        "from tensorflow.keras.optimizers import Adam\n",
        "from tensorflow.keras.models import Model\n",
        "\n",
        "#Define the input for the node features (a batch of sequences of tokens)\n",
        "data = Input(batch_shape=(None,))\n",
        "\n",
        "# the first dim is different to the previous one. it is the total number of edges in this batch\n",
        "edge_index = Input(batch_shape=(None, 2),  dtype=tf.int32)\n",
        "node2graph = Input(batch_shape=(None,), dtype=tf.int32)\n",
        "embeded = Embedding(tokenizer.num_words, 20)(data)\n",
        "\n",
        "# number of graphs (number of samples)\n",
        "num_graph = tf.reduce_max(node2graph)+1\n",
        "\n",
        "# Define the RGCN layer\n",
        "rgcn_input = GNNInput( \n",
        "    node_features=embeded,\n",
        "    adjacency_lists=(edge_index,),\n",
        "    node_to_graph_map=node2graph,\n",
        "    num_graphs=num_graph, \n",
        ")\n",
        "\n",
        "\n",
        "\n",
        "#Get the default hyperparameters for the GNN model and set the hidden dimension to 64\n",
        "\n",
        "params1 = GNN.get_default_hyperparameters()\n",
        "params1[\"hidden_dim\"] = 64\n",
        "params1[\"num_aggr_MLP_HIDDEN_LAYERS\"] = 32\n",
        "params1['message_calculation_class']= 'RGCN'\n",
        "\n",
        "#Create a RGCN layer with the given parameters\n",
        "\n",
        "rgcn_layer = GNN(params1)\n",
        "\n",
        "#Apply the RGCN layer to the input and get the output node representations\n",
        "rgcn_out = rgcn_layer(rgcn_input)\n",
        "\n",
        "#Print the shape and values of rgcn_out\n",
        "print('rgcn_out', rgcn_out)\n",
        "\n",
        "#Compute the mean of the node representations for each graph using segment_mean\n",
        "avg = segment_mean(\n",
        "    data=rgcn_out,\n",
        "    segment_ids=node2graph\n",
        ")\n",
        "\n",
        "#Print the shape and values of avg\n",
        "print('mean:', avg)\n",
        "\n",
        "\n",
        "#Apply a dense layer with sigmoid activation to get the prediction for each graph\n",
        "pred1 = Dense(1, activation='sigmoid')(avg)\n",
        "print('pred:', pred1)\n",
        "\n",
        "#Define the model with inputs and outputs\n",
        "model1 = Model(\n",
        "    inputs={\n",
        "        'data': data,\n",
        "        'edges': edge_index,\n",
        "        'node2grah': node2graph,\n",
        "    },\n",
        "    outputs=pred1\n",
        ")\n",
        "model1.summary()\n"
      ]
    },
    {
      "cell_type": "code",
      "execution_count": null,
      "metadata": {
        "id": "fSKrA67IcVOy"
      },
      "outputs": [],
      "source": [
        "#Set up the model for binary classification with BinaryCrossentropy loss and AUC metric\n",
        "model1.compile(\n",
        "    loss='BinaryCrossentropy',\n",
        "    metrics=['AUC']\n",
        ")"
      ]
    },
    {
      "cell_type": "code",
      "execution_count": null,
      "metadata": {
        "id": "AdECYIaHcVOy",
        "colab": {
          "base_uri": "https://localhost:8080/"
        },
        "outputId": "e0b2ba16-876e-4b21-d859-a6358f4f5189"
      },
      "outputs": [
        {
          "output_type": "stream",
          "name": "stdout",
          "text": [
            "Epoch 1/15\n",
            "665/665 [==============================] - 37s 56ms/step - loss: 0.1956 - auc: 0.6096 - val_loss: 0.2016 - val_auc: 0.6532\n",
            "Epoch 2/15\n",
            "665/665 [==============================] - 38s 57ms/step - loss: 0.1893 - auc: 0.6500 - val_loss: 0.1922 - val_auc: 0.6962\n",
            "Epoch 3/15\n",
            "665/665 [==============================] - 37s 55ms/step - loss: 0.1856 - auc: 0.6704 - val_loss: 0.1871 - val_auc: 0.7154\n",
            "Epoch 4/15\n",
            "665/665 [==============================] - 36s 54ms/step - loss: 0.1846 - auc: 0.6773 - val_loss: 0.1827 - val_auc: 0.7275\n",
            "Epoch 5/15\n",
            "665/665 [==============================] - 37s 55ms/step - loss: 0.1818 - auc: 0.6916 - val_loss: 0.2109 - val_auc: 0.7065\n",
            "Epoch 6/15\n",
            "665/665 [==============================] - 37s 55ms/step - loss: 0.1796 - auc: 0.7016 - val_loss: 0.1780 - val_auc: 0.7355\n",
            "Epoch 7/15\n",
            "665/665 [==============================] - 36s 54ms/step - loss: 0.1780 - auc: 0.7147 - val_loss: 0.1807 - val_auc: 0.7383\n",
            "Epoch 8/15\n",
            "665/665 [==============================] - 36s 55ms/step - loss: 0.1769 - auc: 0.7183 - val_loss: 0.1767 - val_auc: 0.7509\n",
            "Epoch 9/15\n",
            "665/665 [==============================] - 37s 55ms/step - loss: 0.1761 - auc: 0.7198 - val_loss: 0.1846 - val_auc: 0.7491\n",
            "Epoch 10/15\n",
            "665/665 [==============================] - 36s 53ms/step - loss: 0.1774 - auc: 0.7153 - val_loss: 0.1914 - val_auc: 0.7549\n",
            "Epoch 11/15\n",
            "665/665 [==============================] - 37s 56ms/step - loss: 0.1769 - auc: 0.7191 - val_loss: 0.1844 - val_auc: 0.7374\n",
            "Epoch 12/15\n",
            "665/665 [==============================] - 37s 55ms/step - loss: 0.1753 - auc: 0.7290 - val_loss: 0.1796 - val_auc: 0.7594\n",
            "Epoch 13/15\n",
            "665/665 [==============================] - 35s 53ms/step - loss: 0.1728 - auc: 0.7368 - val_loss: 0.1823 - val_auc: 0.7479\n",
            "Epoch 14/15\n",
            "665/665 [==============================] - 35s 53ms/step - loss: 0.1734 - auc: 0.7325 - val_loss: 0.1741 - val_auc: 0.7694\n",
            "Epoch 15/15\n",
            "665/665 [==============================] - 36s 54ms/step - loss: 0.1721 - auc: 0.7399 - val_loss: 0.1748 - val_auc: 0.7664\n"
          ]
        },
        {
          "output_type": "execute_result",
          "data": {
            "text/plain": [
              "<keras.callbacks.History at 0x7f66703970a0>"
            ]
          },
          "metadata": {},
          "execution_count": 28
        }
      ],
      "source": [
        "#Train the model for 15 epochs using a custom data generator and batch size of 32\n",
        "\n",
        "import math\n",
        "\n",
        "batch_size = 32\n",
        "num_batchs = math.ceil(len(X) / batch_size)\n",
        "num_batchs_validation = math.ceil(len(Y) / batch_size)\n",
        "\n",
        "model1.fit(\n",
        "    gen_batch(\n",
        "        X, batch_size=batch_size, repeat=True\n",
        "    ),\n",
        "    steps_per_epoch=num_batchs,\n",
        "    epochs=15,\n",
        "    validation_data=gen_batch(\n",
        "        Y, batch_size=32, repeat=True\n",
        "    ),\n",
        "    validation_steps=num_batchs_validation,\n",
        ")"
      ]
    },
    {
      "cell_type": "code",
      "execution_count": null,
      "metadata": {
        "id": "I--7SbwCcVOz",
        "colab": {
          "base_uri": "https://localhost:8080/"
        },
        "outputId": "3f365c87-c51c-4639-98f6-ab3645d55340"
      },
      "outputs": [
        {
          "output_type": "stream",
          "name": "stdout",
          "text": [
            "771/771 [==============================] - 9s 11ms/step\n"
          ]
        }
      ],
      "source": [
        "# Use the model to make predictions on the test data\n",
        "# The test data is generated in batches of 16 and not shuffled\n",
        "y_pred1 = model1.predict(\n",
        "    gen_batch(test, batch_size=16, shuffle=False)\n",
        ")\n",
        "# Reshape the predictions to a one-dimensional array\n",
        "y_pred1 = np.reshape(y_pred1, -1)"
      ]
    },
    {
      "cell_type": "code",
      "execution_count": null,
      "metadata": {
        "id": "jDa8atPvcVOz",
        "colab": {
          "base_uri": "https://localhost:8080/"
        },
        "outputId": "1a8079d2-c7da-443b-eca6-58dd99ea4fcb"
      },
      "outputs": [
        {
          "output_type": "execute_result",
          "data": {
            "text/plain": [
              "12326"
            ]
          },
          "metadata": {},
          "execution_count": 33
        }
      ],
      "source": [
        "len(y_pred1)"
      ]
    },
    {
      "cell_type": "code",
      "execution_count": null,
      "metadata": {
        "id": "leuDVuoOcVOz"
      },
      "outputs": [],
      "source": [
        "#  (if for kaggle competition and it is about genre prediction)\n",
        "import pandas as pd \n",
        "submission = pd.DataFrame({'label':y_pred1})\n",
        "submission.index.name = 'id'\n",
        "submission.to_csv('sample_submission1.csv')"
      ]
    },
    {
      "cell_type": "markdown",
      "source": [
        "This trail get score 0.76522 on Kaggle "
      ],
      "metadata": {
        "id": "PfRp6xDz2Ano"
      }
    },
    {
      "cell_type": "markdown",
      "source": [
        "`it's better than the previous trail and there is no overfitting or underfitting.`"
      ],
      "metadata": {
        "id": "SVEITrZVZKqp"
      }
    },
    {
      "cell_type": "markdown",
      "source": [
        "# The Third trail\n",
        "# RGAT\n",
        "\n",
        "\n",
        "*   The Relational Graph Attention Network (RGAT) is a type of graph neural network (GNN) that is used for processing relationships between entities in a graph. \n",
        "\n",
        "*   RGATs are specifically designed to address the limitations of previous GNNs, such as the Graph Convolutional Network (GCN), which only consider a fixed edge weight for all nodes. RGATs model the relationships between pairs of nodes as edge weights and then use attention mechanisms to weigh these relationships, allowing the network to learn which relationships are most important for a given task.\n",
        "\n",
        "*   The main advantages of using RGAT over other GNNs include:\n",
        "\n",
        "      * Improved ability to capture complex dependencies in the graph\n",
        "\n",
        "      * Improved interpretability of the learned representation\n",
        "\n",
        "      * Improved performance on tasks that require reasoning about relationships between nodes\n",
        "*   Relational Graph Attention Network (RGAT) can be used for anti-cancer activity prediction by modeling relationships between entities such as molecular structures and biological activity using a graph. The RGAT architecture can learn to weigh relationships between entities, allowing it to capture complex dependencies in the graph and identify the most important relationships for predicting anti-cancer activity.\n",
        "*   RGAT could be a powerful tool for anti-cancer activity prediction, especially when the dependencies between molecular structures are complex and difficult to capture with traditional machine learning techniques.\n",
        "\n",
        "\n",
        "\n",
        "\n",
        "\n",
        "\n",
        "\n",
        "\n",
        "\n"
      ],
      "metadata": {
        "id": "kY_eOAzk2Ng2"
      }
    },
    {
      "cell_type": "markdown",
      "source": [
        "`I expect the performance will be better than the previous trails.`\n"
      ],
      "metadata": {
        "id": "XIWmUoqKZslT"
      }
    },
    {
      "cell_type": "code",
      "execution_count": null,
      "metadata": {
        "colab": {
          "base_uri": "https://localhost:8080/"
        },
        "outputId": "a114acdf-d21b-43aa-db4a-fa158da40804",
        "id": "DQ2IvtMZ4NA6"
      },
      "outputs": [
        {
          "output_type": "stream",
          "name": "stdout",
          "text": [
            "rgan_out KerasTensor(type_spec=TensorSpec(shape=(None, 64), dtype=tf.float32, name=None), name='gnn_4/StatefulPartitionedCall:0', description=\"created by layer 'gnn_4'\")\n",
            "mean: KerasTensor(type_spec=TensorSpec(shape=(None, 64), dtype=tf.float32, name=None), name='tf.math.segment_mean_3/SegmentMean:0', description=\"created by layer 'tf.math.segment_mean_3'\")\n",
            "pred: KerasTensor(type_spec=TensorSpec(shape=(None, 1), dtype=tf.float32, name=None), name='dense_3/Sigmoid:0', description=\"created by layer 'dense_3'\")\n",
            "Model: \"model_3\"\n",
            "__________________________________________________________________________________________________\n",
            " Layer (type)                   Output Shape         Param #     Connected to                     \n",
            "==================================================================================================\n",
            " input_21 (InputLayer)          [(None,)]            0           []                               \n",
            "                                                                                                  \n",
            " input_19 (InputLayer)          [(None,)]            0           []                               \n",
            "                                                                                                  \n",
            " tf.math.reduce_max_5 (TFOpLamb  ()                  0           ['input_21[0][0]']               \n",
            " da)                                                                                              \n",
            "                                                                                                  \n",
            " embedding_6 (Embedding)        (None, 20)           10000       ['input_19[0][0]']               \n",
            "                                                                                                  \n",
            " input_20 (InputLayer)          [(None, 2)]          0           []                               \n",
            "                                                                                                  \n",
            " tf.__operators__.add_5 (TFOpLa  ()                  0           ['tf.math.reduce_max_5[0][0]']   \n",
            " mbda)                                                                                            \n",
            "                                                                                                  \n",
            " gnn_4 (GNN)                    (None, 64)           72064       ['embedding_6[0][0]',            \n",
            "                                                                  'input_20[0][0]',               \n",
            "                                                                  'input_21[0][0]',               \n",
            "                                                                  'tf.__operators__.add_5[0][0]'] \n",
            "                                                                                                  \n",
            " tf.math.segment_mean_3 (TFOpLa  (None, 64)          0           ['gnn_4[0][0]',                  \n",
            " mbda)                                                            'input_21[0][0]']               \n",
            "                                                                                                  \n",
            " dense_3 (Dense)                (None, 1)            65          ['tf.math.segment_mean_3[0][0]'] \n",
            "                                                                                                  \n",
            "==================================================================================================\n",
            "Total params: 82,129\n",
            "Trainable params: 82,129\n",
            "Non-trainable params: 0\n",
            "__________________________________________________________________________________________________\n"
          ]
        }
      ],
      "source": [
        "#Define the input for the node features (a batch of sequences of tokens)\n",
        "data = Input(batch_shape=(None,))\n",
        "\n",
        "# the first dim is different to the previous one. it is the total number of edges in this batch\n",
        "edge_index = Input(batch_shape=(None, 2),  dtype=tf.int32)\n",
        "node2graph = Input(batch_shape=(None,), dtype=tf.int32)\n",
        "embeded = Embedding(tokenizer.num_words, 20)(data)\n",
        "\n",
        "# number of graphs (number of samples)\n",
        "num_graph = tf.reduce_max(node2graph)+1\n",
        "\n",
        "# Define the RGAT layer\n",
        "rgat_input = GNNInput( \n",
        "    node_features=embeded,\n",
        "    adjacency_lists=(edge_index,),\n",
        "    node_to_graph_map=node2graph,\n",
        "    num_graphs=num_graph, \n",
        ")\n",
        "\n",
        "\n",
        "#Get the default hyperparameters for the GNN model and set the hidden dimension to 64\n",
        "\n",
        "params2 = GNN.get_default_hyperparameters()\n",
        "params2[\"hidden_dim\"] = 64\n",
        "#Set the number of hidden layers for the aggregation MLP to 32\n",
        "params2[\"num_aggr_MLP_HIDDEN_LAYERS\"] = 32\n",
        "#Set the message calculation class to RGAT (Relational Graph Attention Network)\n",
        "params2['message_calculation_class']= 'RGAT'\n",
        "#Set the number of attention heads to 4\n",
        "params2['num_heads']= 4\n",
        "#Create a GNN layer with the given parameters\n",
        "rgat_layer = GNN(params2)\n",
        "#Apply the GNN layer to the input and get the output node representations\n",
        "rgat_out = rgat_layer(rgat_input)\n",
        "#Print the shape and values of rgat_out\n",
        "print('rgat_out', rgat_out)\n",
        "\n",
        "#Compute the mean of the node representations for each graph using segment_mean\n",
        "avg = segment_mean(\n",
        "    data=rgat_out,\n",
        "    segment_ids=node2graph\n",
        ")\n",
        "\n",
        "#Print the shape and values of avg\n",
        "print('mean:', avg)\n",
        "\n",
        "#Apply a dense layer with sigmoid activation to get the prediction for each graph\n",
        "pred2 = Dense(1, activation='sigmoid')(avg)\n",
        "print('pred:', pred2)\n",
        "\n",
        "#Define the model with inputs and outputs\n",
        "model2 = Model(\n",
        "    inputs={\n",
        "        'data': data,\n",
        "        'edges': edge_index,\n",
        "        'node2grah': node2graph,\n",
        "    },\n",
        "    outputs=pred2\n",
        ")\n",
        "model2.summary()\n"
      ]
    },
    {
      "cell_type": "code",
      "execution_count": null,
      "metadata": {
        "id": "Afer8mDh4NA7"
      },
      "outputs": [],
      "source": [
        "#Set up the model for binary classification with BinaryCrossentropy loss and AUC metric\n",
        "model2.compile(\n",
        "    loss='BinaryCrossentropy',\n",
        "    metrics=['AUC']\n",
        ")"
      ]
    },
    {
      "cell_type": "code",
      "execution_count": null,
      "metadata": {
        "colab": {
          "base_uri": "https://localhost:8080/"
        },
        "outputId": "0e092b0d-51a3-4f78-d0eb-313b8dcd9321",
        "id": "0bcjSzUo4NA7"
      },
      "outputs": [
        {
          "output_type": "stream",
          "name": "stdout",
          "text": [
            "Epoch 1/30\n",
            "665/665 [==============================] - 53s 80ms/step - loss: 0.1692 - auc: 0.7557 - val_loss: 0.1782 - val_auc: 0.7706\n",
            "Epoch 2/30\n",
            "665/665 [==============================] - 53s 80ms/step - loss: 0.1706 - auc: 0.7538 - val_loss: 0.1778 - val_auc: 0.7624\n",
            "Epoch 3/30\n",
            "665/665 [==============================] - 53s 80ms/step - loss: 0.1688 - auc: 0.7656 - val_loss: 0.1654 - val_auc: 0.7716\n",
            "Epoch 4/30\n",
            "665/665 [==============================] - 52s 79ms/step - loss: 0.1707 - auc: 0.7505 - val_loss: 0.1806 - val_auc: 0.7411\n",
            "Epoch 5/30\n",
            "665/665 [==============================] - 53s 80ms/step - loss: 0.1693 - auc: 0.7539 - val_loss: 0.1749 - val_auc: 0.7639\n",
            "Epoch 6/30\n",
            "665/665 [==============================] - 53s 80ms/step - loss: 0.1702 - auc: 0.7476 - val_loss: 0.2016 - val_auc: 0.7356\n",
            "Epoch 7/30\n",
            "665/665 [==============================] - 53s 80ms/step - loss: 0.1700 - auc: 0.7509 - val_loss: 0.1689 - val_auc: 0.7510\n",
            "Epoch 8/30\n",
            "665/665 [==============================] - 53s 79ms/step - loss: 0.1675 - auc: 0.7629 - val_loss: 0.1784 - val_auc: 0.7673\n",
            "Epoch 9/30\n",
            "665/665 [==============================] - 52s 79ms/step - loss: 0.1678 - auc: 0.7618 - val_loss: 0.1647 - val_auc: 0.7630\n",
            "Epoch 10/30\n",
            "665/665 [==============================] - 54s 81ms/step - loss: 0.1668 - auc: 0.7623 - val_loss: 0.1960 - val_auc: 0.7483\n",
            "Epoch 11/30\n",
            "665/665 [==============================] - 55s 82ms/step - loss: 0.1664 - auc: 0.7665 - val_loss: 0.1988 - val_auc: 0.7382\n",
            "Epoch 12/30\n",
            "665/665 [==============================] - 53s 80ms/step - loss: 0.1667 - auc: 0.7644 - val_loss: 0.1632 - val_auc: 0.7772\n",
            "Epoch 13/30\n",
            "665/665 [==============================] - 54s 82ms/step - loss: 0.1667 - auc: 0.7660 - val_loss: 0.1701 - val_auc: 0.7745\n",
            "Epoch 14/30\n",
            "665/665 [==============================] - 53s 80ms/step - loss: 0.1647 - auc: 0.7749 - val_loss: 0.1845 - val_auc: 0.7587\n",
            "Epoch 15/30\n",
            "665/665 [==============================] - 54s 82ms/step - loss: 0.1667 - auc: 0.7645 - val_loss: 0.1663 - val_auc: 0.7890\n",
            "Epoch 16/30\n",
            "665/665 [==============================] - 54s 82ms/step - loss: 0.1663 - auc: 0.7674 - val_loss: 0.1772 - val_auc: 0.7474\n",
            "Epoch 17/30\n",
            "665/665 [==============================] - 54s 81ms/step - loss: 0.1646 - auc: 0.7769 - val_loss: 0.1745 - val_auc: 0.7720\n",
            "Epoch 18/30\n",
            "665/665 [==============================] - 52s 78ms/step - loss: 0.1646 - auc: 0.7719 - val_loss: 0.2127 - val_auc: 0.7182\n",
            "Epoch 19/30\n",
            "665/665 [==============================] - 55s 82ms/step - loss: 0.1642 - auc: 0.7755 - val_loss: 0.1816 - val_auc: 0.7354\n",
            "Epoch 20/30\n",
            "665/665 [==============================] - 54s 82ms/step - loss: 0.1648 - auc: 0.7721 - val_loss: 0.1796 - val_auc: 0.7699\n",
            "Epoch 21/30\n",
            "665/665 [==============================] - 55s 83ms/step - loss: 0.1648 - auc: 0.7746 - val_loss: 0.1836 - val_auc: 0.7609\n",
            "Epoch 22/30\n",
            "665/665 [==============================] - 52s 79ms/step - loss: 0.1641 - auc: 0.7763 - val_loss: 0.1770 - val_auc: 0.7676\n",
            "Epoch 23/30\n",
            "665/665 [==============================] - 53s 79ms/step - loss: 0.1645 - auc: 0.7752 - val_loss: 0.1726 - val_auc: 0.7688\n",
            "Epoch 24/30\n",
            "665/665 [==============================] - 54s 81ms/step - loss: 0.1656 - auc: 0.7693 - val_loss: 0.1664 - val_auc: 0.7795\n",
            "Epoch 25/30\n",
            "665/665 [==============================] - 52s 79ms/step - loss: 0.1619 - auc: 0.7854 - val_loss: 0.1835 - val_auc: 0.7722\n",
            "Epoch 26/30\n",
            "665/665 [==============================] - 54s 82ms/step - loss: 0.1629 - auc: 0.7783 - val_loss: 0.1888 - val_auc: 0.7552\n",
            "Epoch 27/30\n",
            "665/665 [==============================] - 54s 81ms/step - loss: 0.1609 - auc: 0.7864 - val_loss: 0.1754 - val_auc: 0.7443\n",
            "Epoch 28/30\n",
            "665/665 [==============================] - 54s 82ms/step - loss: 0.1629 - auc: 0.7762 - val_loss: 0.1757 - val_auc: 0.7726\n",
            "Epoch 29/30\n",
            "665/665 [==============================] - 55s 82ms/step - loss: 0.1623 - auc: 0.7799 - val_loss: 0.1674 - val_auc: 0.7858\n",
            "Epoch 30/30\n",
            "665/665 [==============================] - 53s 80ms/step - loss: 0.1615 - auc: 0.7823 - val_loss: 0.1771 - val_auc: 0.7634\n"
          ]
        }
      ],
      "source": [
        "#Train the model for 30 epochs using a custom data generator and batch size of 32\n",
        "\n",
        "import math\n",
        "\n",
        "batch_size = 32\n",
        "num_batchs = math.ceil(len(X) / batch_size)\n",
        "num_batchs_validation = math.ceil(len(Y) / batch_size)\n",
        "\n",
        "history = model2.fit(\n",
        "    gen_batch(\n",
        "        X, batch_size=batch_size, repeat=True\n",
        "    ),\n",
        "    steps_per_epoch=num_batchs,\n",
        "    epochs=30,\n",
        "    validation_data=gen_batch(\n",
        "        Y, batch_size=50, repeat=True\n",
        "    ),\n",
        "    validation_steps=num_batchs_validation,\n",
        ")"
      ]
    },
    {
      "cell_type": "code",
      "execution_count": null,
      "metadata": {
        "colab": {
          "base_uri": "https://localhost:8080/"
        },
        "outputId": "9a5d98fc-6510-4c5c-8206-efd13c13d851",
        "id": "9NBi1uY74NA7"
      },
      "outputs": [
        {
          "output_type": "stream",
          "name": "stdout",
          "text": [
            "386/386 [==============================] - 9s 21ms/step\n"
          ]
        }
      ],
      "source": [
        "# Use the model to make predictions on the test data\n",
        "# The test data is generated in batches of 32 and not shuffled\n",
        "y_pred2 = model2.predict(\n",
        "    gen_batch(test, batch_size=32, shuffle=False)\n",
        ")\n",
        "# Reshape the predictions to a one-dimensional array\n",
        "y_pred2 = np.reshape(y_pred2, -1)"
      ]
    },
    {
      "cell_type": "code",
      "execution_count": null,
      "metadata": {
        "colab": {
          "base_uri": "https://localhost:8080/"
        },
        "outputId": "0dd0f97a-a0a7-47ce-c495-698d1d14ecb0",
        "id": "VXy6ydP64NA7"
      },
      "outputs": [
        {
          "output_type": "execute_result",
          "data": {
            "text/plain": [
              "12326"
            ]
          },
          "metadata": {},
          "execution_count": 40
        }
      ],
      "source": [
        "len(y_pred2)"
      ]
    },
    {
      "cell_type": "code",
      "execution_count": null,
      "metadata": {
        "id": "qfeyzTwk4NA8"
      },
      "outputs": [],
      "source": [
        "#  (if for kaggle competition and it is about genre prediction)\n",
        "import pandas as pd \n",
        "submission = pd.DataFrame({'label':y_pred2})\n",
        "submission.index.name = 'id'\n",
        "submission.to_csv('sample_submission2.csv')"
      ]
    },
    {
      "cell_type": "markdown",
      "source": [
        "This trail get score 0.77885 on Kaggle "
      ],
      "metadata": {
        "id": "DaOU8k7v4NA8"
      }
    },
    {
      "cell_type": "markdown",
      "source": [
        "`it's better than the previous trail and there is no overfitting or underfitting.`"
      ],
      "metadata": {
        "id": "VqHbh5_mZ1BZ"
      }
    },
    {
      "cell_type": "markdown",
      "source": [
        "#The Fourth trail\n",
        "#RGIN\n",
        "\n",
        "* a Relational Graph Isomorphism Network (RGIN) is a type of Graph Neural Network (GNN) that has a high discriminative power and can capture complex structural patterns in graphs. It is based on the idea of the Weisfeiler-Lehman test, which is a method to check if two graphs are isomorphic, i.e., have the same structure. A RGIN uses a simple aggregator function that updates the node features by adding the sum of the neighbor features and applying a nonlinear transformation. This way, it can preserve the node identity and distinguish between different graph structures. This way, it can preserve the node identity and distinguish between different graph structures.\n",
        "* We set the message calculation class to RGIN when we want to use this powerful GNN architecture for graph representation learning tasks, such as node classification, graph classification, or link prediction. RGIN can learn more expressive and informative node embeddings than other GNN models, such as GCN or GraphSAGE, which use more complex aggregators that may lose some structural information. RGIN can also handle graphs with different types of edges or relations, by using different weight matrices for each edge type.\n",
        "* RGIN can learn the structural and relational features of ACPs and their interactions with cancer cell membranes, and predict their anti-cancer activity based on their node embeddings. RGIN can also provide interpretable explanations for the predictions by highlighting the important nodes and edges that contribute to the anti-cancer activity of ACPs. \n",
        "\n",
        "\n"
      ],
      "metadata": {
        "id": "MTjr2GixEx8k"
      }
    },
    {
      "cell_type": "markdown",
      "source": [
        "`I have no expectations let's see what happens`"
      ],
      "metadata": {
        "id": "XGg_qZsTZ2hC"
      }
    },
    {
      "cell_type": "code",
      "execution_count": null,
      "metadata": {
        "colab": {
          "base_uri": "https://localhost:8080/"
        },
        "outputId": "d22d8fbe-cf72-4fb1-b4ee-ff575b939b23",
        "id": "Ib5Tad7yMroC"
      },
      "outputs": [
        {
          "output_type": "stream",
          "name": "stdout",
          "text": [
            "rgin_out KerasTensor(type_spec=TensorSpec(shape=(None, 64), dtype=tf.float32, name=None), name='gnn_2/StatefulPartitionedCall:0', description=\"created by layer 'gnn_2'\")\n",
            "mean: KerasTensor(type_spec=TensorSpec(shape=(None, 64), dtype=tf.float32, name=None), name='tf.math.segment_mean_2/SegmentMean:0', description=\"created by layer 'tf.math.segment_mean_2'\")\n",
            "pred: KerasTensor(type_spec=TensorSpec(shape=(None, 1), dtype=tf.float32, name=None), name='dense_2/Sigmoid:0', description=\"created by layer 'dense_2'\")\n",
            "Model: \"model_2\"\n",
            "__________________________________________________________________________________________________\n",
            " Layer (type)                   Output Shape         Param #     Connected to                     \n",
            "==================================================================================================\n",
            " input_9 (InputLayer)           [(None,)]            0           []                               \n",
            "                                                                                                  \n",
            " input_7 (InputLayer)           [(None,)]            0           []                               \n",
            "                                                                                                  \n",
            " tf.math.reduce_max_2 (TFOpLamb  ()                  0           ['input_9[0][0]']                \n",
            " da)                                                                                              \n",
            "                                                                                                  \n",
            " embedding_2 (Embedding)        (None, 20)           10000       ['input_7[0][0]']                \n",
            "                                                                                                  \n",
            " input_8 (InputLayer)           [(None, 2)]          0           []                               \n",
            "                                                                                                  \n",
            " tf.__operators__.add_2 (TFOpLa  ()                  0           ['tf.math.reduce_max_2[0][0]']   \n",
            " mbda)                                                                                            \n",
            "                                                                                                  \n",
            " gnn_2 (GNN)                    (None, 64)           1136512     ['embedding_2[0][0]',            \n",
            "                                                                  'input_8[0][0]',                \n",
            "                                                                  'input_9[0][0]',                \n",
            "                                                                  'tf.__operators__.add_2[0][0]'] \n",
            "                                                                                                  \n",
            " tf.math.segment_mean_2 (TFOpLa  (None, 64)          0           ['gnn_2[0][0]',                  \n",
            " mbda)                                                            'input_9[0][0]']                \n",
            "                                                                                                  \n",
            " dense_2 (Dense)                (None, 1)            65          ['tf.math.segment_mean_2[0][0]'] \n",
            "                                                                                                  \n",
            "==================================================================================================\n",
            "Total params: 1,146,577\n",
            "Trainable params: 1,146,577\n",
            "Non-trainable params: 0\n",
            "__________________________________________________________________________________________________\n"
          ]
        }
      ],
      "source": [
        "#Define the input for the node features (a batch of sequences of tokens)\n",
        "data = Input(batch_shape=(None,))\n",
        "\n",
        "# the first dim is different to the previous one. it is the total number of edges in this batch\n",
        "edge_index = Input(batch_shape=(None, 2),  dtype=tf.int32)\n",
        "node2graph = Input(batch_shape=(None,), dtype=tf.int32)\n",
        "embeded = Embedding(tokenizer.num_words, 20)(data)\n",
        "\n",
        "# number of graphs (number of samples)\n",
        "num_graph = tf.reduce_max(node2graph)+1\n",
        "\n",
        "# Define the RGIN layer\n",
        "rgin_input = GNNInput( \n",
        "    node_features=embeded,\n",
        "    adjacency_lists=(edge_index,),\n",
        "    node_to_graph_map=node2graph,\n",
        "    num_graphs=num_graph, \n",
        ")\n",
        "\n",
        "#Get the default hyperparameters for the GNN model and set the hidden dimension to 64\n",
        "params3 = GNN.get_default_hyperparameters()\n",
        "params3[\"hidden_dim\"] = 64\n",
        "#Set the number of hidden layers for the aggregation MLP to 64\n",
        "params3[\"num_aggr_MLP_hidden_layers\"] = 64\n",
        "#Set the message calculation class to RGIN (Relational Graph Isomorphism Network)\n",
        "params3['message_calculation_class']= 'RGIN'\n",
        "\n",
        "#Create a GNN layer with the given parameters\n",
        "rgin_layer = GNN(params3)\n",
        "\n",
        "#Apply the GNN layer to the input and get the output node representations\n",
        "rgin_out = rgin_layer(rgin_input)\n",
        "\n",
        "#Print the shape and values of rgin_out\n",
        "print('rgin_out', rgin_out)\n",
        "\n",
        "#Compute the mean of the node representations for each graph using segment_mean\n",
        "avg = segment_mean(\n",
        "    data=rgin_out,\n",
        "    segment_ids=node2graph\n",
        ")\n",
        "\n",
        "#Print the shape and values of avg\n",
        "print('mean:', avg)\n",
        "\n",
        "\n",
        "#Apply a dense layer with sigmoid activation to get the prediction for each graph\n",
        "pred3 = Dense(1, activation='sigmoid')(avg)\n",
        "print('pred:', pred3)\n",
        "\n",
        "#Define the model with inputs and outputs\n",
        "model3 = Model(\n",
        "    inputs={\n",
        "        'data': data,\n",
        "        'edges': edge_index,\n",
        "        'node2grah': node2graph,\n",
        "    },\n",
        "    outputs=pred3\n",
        ")\n",
        "model3.summary()\n"
      ]
    },
    {
      "cell_type": "code",
      "execution_count": null,
      "metadata": {
        "id": "QNYiEXEmMroD"
      },
      "outputs": [],
      "source": [
        "#Set up the model for binary classification with BinaryCrossentropy loss and AUC metric\n",
        "model3.compile(\n",
        "    loss='BinaryCrossentropy',\n",
        "    metrics=['AUC']\n",
        ")"
      ]
    },
    {
      "cell_type": "code",
      "execution_count": null,
      "metadata": {
        "colab": {
          "base_uri": "https://localhost:8080/"
        },
        "outputId": "8a7a479c-b8e8-4cca-a9bd-f9bfb92efaa5",
        "id": "YvQ0tFUDMroE"
      },
      "outputs": [
        {
          "output_type": "stream",
          "name": "stdout",
          "text": [
            "Epoch 1/30\n",
            "665/665 [==============================] - 39s 59ms/step - loss: 0.5582 - auc: 0.5033 - val_loss: 0.4519 - val_auc: 0.5000\n",
            "Epoch 2/30\n",
            "665/665 [==============================] - 34s 51ms/step - loss: 0.3652 - auc: 0.5060 - val_loss: 0.3123 - val_auc: 0.5000\n",
            "Epoch 3/30\n",
            "665/665 [==============================] - 31s 47ms/step - loss: 0.2576 - auc: 0.5027 - val_loss: 0.2443 - val_auc: 0.5000\n",
            "Epoch 4/30\n",
            "665/665 [==============================] - 32s 49ms/step - loss: 0.2090 - auc: 0.5109 - val_loss: 0.2228 - val_auc: 0.5000\n",
            "Epoch 5/30\n",
            "665/665 [==============================] - 32s 47ms/step - loss: 0.1941 - auc: 0.4825 - val_loss: 0.2158 - val_auc: 0.5000\n",
            "Epoch 6/30\n",
            "665/665 [==============================] - 32s 49ms/step - loss: 0.1909 - auc: 0.4992 - val_loss: 0.2205 - val_auc: 0.5000\n",
            "Epoch 7/30\n",
            "665/665 [==============================] - 31s 47ms/step - loss: 0.1903 - auc: 0.4928 - val_loss: 0.2233 - val_auc: 0.5000\n",
            "Epoch 8/30\n",
            "665/665 [==============================] - 33s 50ms/step - loss: 0.1902 - auc: 0.5000 - val_loss: 0.2132 - val_auc: 0.5000\n",
            "Epoch 9/30\n",
            "665/665 [==============================] - 33s 50ms/step - loss: 0.1902 - auc: 0.5000 - val_loss: 0.2255 - val_auc: 0.5000\n",
            "Epoch 10/30\n",
            "665/665 [==============================] - 32s 48ms/step - loss: 0.1902 - auc: 0.5000 - val_loss: 0.2166 - val_auc: 0.5000\n",
            "Epoch 11/30\n",
            "665/665 [==============================] - 33s 49ms/step - loss: 0.1902 - auc: 0.5000 - val_loss: 0.2230 - val_auc: 0.5000\n",
            "Epoch 12/30\n",
            "665/665 [==============================] - 33s 50ms/step - loss: 0.1902 - auc: 0.4996 - val_loss: 0.2166 - val_auc: 0.5000\n",
            "Epoch 13/30\n",
            "665/665 [==============================] - 32s 48ms/step - loss: 0.1902 - auc: 0.4985 - val_loss: 0.2174 - val_auc: 0.5000\n",
            "Epoch 14/30\n",
            "665/665 [==============================] - 33s 49ms/step - loss: 0.1902 - auc: 0.5000 - val_loss: 0.2214 - val_auc: 0.5000\n",
            "Epoch 15/30\n",
            "665/665 [==============================] - 31s 47ms/step - loss: 0.1902 - auc: 0.5000 - val_loss: 0.2199 - val_auc: 0.5000\n",
            "Epoch 16/30\n",
            "665/665 [==============================] - 33s 50ms/step - loss: 0.1902 - auc: 0.5000 - val_loss: 0.2167 - val_auc: 0.5000\n",
            "Epoch 17/30\n",
            "665/665 [==============================] - 34s 51ms/step - loss: 0.1902 - auc: 0.5000 - val_loss: 0.2216 - val_auc: 0.5000\n",
            "Epoch 18/30\n",
            "665/665 [==============================] - 32s 49ms/step - loss: 0.1902 - auc: 0.4868 - val_loss: 0.2183 - val_auc: 0.5000\n",
            "Epoch 19/30\n",
            "665/665 [==============================] - 35s 53ms/step - loss: 0.1902 - auc: 0.4981 - val_loss: 0.2303 - val_auc: 0.5000\n",
            "Epoch 20/30\n",
            "665/665 [==============================] - 34s 51ms/step - loss: 0.1902 - auc: 0.5000 - val_loss: 0.2166 - val_auc: 0.5000\n",
            "Epoch 21/30\n",
            "665/665 [==============================] - 32s 48ms/step - loss: 0.1902 - auc: 0.5000 - val_loss: 0.2126 - val_auc: 0.5000\n",
            "Epoch 22/30\n",
            "665/665 [==============================] - 33s 49ms/step - loss: 0.1902 - auc: 0.5000 - val_loss: 0.2305 - val_auc: 0.5000\n",
            "Epoch 23/30\n",
            "665/665 [==============================] - 34s 51ms/step - loss: 0.1902 - auc: 0.5000 - val_loss: 0.2078 - val_auc: 0.5000\n",
            "Epoch 24/30\n",
            "665/665 [==============================] - 33s 49ms/step - loss: 0.1902 - auc: 0.5000 - val_loss: 0.2312 - val_auc: 0.5000\n",
            "Epoch 25/30\n",
            "665/665 [==============================] - 33s 49ms/step - loss: 0.1902 - auc: 0.5000 - val_loss: 0.2279 - val_auc: 0.5000\n",
            "Epoch 26/30\n",
            "665/665 [==============================] - 32s 49ms/step - loss: 0.1902 - auc: 0.5000 - val_loss: 0.2005 - val_auc: 0.5000\n",
            "Epoch 27/30\n",
            "665/665 [==============================] - 36s 54ms/step - loss: 0.1902 - auc: 0.5000 - val_loss: 0.2166 - val_auc: 0.5000\n",
            "Epoch 28/30\n",
            "665/665 [==============================] - 36s 53ms/step - loss: 0.1902 - auc: 0.5000 - val_loss: 0.2222 - val_auc: 0.5000\n",
            "Epoch 29/30\n",
            "665/665 [==============================] - 35s 52ms/step - loss: 0.1902 - auc: 0.5000 - val_loss: 0.2287 - val_auc: 0.5000\n",
            "Epoch 30/30\n",
            "665/665 [==============================] - 34s 52ms/step - loss: 0.1902 - auc: 0.5000 - val_loss: 0.2231 - val_auc: 0.5000\n"
          ]
        }
      ],
      "source": [
        "#Train the model for 30 epochs using a custom data generator and batch size of 32\n",
        "\n",
        "import math\n",
        "\n",
        "batch_size = 32\n",
        "num_batchs = math.ceil(len(X) / batch_size)\n",
        "num_batchs_validation = math.ceil(len(Y) / batch_size)\n",
        "\n",
        "history = model3.fit(\n",
        "    gen_batch(\n",
        "        X, batch_size=batch_size, repeat=True\n",
        "    ),\n",
        "    steps_per_epoch=num_batchs,\n",
        "    epochs=30,\n",
        "    validation_data=gen_batch(\n",
        "        Y, batch_size=32, repeat=True\n",
        "    ),\n",
        "    validation_steps=num_batchs_validation,\n",
        ")"
      ]
    },
    {
      "cell_type": "code",
      "execution_count": null,
      "metadata": {
        "colab": {
          "base_uri": "https://localhost:8080/"
        },
        "outputId": "6e74eecf-39ef-4655-b03d-73553260c2bc",
        "id": "BluQ9czhMroE"
      },
      "outputs": [
        {
          "output_type": "stream",
          "name": "stdout",
          "text": [
            "771/771 [==============================] - 37s 46ms/step\n"
          ]
        }
      ],
      "source": [
        "# Use the model to make predictions on the test data\n",
        "# The test data is generated in batches of 32 and not shuffled\n",
        "y_pred3 = model3.predict(\n",
        "    gen_batch(test, batch_size=16, shuffle=False)\n",
        ")\n",
        "# Reshape the predictions to a one-dimensional array\n",
        "\n",
        "y_pred3 = np.reshape(y_pred3, -1)"
      ]
    },
    {
      "cell_type": "code",
      "execution_count": null,
      "metadata": {
        "colab": {
          "base_uri": "https://localhost:8080/"
        },
        "outputId": "340c82f9-8ce5-437e-ef12-8ac063255406",
        "id": "q-SbUD-4MroE"
      },
      "outputs": [
        {
          "output_type": "execute_result",
          "data": {
            "text/plain": [
              "12326"
            ]
          },
          "metadata": {},
          "execution_count": 49
        }
      ],
      "source": [
        "len(y_pred3)"
      ]
    },
    {
      "cell_type": "code",
      "execution_count": null,
      "metadata": {
        "id": "ptlmumr-MroE"
      },
      "outputs": [],
      "source": [
        "#  (if for kaggle competition and it is about genre prediction)\n",
        "import pandas as pd \n",
        "submission = pd.DataFrame({'label':y_pred3})\n",
        "submission.index.name = 'id'\n",
        "submission.to_csv('sample_submission3.csv')"
      ]
    },
    {
      "cell_type": "markdown",
      "source": [
        "This trail get score 0.5 on Kaggle "
      ],
      "metadata": {
        "id": "tBxxLax1MroF"
      }
    },
    {
      "cell_type": "markdown",
      "source": [
        "`this is the worst trail i try it. it's seems the model doesn't learn well`"
      ],
      "metadata": {
        "id": "-t0Yw0cfaHYD"
      }
    },
    {
      "cell_type": "markdown",
      "source": [
        "#The fifth trail\n",
        "#GGNN \n",
        "* GGNN stands for Gated Graph Sequence Neural Network, which is a type of Graph Neural Network (GNN) that can process graph-structured data. GGNN uses gated recurrent units (GRUs) to update the node features iteratively, based on the features of their neighbors and edges. GGNN can learn to encode the graph structure and node attributes into a fixed-size vector representation, which can be used for various downstream tasks, such as graph classification, node classification, or graph generation.\n",
        "* We use GGNN in our code when we want to handle graph-structured inputs that may have variable size, shape, or connectivity. GGNN can capture the sequential and relational aspects of the graph data and learn complex patterns and dependencies among the nodes and edges. GGNN can also handle graphs with different types of edges or relations, by using different weight matrices for each edge type.\n",
        "* GGNN can achieve better performance and accuracy than other GNN models or traditional machine learning methods for anti-cancer activity prediction."
      ],
      "metadata": {
        "id": "_jB7OLKRpThV"
      }
    },
    {
      "cell_type": "markdown",
      "source": [
        "`I expect this trail will be the best` (before Up sampling)"
      ],
      "metadata": {
        "id": "Ix-BN7l_av5z"
      }
    },
    {
      "cell_type": "code",
      "execution_count": null,
      "metadata": {
        "colab": {
          "base_uri": "https://localhost:8080/"
        },
        "outputId": "480007f5-233a-493e-d958-656f3237247b",
        "id": "TblwFi2fqmBb"
      },
      "outputs": [
        {
          "output_type": "stream",
          "name": "stdout",
          "text": [
            "ggnn_out KerasTensor(type_spec=TensorSpec(shape=(None, 64), dtype=tf.float32, name=None), name='gnn_9/StatefulPartitionedCall:0', description=\"created by layer 'gnn_9'\")\n",
            "mean: KerasTensor(type_spec=TensorSpec(shape=(None, 64), dtype=tf.float32, name=None), name='tf.math.segment_mean_5/SegmentMean:0', description=\"created by layer 'tf.math.segment_mean_5'\")\n",
            "pred: KerasTensor(type_spec=TensorSpec(shape=(None, 1), dtype=tf.float32, name=None), name='dense_5/Sigmoid:0', description=\"created by layer 'dense_5'\")\n",
            "Model: \"model_5\"\n",
            "__________________________________________________________________________________________________\n",
            " Layer (type)                   Output Shape         Param #     Connected to                     \n",
            "==================================================================================================\n",
            " input_36 (InputLayer)          [(None,)]            0           []                               \n",
            "                                                                                                  \n",
            " input_34 (InputLayer)          [(None,)]            0           []                               \n",
            "                                                                                                  \n",
            " tf.math.reduce_max_10 (TFOpLam  ()                  0           ['input_36[0][0]']               \n",
            " bda)                                                                                             \n",
            "                                                                                                  \n",
            " embedding_11 (Embedding)       (None, 20)           10000       ['input_34[0][0]']               \n",
            "                                                                                                  \n",
            " input_35 (InputLayer)          [(None, 2)]          0           []                               \n",
            "                                                                                                  \n",
            " tf.__operators__.add_10 (TFOpL  ()                  0           ['tf.math.reduce_max_10[0][0]']  \n",
            " ambda)                                                                                           \n",
            "                                                                                                  \n",
            " gnn_9 (GNN)                    (None, 64)           171392      ['embedding_11[0][0]',           \n",
            "                                                                  'input_35[0][0]',               \n",
            "                                                                  'input_36[0][0]',               \n",
            "                                                                  'tf.__operators__.add_10[0][0]']\n",
            "                                                                                                  \n",
            " tf.math.segment_mean_5 (TFOpLa  (None, 64)          0           ['gnn_9[0][0]',                  \n",
            " mbda)                                                            'input_36[0][0]']               \n",
            "                                                                                                  \n",
            " dense_5 (Dense)                (None, 1)            65          ['tf.math.segment_mean_5[0][0]'] \n",
            "                                                                                                  \n",
            "==================================================================================================\n",
            "Total params: 181,457\n",
            "Trainable params: 181,457\n",
            "Non-trainable params: 0\n",
            "__________________________________________________________________________________________________\n"
          ]
        }
      ],
      "source": [
        "#Define the input for the node features (a batch of sequences of tokens)\n",
        "data = Input(batch_shape=(None,))\n",
        "\n",
        "# the first dim is different to the previous one. it is the total number of edges in this batch\n",
        "edge_index = Input(batch_shape=(None, 2),  dtype=tf.int32)\n",
        "node2graph = Input(batch_shape=(None,), dtype=tf.int32)\n",
        "embeded = Embedding(tokenizer.num_words, 20)(data)\n",
        "\n",
        "# number of graphs (number of samples)\n",
        "num_graph = tf.reduce_max(node2graph)+1\n",
        "\n",
        "# Define the RGCN layer\n",
        "ggnn_input = GNNInput( \n",
        "    node_features=embeded,\n",
        "    adjacency_lists=(edge_index,),\n",
        "    node_to_graph_map=node2graph,\n",
        "    num_graphs=num_graph, \n",
        ")\n",
        "\n",
        "\n",
        "\n",
        "#Get the default hyperparameters for the GNN model and set the hidden dimension to 64\n",
        "params4 = GNN.get_default_hyperparameters()\n",
        "params4[\"hidden_dim\"] = 64\n",
        "#Set the number of hidden layers for the aggregation MLP to 32\n",
        "params4[\"num_aggr_MLP_HIDDEN_LAYERS\"] = 32\n",
        "#Set the message calculation class to GGNN (Gated Graph Neural Network)\n",
        "params4['message_calculation_class']= 'GGNN'\n",
        "#Set the number of attention heads to 4\n",
        "params4['num_heads']= 4\n",
        "\n",
        "#Create a GNN layer with the given parameters\n",
        "ggnn_layer = GNN(params4)\n",
        "\n",
        "#Apply the GNN layer to the input and get the output node representations\n",
        "ggnn_out = ggnn_layer(ggnn_input)\n",
        "\n",
        "#Print the shape and values of ggnn_out\n",
        "print('ggnn_out', ggnn_out)\n",
        "\n",
        "#Compute the mean of the node representations for each graph using segment_mean\n",
        "avg = segment_mean(\n",
        "    data=ggnn_out,\n",
        "    segment_ids=node2graph\n",
        ")\n",
        "\n",
        "#Print the shape and values of avg\n",
        "print('mean:', avg)\n",
        "\n",
        "#Apply a dense layer with sigmoid activation to get the prediction for each graph\n",
        "pred4 = Dense(1, activation='sigmoid')(avg)\n",
        "print('pred:', pred4)\n",
        "\n",
        "#Define the model with inputs and outputs\n",
        "model4 = Model(\n",
        "    inputs={\n",
        "        'data': data,\n",
        "        'edges': edge_index,\n",
        "        'node2grah': node2graph,\n",
        "    },\n",
        "    outputs=pred4\n",
        ")\n",
        "model4.summary()\n"
      ]
    },
    {
      "cell_type": "code",
      "execution_count": null,
      "metadata": {
        "id": "j-BFjqbXqmBe"
      },
      "outputs": [],
      "source": [
        "#Set up the model for binary classification with BinaryCrossentropy loss and AUC metric\n",
        "model4.compile(\n",
        "    loss='BinaryCrossentropy',\n",
        "    metrics=['AUC']\n",
        ")"
      ]
    },
    {
      "cell_type": "code",
      "execution_count": null,
      "metadata": {
        "colab": {
          "base_uri": "https://localhost:8080/"
        },
        "outputId": "f9b47c79-2a94-4b5a-c165-3881eae95ebf",
        "id": "weZELz9GqmBe"
      },
      "outputs": [
        {
          "output_type": "stream",
          "name": "stdout",
          "text": [
            "Epoch 1/30\n",
            "665/665 [==============================] - 90s 126ms/step - loss: 0.1980 - auc: 0.5968 - val_loss: 0.1956 - val_auc: 0.6439\n",
            "Epoch 2/30\n",
            "665/665 [==============================] - 82s 124ms/step - loss: 0.1873 - auc: 0.6347 - val_loss: 0.1940 - val_auc: 0.6684\n",
            "Epoch 3/30\n",
            "665/665 [==============================] - 72s 108ms/step - loss: 0.1860 - auc: 0.6497 - val_loss: 0.1886 - val_auc: 0.6918\n",
            "Epoch 4/30\n",
            "665/665 [==============================] - 71s 107ms/step - loss: 0.1847 - auc: 0.6569 - val_loss: 0.1896 - val_auc: 0.7106\n",
            "Epoch 5/30\n",
            "665/665 [==============================] - 69s 104ms/step - loss: 0.1805 - auc: 0.6930 - val_loss: 0.1909 - val_auc: 0.7043\n",
            "Epoch 6/30\n",
            "665/665 [==============================] - 70s 106ms/step - loss: 0.1811 - auc: 0.6794 - val_loss: 0.1881 - val_auc: 0.7188\n",
            "Epoch 7/30\n",
            "665/665 [==============================] - 69s 104ms/step - loss: 0.1805 - auc: 0.6870 - val_loss: 0.1837 - val_auc: 0.7242\n",
            "Epoch 8/30\n",
            "665/665 [==============================] - 69s 104ms/step - loss: 0.1814 - auc: 0.6855 - val_loss: 0.1838 - val_auc: 0.7235\n",
            "Epoch 9/30\n",
            "665/665 [==============================] - 71s 107ms/step - loss: 0.1798 - auc: 0.6914 - val_loss: 0.1873 - val_auc: 0.7225\n",
            "Epoch 10/30\n",
            "665/665 [==============================] - 70s 105ms/step - loss: 0.1802 - auc: 0.6887 - val_loss: 0.1913 - val_auc: 0.6952\n",
            "Epoch 11/30\n",
            "665/665 [==============================] - 71s 107ms/step - loss: 0.1794 - auc: 0.6972 - val_loss: 0.1861 - val_auc: 0.7248\n",
            "Epoch 12/30\n",
            "665/665 [==============================] - 69s 104ms/step - loss: 0.1783 - auc: 0.7035 - val_loss: 0.1875 - val_auc: 0.7160\n",
            "Epoch 13/30\n",
            "665/665 [==============================] - 69s 104ms/step - loss: 0.1774 - auc: 0.7097 - val_loss: 0.1892 - val_auc: 0.7244\n",
            "Epoch 14/30\n",
            "665/665 [==============================] - 71s 107ms/step - loss: 0.1766 - auc: 0.7138 - val_loss: 0.1748 - val_auc: 0.7292\n",
            "Epoch 15/30\n",
            "665/665 [==============================] - 70s 105ms/step - loss: 0.1772 - auc: 0.7113 - val_loss: 0.1845 - val_auc: 0.7256\n",
            "Epoch 16/30\n",
            "665/665 [==============================] - 70s 106ms/step - loss: 0.1761 - auc: 0.7155 - val_loss: 0.1838 - val_auc: 0.7399\n",
            "Epoch 17/30\n",
            "665/665 [==============================] - 69s 104ms/step - loss: 0.1752 - auc: 0.7156 - val_loss: 0.1813 - val_auc: 0.7265\n",
            "Epoch 18/30\n",
            "665/665 [==============================] - 71s 106ms/step - loss: 0.1736 - auc: 0.7283 - val_loss: 0.1734 - val_auc: 0.7666\n",
            "Epoch 19/30\n",
            "665/665 [==============================] - 70s 105ms/step - loss: 0.1714 - auc: 0.7392 - val_loss: 0.1779 - val_auc: 0.7508\n",
            "Epoch 20/30\n",
            "665/665 [==============================] - 72s 108ms/step - loss: 0.1698 - auc: 0.7429 - val_loss: 0.1688 - val_auc: 0.7781\n",
            "Epoch 21/30\n",
            "665/665 [==============================] - 71s 107ms/step - loss: 0.1680 - auc: 0.7565 - val_loss: 0.1800 - val_auc: 0.7659\n",
            "Epoch 22/30\n",
            "665/665 [==============================] - 72s 108ms/step - loss: 0.1658 - auc: 0.7668 - val_loss: 0.1612 - val_auc: 0.7823\n",
            "Epoch 23/30\n",
            "665/665 [==============================] - 71s 108ms/step - loss: 0.1645 - auc: 0.7713 - val_loss: 0.1760 - val_auc: 0.7913\n",
            "Epoch 24/30\n",
            "665/665 [==============================] - 70s 105ms/step - loss: 0.1625 - auc: 0.7799 - val_loss: 0.1722 - val_auc: 0.7728\n",
            "Epoch 25/30\n",
            "665/665 [==============================] - 70s 106ms/step - loss: 0.1607 - auc: 0.7917 - val_loss: 0.1754 - val_auc: 0.8060\n",
            "Epoch 26/30\n",
            "665/665 [==============================] - 71s 108ms/step - loss: 0.1596 - auc: 0.7953 - val_loss: 0.1628 - val_auc: 0.8093\n",
            "Epoch 27/30\n",
            "665/665 [==============================] - 70s 106ms/step - loss: 0.1587 - auc: 0.7967 - val_loss: 0.1688 - val_auc: 0.8048\n",
            "Epoch 28/30\n",
            "665/665 [==============================] - 70s 105ms/step - loss: 0.1575 - auc: 0.8035 - val_loss: 0.1648 - val_auc: 0.8062\n",
            "Epoch 29/30\n",
            "665/665 [==============================] - 70s 105ms/step - loss: 0.1557 - auc: 0.8084 - val_loss: 0.1570 - val_auc: 0.8207\n",
            "Epoch 30/30\n",
            "665/665 [==============================] - 71s 106ms/step - loss: 0.1533 - auc: 0.8163 - val_loss: 0.1604 - val_auc: 0.8280\n"
          ]
        }
      ],
      "source": [
        "#Train the model for 30 epochs using a custom data generator and batch size of 32\n",
        "\n",
        "import math\n",
        "\n",
        "batch_size = 32\n",
        "num_batchs = math.ceil(len(X) / batch_size)\n",
        "num_batchs_validation = math.ceil(len(Y) / batch_size)\n",
        "\n",
        "history = model4.fit(\n",
        "    gen_batch(\n",
        "        X, batch_size=batch_size, repeat=True\n",
        "    ),\n",
        "    steps_per_epoch=num_batchs,\n",
        "    epochs=30,\n",
        "    validation_data=gen_batch(\n",
        "        Y, batch_size=32, repeat=True\n",
        "    ),\n",
        "    validation_steps=num_batchs_validation,\n",
        ")"
      ]
    },
    {
      "cell_type": "code",
      "execution_count": null,
      "metadata": {
        "colab": {
          "base_uri": "https://localhost:8080/"
        },
        "outputId": "e4b108fc-e6a0-4100-e928-98883584877f",
        "id": "RgCdtH2gqmBf"
      },
      "outputs": [
        {
          "output_type": "stream",
          "name": "stdout",
          "text": [
            "386/386 [==============================] - 18s 46ms/step\n"
          ]
        }
      ],
      "source": [
        "# Use the model to make predictions on the test data\n",
        "# The test data is generated in batches of 32 and not shuffled\n",
        "y_pred4 = model4.predict(\n",
        "    gen_batch(test, batch_size=32, shuffle=False)\n",
        ")\n",
        "# Reshape the predictions to a one-dimensional array\n",
        "y_pred4 = np.reshape(y_pred4, -1)"
      ]
    },
    {
      "cell_type": "code",
      "execution_count": null,
      "metadata": {
        "colab": {
          "base_uri": "https://localhost:8080/"
        },
        "outputId": "191a354d-fa37-4c75-a82b-211fc086b499",
        "id": "t2k8SyxHqmBg"
      },
      "outputs": [
        {
          "output_type": "execute_result",
          "data": {
            "text/plain": [
              "12326"
            ]
          },
          "metadata": {},
          "execution_count": 55
        }
      ],
      "source": [
        "len(y_pred4)"
      ]
    },
    {
      "cell_type": "code",
      "execution_count": null,
      "metadata": {
        "id": "iNWrwzaeqmBh"
      },
      "outputs": [],
      "source": [
        "#  (if for kaggle competition and it is about genre prediction)\n",
        "import pandas as pd \n",
        "submission = pd.DataFrame({'label':y_pred4})\n",
        "submission.index.name = 'id'\n",
        "submission.to_csv('sample_submission4.csv')"
      ]
    },
    {
      "cell_type": "markdown",
      "source": [
        "This trail get score 0.83686 on Kaggle "
      ],
      "metadata": {
        "id": "_mnWfmfZ0LhJ"
      }
    },
    {
      "cell_type": "markdown",
      "source": [
        "`As I expected, the performance of this trail is the best :)` (before up sampling)\n"
      ],
      "metadata": {
        "id": "jWixTqE3bYBa"
      }
    },
    {
      "cell_type": "markdown",
      "source": [
        "###We are aware of the data's imbalance.\n",
        "### SO, we need to reprocess the data.\n"
      ],
      "metadata": {
        "id": "23iAefGjfpLE"
      }
    },
    {
      "cell_type": "markdown",
      "source": [
        "#Up sampling\n",
        "up sampling is a way to balance the data when there is a class imbalance problem. It means creating more samples of the minority class by randomly duplicating existing samples or generating new samples based on existing ones. This can help improve the performance of machine learning models that are trained on the balanced data."
      ],
      "metadata": {
        "id": "4HlYTTt2gT0U"
      }
    },
    {
      "cell_type": "code",
      "source": [
        "# Import the pandas library as pd\n",
        "import pandas as pd\n",
        "# Create a data frame from the train data\n",
        "# The data frame has three columns: nodes, edge, and label\n",
        "train_set=pd.DataFrame(train,columns=['nodes','edge','label'])\n",
        "# Display the data frame\n",
        "train_set"
      ],
      "metadata": {
        "colab": {
          "base_uri": "https://localhost:8080/",
          "height": 423
        },
        "id": "IUuzgelbgexS",
        "outputId": "a9011084-7421-4cff-ccef-b4c997bf12ec"
      },
      "execution_count": null,
      "outputs": [
        {
          "output_type": "execute_result",
          "data": {
            "text/plain": [
              "                                                   nodes  \\\n",
              "0      [S, O, O, O, O, N, N, N, C, C, C, C, C, C, C, ...   \n",
              "1      [O, O, O, O, O, O, N, N, N, C, C, C, C, C, C, ...   \n",
              "2      [F, F, F, O, O, O, O, O, N, N, C, C, C, C, C, ...   \n",
              "3      [Cl, S, S, O, O, O, O, N, N, N, N, C, C, C, C,...   \n",
              "4      [S, O, O, N, N, N, N, N, N, C, C, C, C, C, C, ...   \n",
              "...                                                  ...   \n",
              "25019  [O, O, O, O, O, O, N, N, C, C, C, C, C, C, C, ...   \n",
              "25020  [O, O, O, O, O, N, C, C, C, C, C, C, C, C, C, ...   \n",
              "25021  [O, O, O, O, O, O, O, O, O, N, C, C, C, C, C, ...   \n",
              "25022  [S, O, O, O, O, N, N, N, C, C, C, C, C, C, C, ...   \n",
              "25023  [Cl, Cl, Cl, S, O, O, O, O, N, N, N, N, N, C, ...   \n",
              "\n",
              "                                                    edge  label  \n",
              "0      [[0, 8], [0, 14], [1, 10], [2, 11], [3, 7], [4...      0  \n",
              "1      [[0, 6], [0, 15], [1, 15], [2, 7], [3, 8], [4,...      0  \n",
              "2      [[0, 19], [1, 19], [2, 19], [3, 16], [4, 28], ...      0  \n",
              "3      [[0, 12], [1, 15], [1, 18], [2, 4], [2, 5], [2...      0  \n",
              "4      [[0, 1], [0, 2], [0, 5], [0, 9], [3, 4], [3, 1...      0  \n",
              "...                                                  ...    ...  \n",
              "25019  [[0, 8], [0, 14], [1, 10], [2, 12], [3, 13], [...      0  \n",
              "25020  [[0, 9], [1, 11], [2, 16], [2, 19], [3, 16], [...      0  \n",
              "25021  [[0, 12], [0, 16], [1, 10], [2, 11], [3, 15], ...      0  \n",
              "25022  [[0, 11], [0, 12], [1, 21], [1, 27], [2, 22], ...      0  \n",
              "25023  [[0, 25], [1, 26], [2, 29], [3, 13], [3, 15], ...      0  \n",
              "\n",
              "[25024 rows x 3 columns]"
            ],
            "text/html": [
              "\n",
              "  <div id=\"df-f4a8b1fa-5df9-44e8-aca2-a8277350d9c6\">\n",
              "    <div class=\"colab-df-container\">\n",
              "      <div>\n",
              "<style scoped>\n",
              "    .dataframe tbody tr th:only-of-type {\n",
              "        vertical-align: middle;\n",
              "    }\n",
              "\n",
              "    .dataframe tbody tr th {\n",
              "        vertical-align: top;\n",
              "    }\n",
              "\n",
              "    .dataframe thead th {\n",
              "        text-align: right;\n",
              "    }\n",
              "</style>\n",
              "<table border=\"1\" class=\"dataframe\">\n",
              "  <thead>\n",
              "    <tr style=\"text-align: right;\">\n",
              "      <th></th>\n",
              "      <th>nodes</th>\n",
              "      <th>edge</th>\n",
              "      <th>label</th>\n",
              "    </tr>\n",
              "  </thead>\n",
              "  <tbody>\n",
              "    <tr>\n",
              "      <th>0</th>\n",
              "      <td>[S, O, O, O, O, N, N, N, C, C, C, C, C, C, C, ...</td>\n",
              "      <td>[[0, 8], [0, 14], [1, 10], [2, 11], [3, 7], [4...</td>\n",
              "      <td>0</td>\n",
              "    </tr>\n",
              "    <tr>\n",
              "      <th>1</th>\n",
              "      <td>[O, O, O, O, O, O, N, N, N, C, C, C, C, C, C, ...</td>\n",
              "      <td>[[0, 6], [0, 15], [1, 15], [2, 7], [3, 8], [4,...</td>\n",
              "      <td>0</td>\n",
              "    </tr>\n",
              "    <tr>\n",
              "      <th>2</th>\n",
              "      <td>[F, F, F, O, O, O, O, O, N, N, C, C, C, C, C, ...</td>\n",
              "      <td>[[0, 19], [1, 19], [2, 19], [3, 16], [4, 28], ...</td>\n",
              "      <td>0</td>\n",
              "    </tr>\n",
              "    <tr>\n",
              "      <th>3</th>\n",
              "      <td>[Cl, S, S, O, O, O, O, N, N, N, N, C, C, C, C,...</td>\n",
              "      <td>[[0, 12], [1, 15], [1, 18], [2, 4], [2, 5], [2...</td>\n",
              "      <td>0</td>\n",
              "    </tr>\n",
              "    <tr>\n",
              "      <th>4</th>\n",
              "      <td>[S, O, O, N, N, N, N, N, N, C, C, C, C, C, C, ...</td>\n",
              "      <td>[[0, 1], [0, 2], [0, 5], [0, 9], [3, 4], [3, 1...</td>\n",
              "      <td>0</td>\n",
              "    </tr>\n",
              "    <tr>\n",
              "      <th>...</th>\n",
              "      <td>...</td>\n",
              "      <td>...</td>\n",
              "      <td>...</td>\n",
              "    </tr>\n",
              "    <tr>\n",
              "      <th>25019</th>\n",
              "      <td>[O, O, O, O, O, O, N, N, C, C, C, C, C, C, C, ...</td>\n",
              "      <td>[[0, 8], [0, 14], [1, 10], [2, 12], [3, 13], [...</td>\n",
              "      <td>0</td>\n",
              "    </tr>\n",
              "    <tr>\n",
              "      <th>25020</th>\n",
              "      <td>[O, O, O, O, O, N, C, C, C, C, C, C, C, C, C, ...</td>\n",
              "      <td>[[0, 9], [1, 11], [2, 16], [2, 19], [3, 16], [...</td>\n",
              "      <td>0</td>\n",
              "    </tr>\n",
              "    <tr>\n",
              "      <th>25021</th>\n",
              "      <td>[O, O, O, O, O, O, O, O, O, N, C, C, C, C, C, ...</td>\n",
              "      <td>[[0, 12], [0, 16], [1, 10], [2, 11], [3, 15], ...</td>\n",
              "      <td>0</td>\n",
              "    </tr>\n",
              "    <tr>\n",
              "      <th>25022</th>\n",
              "      <td>[S, O, O, O, O, N, N, N, C, C, C, C, C, C, C, ...</td>\n",
              "      <td>[[0, 11], [0, 12], [1, 21], [1, 27], [2, 22], ...</td>\n",
              "      <td>0</td>\n",
              "    </tr>\n",
              "    <tr>\n",
              "      <th>25023</th>\n",
              "      <td>[Cl, Cl, Cl, S, O, O, O, O, N, N, N, N, N, C, ...</td>\n",
              "      <td>[[0, 25], [1, 26], [2, 29], [3, 13], [3, 15], ...</td>\n",
              "      <td>0</td>\n",
              "    </tr>\n",
              "  </tbody>\n",
              "</table>\n",
              "<p>25024 rows × 3 columns</p>\n",
              "</div>\n",
              "      <button class=\"colab-df-convert\" onclick=\"convertToInteractive('df-f4a8b1fa-5df9-44e8-aca2-a8277350d9c6')\"\n",
              "              title=\"Convert this dataframe to an interactive table.\"\n",
              "              style=\"display:none;\">\n",
              "        \n",
              "  <svg xmlns=\"http://www.w3.org/2000/svg\" height=\"24px\"viewBox=\"0 0 24 24\"\n",
              "       width=\"24px\">\n",
              "    <path d=\"M0 0h24v24H0V0z\" fill=\"none\"/>\n",
              "    <path d=\"M18.56 5.44l.94 2.06.94-2.06 2.06-.94-2.06-.94-.94-2.06-.94 2.06-2.06.94zm-11 1L8.5 8.5l.94-2.06 2.06-.94-2.06-.94L8.5 2.5l-.94 2.06-2.06.94zm10 10l.94 2.06.94-2.06 2.06-.94-2.06-.94-.94-2.06-.94 2.06-2.06.94z\"/><path d=\"M17.41 7.96l-1.37-1.37c-.4-.4-.92-.59-1.43-.59-.52 0-1.04.2-1.43.59L10.3 9.45l-7.72 7.72c-.78.78-.78 2.05 0 2.83L4 21.41c.39.39.9.59 1.41.59.51 0 1.02-.2 1.41-.59l7.78-7.78 2.81-2.81c.8-.78.8-2.07 0-2.86zM5.41 20L4 18.59l7.72-7.72 1.47 1.35L5.41 20z\"/>\n",
              "  </svg>\n",
              "      </button>\n",
              "      \n",
              "  <style>\n",
              "    .colab-df-container {\n",
              "      display:flex;\n",
              "      flex-wrap:wrap;\n",
              "      gap: 12px;\n",
              "    }\n",
              "\n",
              "    .colab-df-convert {\n",
              "      background-color: #E8F0FE;\n",
              "      border: none;\n",
              "      border-radius: 50%;\n",
              "      cursor: pointer;\n",
              "      display: none;\n",
              "      fill: #1967D2;\n",
              "      height: 32px;\n",
              "      padding: 0 0 0 0;\n",
              "      width: 32px;\n",
              "    }\n",
              "\n",
              "    .colab-df-convert:hover {\n",
              "      background-color: #E2EBFA;\n",
              "      box-shadow: 0px 1px 2px rgba(60, 64, 67, 0.3), 0px 1px 3px 1px rgba(60, 64, 67, 0.15);\n",
              "      fill: #174EA6;\n",
              "    }\n",
              "\n",
              "    [theme=dark] .colab-df-convert {\n",
              "      background-color: #3B4455;\n",
              "      fill: #D2E3FC;\n",
              "    }\n",
              "\n",
              "    [theme=dark] .colab-df-convert:hover {\n",
              "      background-color: #434B5C;\n",
              "      box-shadow: 0px 1px 3px 1px rgba(0, 0, 0, 0.15);\n",
              "      filter: drop-shadow(0px 1px 2px rgba(0, 0, 0, 0.3));\n",
              "      fill: #FFFFFF;\n",
              "    }\n",
              "  </style>\n",
              "\n",
              "      <script>\n",
              "        const buttonEl =\n",
              "          document.querySelector('#df-f4a8b1fa-5df9-44e8-aca2-a8277350d9c6 button.colab-df-convert');\n",
              "        buttonEl.style.display =\n",
              "          google.colab.kernel.accessAllowed ? 'block' : 'none';\n",
              "\n",
              "        async function convertToInteractive(key) {\n",
              "          const element = document.querySelector('#df-f4a8b1fa-5df9-44e8-aca2-a8277350d9c6');\n",
              "          const dataTable =\n",
              "            await google.colab.kernel.invokeFunction('convertToInteractive',\n",
              "                                                     [key], {});\n",
              "          if (!dataTable) return;\n",
              "\n",
              "          const docLinkHtml = 'Like what you see? Visit the ' +\n",
              "            '<a target=\"_blank\" href=https://colab.research.google.com/notebooks/data_table.ipynb>data table notebook</a>'\n",
              "            + ' to learn more about interactive tables.';\n",
              "          element.innerHTML = '';\n",
              "          dataTable['output_type'] = 'display_data';\n",
              "          await google.colab.output.renderOutput(dataTable, element);\n",
              "          const docLink = document.createElement('div');\n",
              "          docLink.innerHTML = docLinkHtml;\n",
              "          element.appendChild(docLink);\n",
              "        }\n",
              "      </script>\n",
              "    </div>\n",
              "  </div>\n",
              "  "
            ]
          },
          "metadata": {},
          "execution_count": 5
        }
      ]
    },
    {
      "cell_type": "code",
      "source": [
        "# Create a new data frame for each class label\n",
        "# class0 contains only the rows where label is 0\n",
        "# class1 contains only the rows where label is 1 \n",
        "class0=train_set[train_set['label']==0]\n",
        "class1=train_set[train_set['label']==1]"
      ],
      "metadata": {
        "id": "bjNBs83KghyB"
      },
      "execution_count": null,
      "outputs": []
    },
    {
      "cell_type": "code",
      "source": [
        "# Import the resample function from sklearn.utils\n",
        "from sklearn.utils import resample\n",
        "# Create a new data frame for class 1 by sampling with replacement\n",
        "# The number of samples is equal to the number of rows in class 0\n",
        "# The random state is set to 42 for reproducibility\n",
        "Sclass1 = resample(class1, replace=True, n_samples=len(class0), random_state=42)\n",
        "# Display the new data frame\n",
        "Sclass1"
      ],
      "metadata": {
        "colab": {
          "base_uri": "https://localhost:8080/",
          "height": 423
        },
        "id": "150Y41qZiI58",
        "outputId": "26e29906-f430-49b6-8bd1-2888a65e1717"
      },
      "execution_count": null,
      "outputs": [
        {
          "output_type": "execute_result",
          "data": {
            "text/plain": [
              "                                                   nodes  \\\n",
              "23357  [O, O, O, O, O, C, C, C, C, C, C, C, C, C, C, ...   \n",
              "17640  [O, O, O, O, O, O, O, C, C, C, C, C, C, C, C, ...   \n",
              "23463  [O, O, N, N, C, C, C, C, C, C, C, C, C, C, C, ...   \n",
              "22676  [O, O, O, O, O, O, O, C, C, C, C, C, C, C, C, ...   \n",
              "21324  [S, S, O, O, O, O, N, N, C, C, C, C, C, C, C, ...   \n",
              "...                                                  ...   \n",
              "16643  [O, O, O, O, O, O, N, C, C, C, C, C, C, C, C, ...   \n",
              "5670   [Cl, O, O, O, O, O, O, O, O, N, N, N, N, C, C,...   \n",
              "4221   [Cl, Cl, O, O, O, O, N, N, N, C, C, C, C, C, C...   \n",
              "14241  [Cl, O, O, O, O, O, O, O, O, O, O, C, C, C, C,...   \n",
              "19722               [O, O, O, O, N, N, N, C, C, C, C, C]   \n",
              "\n",
              "                                                    edge  label  \n",
              "23357  [[8, 0], [0, 19], [1, 17], [1, 22], [2, 19], [...      1  \n",
              "17640  [[7, 0], [8, 0], [1, 14], [1, 15], [11, 2], [1...      1  \n",
              "23463  [[0, 5], [1, 4], [2, 4], [2, 5], [2, 6], [3, 4...      1  \n",
              "22676  [[0, 9], [0, 11], [1, 9], [1, 19], [2, 10], [2...      1  \n",
              "21324  [[0, 8], [0, 13], [1, 11], [1, 12], [16, 2], [...      1  \n",
              "...                                                  ...    ...  \n",
              "16643  [[0, 9], [0, 24], [1, 12], [1, 25], [2, 14], [...      1  \n",
              "5670   [[0, 32], [1, 17], [2, 25], [2, 36], [3, 27], ...      1  \n",
              "4221   [[0, 30], [1, 31], [2, 15], [2, 27], [3, 13], ...      1  \n",
              "14241  [[30, 0], [11, 1], [14, 1], [2, 13], [2, 22], ...      1  \n",
              "19722  [[0, 8], [0, 9], [1, 8], [2, 10], [3, 10], [4,...      1  \n",
              "\n",
              "[23806 rows x 3 columns]"
            ],
            "text/html": [
              "\n",
              "  <div id=\"df-31e7001c-4169-4faf-9bd7-192c78caa131\">\n",
              "    <div class=\"colab-df-container\">\n",
              "      <div>\n",
              "<style scoped>\n",
              "    .dataframe tbody tr th:only-of-type {\n",
              "        vertical-align: middle;\n",
              "    }\n",
              "\n",
              "    .dataframe tbody tr th {\n",
              "        vertical-align: top;\n",
              "    }\n",
              "\n",
              "    .dataframe thead th {\n",
              "        text-align: right;\n",
              "    }\n",
              "</style>\n",
              "<table border=\"1\" class=\"dataframe\">\n",
              "  <thead>\n",
              "    <tr style=\"text-align: right;\">\n",
              "      <th></th>\n",
              "      <th>nodes</th>\n",
              "      <th>edge</th>\n",
              "      <th>label</th>\n",
              "    </tr>\n",
              "  </thead>\n",
              "  <tbody>\n",
              "    <tr>\n",
              "      <th>23357</th>\n",
              "      <td>[O, O, O, O, O, C, C, C, C, C, C, C, C, C, C, ...</td>\n",
              "      <td>[[8, 0], [0, 19], [1, 17], [1, 22], [2, 19], [...</td>\n",
              "      <td>1</td>\n",
              "    </tr>\n",
              "    <tr>\n",
              "      <th>17640</th>\n",
              "      <td>[O, O, O, O, O, O, O, C, C, C, C, C, C, C, C, ...</td>\n",
              "      <td>[[7, 0], [8, 0], [1, 14], [1, 15], [11, 2], [1...</td>\n",
              "      <td>1</td>\n",
              "    </tr>\n",
              "    <tr>\n",
              "      <th>23463</th>\n",
              "      <td>[O, O, N, N, C, C, C, C, C, C, C, C, C, C, C, ...</td>\n",
              "      <td>[[0, 5], [1, 4], [2, 4], [2, 5], [2, 6], [3, 4...</td>\n",
              "      <td>1</td>\n",
              "    </tr>\n",
              "    <tr>\n",
              "      <th>22676</th>\n",
              "      <td>[O, O, O, O, O, O, O, C, C, C, C, C, C, C, C, ...</td>\n",
              "      <td>[[0, 9], [0, 11], [1, 9], [1, 19], [2, 10], [2...</td>\n",
              "      <td>1</td>\n",
              "    </tr>\n",
              "    <tr>\n",
              "      <th>21324</th>\n",
              "      <td>[S, S, O, O, O, O, N, N, C, C, C, C, C, C, C, ...</td>\n",
              "      <td>[[0, 8], [0, 13], [1, 11], [1, 12], [16, 2], [...</td>\n",
              "      <td>1</td>\n",
              "    </tr>\n",
              "    <tr>\n",
              "      <th>...</th>\n",
              "      <td>...</td>\n",
              "      <td>...</td>\n",
              "      <td>...</td>\n",
              "    </tr>\n",
              "    <tr>\n",
              "      <th>16643</th>\n",
              "      <td>[O, O, O, O, O, O, N, C, C, C, C, C, C, C, C, ...</td>\n",
              "      <td>[[0, 9], [0, 24], [1, 12], [1, 25], [2, 14], [...</td>\n",
              "      <td>1</td>\n",
              "    </tr>\n",
              "    <tr>\n",
              "      <th>5670</th>\n",
              "      <td>[Cl, O, O, O, O, O, O, O, O, N, N, N, N, C, C,...</td>\n",
              "      <td>[[0, 32], [1, 17], [2, 25], [2, 36], [3, 27], ...</td>\n",
              "      <td>1</td>\n",
              "    </tr>\n",
              "    <tr>\n",
              "      <th>4221</th>\n",
              "      <td>[Cl, Cl, O, O, O, O, N, N, N, C, C, C, C, C, C...</td>\n",
              "      <td>[[0, 30], [1, 31], [2, 15], [2, 27], [3, 13], ...</td>\n",
              "      <td>1</td>\n",
              "    </tr>\n",
              "    <tr>\n",
              "      <th>14241</th>\n",
              "      <td>[Cl, O, O, O, O, O, O, O, O, O, O, C, C, C, C,...</td>\n",
              "      <td>[[30, 0], [11, 1], [14, 1], [2, 13], [2, 22], ...</td>\n",
              "      <td>1</td>\n",
              "    </tr>\n",
              "    <tr>\n",
              "      <th>19722</th>\n",
              "      <td>[O, O, O, O, N, N, N, C, C, C, C, C]</td>\n",
              "      <td>[[0, 8], [0, 9], [1, 8], [2, 10], [3, 10], [4,...</td>\n",
              "      <td>1</td>\n",
              "    </tr>\n",
              "  </tbody>\n",
              "</table>\n",
              "<p>23806 rows × 3 columns</p>\n",
              "</div>\n",
              "      <button class=\"colab-df-convert\" onclick=\"convertToInteractive('df-31e7001c-4169-4faf-9bd7-192c78caa131')\"\n",
              "              title=\"Convert this dataframe to an interactive table.\"\n",
              "              style=\"display:none;\">\n",
              "        \n",
              "  <svg xmlns=\"http://www.w3.org/2000/svg\" height=\"24px\"viewBox=\"0 0 24 24\"\n",
              "       width=\"24px\">\n",
              "    <path d=\"M0 0h24v24H0V0z\" fill=\"none\"/>\n",
              "    <path d=\"M18.56 5.44l.94 2.06.94-2.06 2.06-.94-2.06-.94-.94-2.06-.94 2.06-2.06.94zm-11 1L8.5 8.5l.94-2.06 2.06-.94-2.06-.94L8.5 2.5l-.94 2.06-2.06.94zm10 10l.94 2.06.94-2.06 2.06-.94-2.06-.94-.94-2.06-.94 2.06-2.06.94z\"/><path d=\"M17.41 7.96l-1.37-1.37c-.4-.4-.92-.59-1.43-.59-.52 0-1.04.2-1.43.59L10.3 9.45l-7.72 7.72c-.78.78-.78 2.05 0 2.83L4 21.41c.39.39.9.59 1.41.59.51 0 1.02-.2 1.41-.59l7.78-7.78 2.81-2.81c.8-.78.8-2.07 0-2.86zM5.41 20L4 18.59l7.72-7.72 1.47 1.35L5.41 20z\"/>\n",
              "  </svg>\n",
              "      </button>\n",
              "      \n",
              "  <style>\n",
              "    .colab-df-container {\n",
              "      display:flex;\n",
              "      flex-wrap:wrap;\n",
              "      gap: 12px;\n",
              "    }\n",
              "\n",
              "    .colab-df-convert {\n",
              "      background-color: #E8F0FE;\n",
              "      border: none;\n",
              "      border-radius: 50%;\n",
              "      cursor: pointer;\n",
              "      display: none;\n",
              "      fill: #1967D2;\n",
              "      height: 32px;\n",
              "      padding: 0 0 0 0;\n",
              "      width: 32px;\n",
              "    }\n",
              "\n",
              "    .colab-df-convert:hover {\n",
              "      background-color: #E2EBFA;\n",
              "      box-shadow: 0px 1px 2px rgba(60, 64, 67, 0.3), 0px 1px 3px 1px rgba(60, 64, 67, 0.15);\n",
              "      fill: #174EA6;\n",
              "    }\n",
              "\n",
              "    [theme=dark] .colab-df-convert {\n",
              "      background-color: #3B4455;\n",
              "      fill: #D2E3FC;\n",
              "    }\n",
              "\n",
              "    [theme=dark] .colab-df-convert:hover {\n",
              "      background-color: #434B5C;\n",
              "      box-shadow: 0px 1px 3px 1px rgba(0, 0, 0, 0.15);\n",
              "      filter: drop-shadow(0px 1px 2px rgba(0, 0, 0, 0.3));\n",
              "      fill: #FFFFFF;\n",
              "    }\n",
              "  </style>\n",
              "\n",
              "      <script>\n",
              "        const buttonEl =\n",
              "          document.querySelector('#df-31e7001c-4169-4faf-9bd7-192c78caa131 button.colab-df-convert');\n",
              "        buttonEl.style.display =\n",
              "          google.colab.kernel.accessAllowed ? 'block' : 'none';\n",
              "\n",
              "        async function convertToInteractive(key) {\n",
              "          const element = document.querySelector('#df-31e7001c-4169-4faf-9bd7-192c78caa131');\n",
              "          const dataTable =\n",
              "            await google.colab.kernel.invokeFunction('convertToInteractive',\n",
              "                                                     [key], {});\n",
              "          if (!dataTable) return;\n",
              "\n",
              "          const docLinkHtml = 'Like what you see? Visit the ' +\n",
              "            '<a target=\"_blank\" href=https://colab.research.google.com/notebooks/data_table.ipynb>data table notebook</a>'\n",
              "            + ' to learn more about interactive tables.';\n",
              "          element.innerHTML = '';\n",
              "          dataTable['output_type'] = 'display_data';\n",
              "          await google.colab.output.renderOutput(dataTable, element);\n",
              "          const docLink = document.createElement('div');\n",
              "          docLink.innerHTML = docLinkHtml;\n",
              "          element.appendChild(docLink);\n",
              "        }\n",
              "      </script>\n",
              "    </div>\n",
              "  </div>\n",
              "  "
            ]
          },
          "metadata": {},
          "execution_count": 9
        }
      ]
    },
    {
      "cell_type": "code",
      "source": [
        "# Create a new data frame by concatenating class0 and Sclass1\n",
        "# The new data frame has balanced classes\n",
        "New_train = pd.concat([class0,Sclass1])"
      ],
      "metadata": {
        "id": "Ao-pzzyliMo4"
      },
      "execution_count": null,
      "outputs": []
    },
    {
      "cell_type": "code",
      "source": [
        "# Count the number of rows for each class label in the new data frame\n",
        "# The result should show that both classes have the same count\n",
        "New_train['label'].value_counts()"
      ],
      "metadata": {
        "colab": {
          "base_uri": "https://localhost:8080/"
        },
        "id": "AnYQJylMi5By",
        "outputId": "4d752308-2e25-48d8-f6e3-4a5b623c299c"
      },
      "execution_count": null,
      "outputs": [
        {
          "output_type": "execute_result",
          "data": {
            "text/plain": [
              "0    23806\n",
              "1    23806\n",
              "Name: label, dtype: int64"
            ]
          },
          "metadata": {},
          "execution_count": 8
        }
      ]
    },
    {
      "cell_type": "code",
      "source": [
        "# Convert the new data frame to a numpy array\n",
        "# This is useful for applying machine learning algorithms\n",
        "New_train = New_train.to_numpy()"
      ],
      "metadata": {
        "id": "FzlBUy05jDp1"
      },
      "execution_count": null,
      "outputs": []
    },
    {
      "cell_type": "markdown",
      "source": [
        "# Spilt New Train set to train and vaildation set"
      ],
      "metadata": {
        "id": "6ZJZ9LkQjK8M"
      }
    },
    {
      "cell_type": "code",
      "source": [
        "#spilt train set to train and vaildation set\n",
        "from sklearn.model_selection import train_test_split\n",
        "\n",
        "x, y = train_test_split( New_train , test_size=0.2)\n"
      ],
      "metadata": {
        "id": "5h7a_2PvjJHg"
      },
      "execution_count": null,
      "outputs": []
    },
    {
      "cell_type": "markdown",
      "source": [
        "# Preprocessing"
      ],
      "metadata": {
        "id": "-9RMgJ0Bin7Q"
      }
    },
    {
      "cell_type": "markdown",
      "source": [
        "# Toknization\n",
        "\n",
        "Tokenization is an important step in text preprocessing that can help facilitate downstream NLP tasks."
      ],
      "metadata": {
        "id": "-Xo729NLkF87"
      }
    },
    {
      "cell_type": "code",
      "execution_count": null,
      "metadata": {
        "id": "65w9Rap4kF9T"
      },
      "outputs": [],
      "source": [
        "from tensorflow.keras.preprocessing.text import Tokenizer\n",
        "\n",
        "max_vocab = 500\n",
        "max_len = 100\n",
        "\n",
        "\n",
        "# build vocabulary from training set\n",
        "all_nodes = [s[0] for s in x]\n",
        "tokenizer = Tokenizer(num_words=max_vocab)\n",
        "tokenizer.fit_on_texts(all_nodes)"
      ]
    },
    {
      "cell_type": "code",
      "execution_count": null,
      "metadata": {
        "id": "i1jOc7E4kF9T"
      },
      "outputs": [],
      "source": [
        "from tensorflow.keras.preprocessing.sequence import pad_sequences\n",
        "import random\n",
        "random.seed(0)\n",
        "\n",
        "def prepare_single_batch(samples):\n",
        "    sample_nodes = [s[0] for s in samples]\n",
        "    sample_nodes = tokenizer.texts_to_sequences(sample_nodes)\n",
        "    sample_nodes = pad_sequences(sample_nodes, padding='post')\n",
        "    max_nodes_len = np.shape(sample_nodes)[1]\n",
        "    edges = [s[1]+i*max_nodes_len for i,s in enumerate(samples)]\n",
        "    edges = [e for e in edges if len(e) > 0]\n",
        "    node_to_graph = [[i]*max_nodes_len for i in range(len(samples))]\n",
        "    \n",
        "    all_nodes = np.reshape(sample_nodes, -1)\n",
        "    all_edges = np.concatenate(edges)\n",
        "\n",
        "    node_to_graph = np.reshape(node_to_graph, -1)\n",
        "    return {\n",
        "        'data': all_nodes,\n",
        "        'edges': all_edges,\n",
        "        'node2grah': node_to_graph,\n",
        "    }, np.array([s[2] for s in samples])\n",
        "\n",
        "\n",
        "\n",
        "def gen_batch(dataset, batch_size=16, repeat=False, shuffle=True):\n",
        "    while True:\n",
        "        dataset = list(dataset)\n",
        "        if shuffle:\n",
        "            random.shuffle(dataset)\n",
        "        l = len(dataset)\n",
        "        for ndx in range(0, l, batch_size):\n",
        "            batch_samples = dataset[ndx:min(ndx + batch_size, l)]\n",
        "            yield prepare_single_batch(batch_samples)\n",
        "        if not repeat:\n",
        "            break\n"
      ]
    },
    {
      "cell_type": "code",
      "execution_count": null,
      "metadata": {
        "colab": {
          "base_uri": "https://localhost:8080/"
        },
        "outputId": "58ecc81d-9d25-4102-fc4c-2f0946f2414d",
        "id": "ALBYY1IkkF9U"
      },
      "outputs": [
        {
          "output_type": "stream",
          "name": "stdout",
          "text": [
            "data\n",
            "[2 2 1 1 1 1 1 1 1 1 1 1 1 1 1 1 1 1 1 1 1 0 0 0 0 0 0 0 0 0 0 0 0 0 0 0 0\n",
            " 0 0 0 0 0 0 0 0 0 0 0 0 0 0 0 0 0 0 0 0 0 0 0 0 0 0 0 3 3 3 3 1 1 1 1 1 1\n",
            " 1 1 1 1 1 1 1 1 1 0 0 0 0 0 0 0 0 0 0 0 0 0 0 0 0 0 0 0 0 0 0 0 0 0 0 0 0\n",
            " 0 0 0 0 0 0 0 0 0 0 0 0 0 0 0 0 0 2 2 2 2 2 2 2 2 2 2 2 2 2 2 3 1 1 1 1 1\n",
            " 1 1 1 1 1 1 1 1 1 1 1 1 1 1 1 1 1 1 1 1 1 1 1 1 1 1 1 1 1 1 1 1 1 1 1 1 1\n",
            " 1 1 1 1 1 1 1 2 2 2 1 1 1 1 1 1 1 1 1 1 1 1 1 1 1 1 1 1 1 1 1 1 1 1 1 1 0\n",
            " 0 0 0 0 0 0 0 0 0 0 0 0 0 0 0 0 0 0 0 0 0 0 0 0 0 0 0 0 0 0 0 0 0 0]\n",
            "edges\n",
            "[[  0   6]\n",
            " [  1   8]\n",
            " [  2   3]\n",
            " [  2   5]\n",
            " [  2   6]\n",
            " [  3   4]\n",
            " [  3  13]\n",
            " [  4   7]\n",
            " [  4  11]\n",
            " [  5  10]\n",
            " [  5  12]\n",
            " [  6   8]\n",
            " [  7  14]\n",
            " [  7  17]\n",
            " [  7  18]\n",
            " [  8   9]\n",
            " [  9  10]\n",
            " [  9  16]\n",
            " [ 11  12]\n",
            " [ 13  15]\n",
            " [ 14  15]\n",
            " [ 16  19]\n",
            " [ 16  20]\n",
            " [ 64  70]\n",
            " [ 64  71]\n",
            " [ 65  68]\n",
            " [ 65  72]\n",
            " [ 66  78]\n",
            " [ 67  81]\n",
            " [ 68  69]\n",
            " [ 68  70]\n",
            " [ 69  71]\n",
            " [ 69  75]\n",
            " [ 70  74]\n",
            " [ 71  76]\n",
            " [ 72  73]\n",
            " [ 72  77]\n",
            " [ 73  74]\n",
            " [ 73  79]\n",
            " [ 75  80]\n",
            " [ 76  78]\n",
            " [ 77  81]\n",
            " [ 78  80]\n",
            " [ 79  82]\n",
            " [ 81  82]\n",
            " [128 144]\n",
            " [148 128]\n",
            " [129 143]\n",
            " [129 150]\n",
            " [130 148]\n",
            " [130 156]\n",
            " [143 131]\n",
            " [132 147]\n",
            " [132 159]\n",
            " [133 159]\n",
            " [166 134]\n",
            " [168 135]\n",
            " [172 136]\n",
            " [136 179]\n",
            " [169 137]\n",
            " [173 138]\n",
            " [175 139]\n",
            " [140 179]\n",
            " [140 185]\n",
            " [176 141]\n",
            " [142 186]\n",
            " [142 190]\n",
            " [142 191]\n",
            " [143 145]\n",
            " [143 149]\n",
            " [144 146]\n",
            " [144 149]\n",
            " [145 152]\n",
            " [145 153]\n",
            " [146 147]\n",
            " [146 155]\n",
            " [147 151]\n",
            " [148 151]\n",
            " [148 154]\n",
            " [150 152]\n",
            " [150 157]\n",
            " [150 158]\n",
            " [153 161]\n",
            " [154 160]\n",
            " [156 162]\n",
            " [156 163]\n",
            " [159 164]\n",
            " [160 162]\n",
            " [161 165]\n",
            " [163 166]\n",
            " [164 167]\n",
            " [165 170]\n",
            " [166 174]\n",
            " [167 168]\n",
            " [168 169]\n",
            " [168 177]\n",
            " [169 171]\n",
            " [170 178]\n",
            " [171 173]\n",
            " [171 182]\n",
            " [172 173]\n",
            " [172 175]\n",
            " [174 183]\n",
            " [175 176]\n",
            " [176 180]\n",
            " [176 184]\n",
            " [178 181]\n",
            " [179 187]\n",
            " [180 181]\n",
            " [185 186]\n",
            " [185 189]\n",
            " [186 188]\n",
            " [187 188]\n",
            " [192 205]\n",
            " [193 206]\n",
            " [194 207]\n",
            " [195 196]\n",
            " [195 197]\n",
            " [195 198]\n",
            " [196 199]\n",
            " [196 200]\n",
            " [197 201]\n",
            " [197 203]\n",
            " [198 202]\n",
            " [198 204]\n",
            " [199 205]\n",
            " [199 208]\n",
            " [200 206]\n",
            " [200 209]\n",
            " [201 205]\n",
            " [201 211]\n",
            " [202 206]\n",
            " [202 212]\n",
            " [203 207]\n",
            " [203 213]\n",
            " [204 207]\n",
            " [204 214]\n",
            " [208 210]\n",
            " [209 210]\n",
            " [210 215]\n",
            " [211 216]\n",
            " [212 217]\n",
            " [213 216]\n",
            " [214 217]\n",
            " [215 218]\n",
            " [215 219]\n",
            " [215 220]]\n",
            "node2grah\n",
            "[0 0 0 0 0 0 0 0 0 0 0 0 0 0 0 0 0 0 0 0 0 0 0 0 0 0 0 0 0 0 0 0 0 0 0 0 0\n",
            " 0 0 0 0 0 0 0 0 0 0 0 0 0 0 0 0 0 0 0 0 0 0 0 0 0 0 0 1 1 1 1 1 1 1 1 1 1\n",
            " 1 1 1 1 1 1 1 1 1 1 1 1 1 1 1 1 1 1 1 1 1 1 1 1 1 1 1 1 1 1 1 1 1 1 1 1 1\n",
            " 1 1 1 1 1 1 1 1 1 1 1 1 1 1 1 1 1 2 2 2 2 2 2 2 2 2 2 2 2 2 2 2 2 2 2 2 2\n",
            " 2 2 2 2 2 2 2 2 2 2 2 2 2 2 2 2 2 2 2 2 2 2 2 2 2 2 2 2 2 2 2 2 2 2 2 2 2\n",
            " 2 2 2 2 2 2 2 3 3 3 3 3 3 3 3 3 3 3 3 3 3 3 3 3 3 3 3 3 3 3 3 3 3 3 3 3 3\n",
            " 3 3 3 3 3 3 3 3 3 3 3 3 3 3 3 3 3 3 3 3 3 3 3 3 3 3 3 3 3 3 3 3 3 3]\n",
            "label [0 1 1 0]\n"
          ]
        }
      ],
      "source": [
        "# showing one batch:\n",
        "for train_batch in gen_batch(x, batch_size=4):\n",
        "    for k,v in train_batch[0].items():\n",
        "        print(k)\n",
        "        print(v)\n",
        "        pass\n",
        "    print('label', train_batch[1])\n",
        "    break"
      ]
    },
    {
      "cell_type": "markdown",
      "source": [
        "#The Sixth trail\n",
        "#GGNN after Resampleing\n",
        "* GGNN stands for Gated Graph Sequence Neural Network, which is a type of Graph Neural Network (GNN) that can process graph-structured data. GGNN uses gated recurrent units (GRUs) to update the node features iteratively, based on the features of their neighbors and edges. GGNN can learn to encode the graph structure and node attributes into a fixed-size vector representation, which can be used for various downstream tasks, such as graph classification, node classification, or graph generation.\n",
        "* We use GGNN in our code when we want to handle graph-structured inputs that may have variable size, shape, or connectivity. GGNN can capture the sequential and relational aspects of the graph data and learn complex patterns and dependencies among the nodes and edges. GGNN can also handle graphs with different types of edges or relations, by using different weight matrices for each edge type.\n",
        "* GGNN can achieve better performance and accuracy than other GNN models or traditional machine learning methods for anti-cancer activity prediction."
      ],
      "metadata": {
        "id": "1m4fZ0S4kqsI"
      }
    },
    {
      "cell_type": "markdown",
      "source": [
        "`I expect this trail will be the best`\n"
      ],
      "metadata": {
        "id": "lE30c6Z4cLaU"
      }
    },
    {
      "cell_type": "code",
      "source": [
        "import tensorflow as tf\n",
        "from tensorflow.math import segment_mean\n",
        "from tensorflow import keras\n",
        "from tensorflow.keras import Input, Model\n",
        "from tensorflow.keras.layers import Embedding, Dense\n",
        "from tensorflow.keras.optimizers import Adam"
      ],
      "metadata": {
        "id": "GBZCHPyC0nZa"
      },
      "execution_count": null,
      "outputs": []
    },
    {
      "cell_type": "code",
      "execution_count": null,
      "metadata": {
        "colab": {
          "base_uri": "https://localhost:8080/"
        },
        "outputId": "4b2d236e-314f-42b9-c31c-56c93f8f319e",
        "id": "4DNKW9JmkqsK"
      },
      "outputs": [
        {
          "output_type": "stream",
          "name": "stdout",
          "text": [
            "ggnn_out2 KerasTensor(type_spec=TensorSpec(shape=(None, 64), dtype=tf.float32, name=None), name='gnn/StatefulPartitionedCall:0', description=\"created by layer 'gnn'\")\n",
            "mean: KerasTensor(type_spec=TensorSpec(shape=(None, 64), dtype=tf.float32, name=None), name='tf.math.segment_mean/SegmentMean:0', description=\"created by layer 'tf.math.segment_mean'\")\n",
            "pred: KerasTensor(type_spec=TensorSpec(shape=(None, 1), dtype=tf.float32, name=None), name='dense/Sigmoid:0', description=\"created by layer 'dense'\")\n",
            "Model: \"model\"\n",
            "__________________________________________________________________________________________________\n",
            " Layer (type)                   Output Shape         Param #     Connected to                     \n",
            "==================================================================================================\n",
            " input_6 (InputLayer)           [(None,)]            0           []                               \n",
            "                                                                                                  \n",
            " input_4 (InputLayer)           [(None,)]            0           []                               \n",
            "                                                                                                  \n",
            " tf.math.reduce_max_1 (TFOpLamb  ()                  0           ['input_6[0][0]']                \n",
            " da)                                                                                              \n",
            "                                                                                                  \n",
            " embedding_1 (Embedding)        (None, 20)           10000       ['input_4[0][0]']                \n",
            "                                                                                                  \n",
            " input_5 (InputLayer)           [(None, 2)]          0           []                               \n",
            "                                                                                                  \n",
            " tf.__operators__.add_1 (TFOpLa  ()                  0           ['tf.math.reduce_max_1[0][0]']   \n",
            " mbda)                                                                                            \n",
            "                                                                                                  \n",
            " gnn (GNN)                      (None, 64)           603008      ['embedding_1[0][0]',            \n",
            "                                                                  'input_5[0][0]',                \n",
            "                                                                  'input_6[0][0]',                \n",
            "                                                                  'tf.__operators__.add_1[0][0]'] \n",
            "                                                                                                  \n",
            " tf.math.segment_mean (TFOpLamb  (None, 64)          0           ['gnn[0][0]',                    \n",
            " da)                                                              'input_6[0][0]']                \n",
            "                                                                                                  \n",
            " dense (Dense)                  (None, 1)            65          ['tf.math.segment_mean[0][0]']   \n",
            "                                                                                                  \n",
            "==================================================================================================\n",
            "Total params: 613,073\n",
            "Trainable params: 613,073\n",
            "Non-trainable params: 0\n",
            "__________________________________________________________________________________________________\n"
          ]
        }
      ],
      "source": [
        "#Define the input for the node features (a batch of sequences of tokens)\n",
        "data = Input(batch_shape=(None,))\n",
        "\n",
        "# the first dim is different to the previous one. it is the total number of edges in this batch\n",
        "edge_index = Input(batch_shape=(None, 2),  dtype=tf.int32)\n",
        "node2graph = Input(batch_shape=(None,), dtype=tf.int32)\n",
        "embeded = Embedding(tokenizer.num_words, 20)(data)\n",
        "\n",
        "# number of graphs (number of samples)\n",
        "num_graph = tf.reduce_max(node2graph)+1\n",
        "\n",
        "# Define the RGCN layer\n",
        "ggnn_input2 = GNNInput( \n",
        "    node_features=embeded,\n",
        "    adjacency_lists=(edge_index,),\n",
        "    node_to_graph_map=node2graph,\n",
        "    num_graphs=num_graph, \n",
        ")\n",
        "\n",
        "#Get the default hyperparameters for the GNN model and set the hidden dimension to 64\n",
        "params5 = GNN.get_default_hyperparameters()\n",
        "params5[\"hidden_dim\"] = 64\n",
        "#Set the number of hidden layers for the aggregation MLP to 32\n",
        "params5[\"num_aggr_MLP_HIDDEN_LAYERS\"] = 32\n",
        "#Set the message calculation class to GGNN (Gated Graph Neural Network)\n",
        "params5['message_calculation_class']= 'GGNN'\n",
        "#Set the number of attention heads to 4\n",
        "params5['num_heads']= 4\n",
        "#Create a GNN layer with the given parameters\n",
        "ggnn_layer2 = GNN(params5)\n",
        "#Apply the GNN layer to the input and get the output node representations\n",
        "ggnn_out2 = ggnn_layer2(ggnn_input2)\n",
        "#Print the shape and values of ggnn_out2\n",
        "print('ggnn_out2', ggnn_out2)\n",
        "\n",
        "#Compute the mean of the node representations for each graph using segment_mean\n",
        "avg = segment_mean(\n",
        "    data=ggnn_out2,\n",
        "    segment_ids=node2graph\n",
        ")\n",
        "#Print the shape and values of avg\n",
        "print('mean:', avg)\n",
        "\n",
        "#Apply a dense layer with sigmoid activation to get the prediction for each graph\n",
        "pred5 = Dense(1, activation='sigmoid')(avg)\n",
        "print('pred:', pred5)\n",
        "\n",
        "#Define the model with inputs and outputs\n",
        "model5 = Model(\n",
        "    inputs={\n",
        "        'data': data,\n",
        "        'edges': edge_index,\n",
        "        'node2grah': node2graph,\n",
        "    },\n",
        "    outputs=pred5\n",
        ")\n",
        "model5.summary()\n"
      ]
    },
    {
      "cell_type": "code",
      "execution_count": null,
      "metadata": {
        "id": "a5WQgAWDkqsM"
      },
      "outputs": [],
      "source": [
        "#Set up the model for binary classification with BinaryCrossentropy loss and AUC metric\n",
        "model5.compile(\n",
        "    loss='BinaryCrossentropy',\n",
        "    metrics=['AUC']\n",
        ")"
      ]
    },
    {
      "cell_type": "code",
      "execution_count": 36,
      "metadata": {
        "colab": {
          "base_uri": "https://localhost:8080/"
        },
        "outputId": "606906a9-fb73-4a0d-b521-f3af52b479d9",
        "id": "7fQVYxVlkqsM"
      },
      "outputs": [
        {
          "output_type": "stream",
          "name": "stdout",
          "text": [
            "Epoch 1/30\n",
            "1270/1270 [==============================] - 86s 68ms/step - loss: 0.1481 - auc: 0.9844 - val_loss: 0.3163 - val_auc: 0.9632\n",
            "Epoch 2/30\n",
            "1270/1270 [==============================] - 98s 77ms/step - loss: 0.1529 - auc: 0.9833 - val_loss: 0.3828 - val_auc: 0.9598\n",
            "Epoch 3/30\n",
            "1270/1270 [==============================] - 90s 71ms/step - loss: 0.1574 - auc: 0.9825 - val_loss: 0.3367 - val_auc: 0.9643\n",
            "Epoch 4/30\n",
            "1270/1270 [==============================] - 90s 71ms/step - loss: 0.1540 - auc: 0.9835 - val_loss: 0.3229 - val_auc: 0.9655\n",
            "Epoch 5/30\n",
            "1270/1270 [==============================] - 82s 65ms/step - loss: 0.1528 - auc: 0.9834 - val_loss: 0.3827 - val_auc: 0.9620\n",
            "Epoch 6/30\n",
            "1270/1270 [==============================] - 79s 62ms/step - loss: 0.1449 - auc: 0.9847 - val_loss: 0.3863 - val_auc: 0.9662\n",
            "Epoch 7/30\n",
            "1270/1270 [==============================] - 90s 71ms/step - loss: 0.1451 - auc: 0.9846 - val_loss: 0.4115 - val_auc: 0.9595\n",
            "Epoch 8/30\n",
            "1270/1270 [==============================] - 88s 70ms/step - loss: 0.1452 - auc: 0.9845 - val_loss: 0.4204 - val_auc: 0.9597\n",
            "Epoch 9/30\n",
            "1270/1270 [==============================] - 80s 63ms/step - loss: 0.1376 - auc: 0.9857 - val_loss: 0.4124 - val_auc: 0.9619\n",
            "Epoch 10/30\n",
            "1270/1270 [==============================] - 83s 65ms/step - loss: 0.1380 - auc: 0.9856 - val_loss: 0.3074 - val_auc: 0.9684\n",
            "Epoch 11/30\n",
            "1270/1270 [==============================] - 83s 65ms/step - loss: 0.1383 - auc: 0.9856 - val_loss: 0.3398 - val_auc: 0.9636\n",
            "Epoch 12/30\n",
            "1270/1270 [==============================] - 85s 67ms/step - loss: 0.1350 - auc: 0.9865 - val_loss: 0.4593 - val_auc: 0.9594\n",
            "Epoch 13/30\n",
            "1270/1270 [==============================] - 73s 57ms/step - loss: 0.1365 - auc: 0.9862 - val_loss: 0.3156 - val_auc: 0.9694\n",
            "Epoch 14/30\n",
            "1270/1270 [==============================] - 77s 61ms/step - loss: 0.1362 - auc: 0.9862 - val_loss: 0.3463 - val_auc: 0.9677\n",
            "Epoch 15/30\n",
            "1270/1270 [==============================] - 75s 59ms/step - loss: 0.1394 - auc: 0.9861 - val_loss: 0.3322 - val_auc: 0.9669\n",
            "Epoch 16/30\n",
            "1270/1270 [==============================] - 82s 65ms/step - loss: 0.1260 - auc: 0.9878 - val_loss: 0.3348 - val_auc: 0.9654\n",
            "Epoch 17/30\n",
            "1270/1270 [==============================] - 88s 69ms/step - loss: 0.1275 - auc: 0.9872 - val_loss: 0.3423 - val_auc: 0.9636\n",
            "Epoch 18/30\n",
            "1270/1270 [==============================] - 74s 58ms/step - loss: 0.1243 - auc: 0.9881 - val_loss: 0.3544 - val_auc: 0.9664\n",
            "Epoch 19/30\n",
            "1270/1270 [==============================] - 86s 68ms/step - loss: 0.1236 - auc: 0.9880 - val_loss: 0.4413 - val_auc: 0.9609\n",
            "Epoch 20/30\n",
            "1270/1270 [==============================] - 77s 61ms/step - loss: 0.1209 - auc: 0.9882 - val_loss: 0.4088 - val_auc: 0.9610\n",
            "Epoch 21/30\n",
            "1270/1270 [==============================] - 77s 61ms/step - loss: 0.1183 - auc: 0.9889 - val_loss: 0.4024 - val_auc: 0.9616\n",
            "Epoch 22/30\n",
            "1270/1270 [==============================] - 78s 62ms/step - loss: 0.1215 - auc: 0.9885 - val_loss: 0.3141 - val_auc: 0.9687\n",
            "Epoch 23/30\n",
            "1270/1270 [==============================] - 62s 49ms/step - loss: 0.1164 - auc: 0.9893 - val_loss: 0.3223 - val_auc: 0.9713\n",
            "Epoch 24/30\n",
            "1270/1270 [==============================] - 62s 49ms/step - loss: 0.1201 - auc: 0.9886 - val_loss: 0.4162 - val_auc: 0.9636\n",
            "Epoch 25/30\n",
            "1270/1270 [==============================] - 63s 50ms/step - loss: 0.1648 - auc: 0.9815 - val_loss: 0.3227 - val_auc: 0.9669\n",
            "Epoch 26/30\n",
            "1270/1270 [==============================] - 78s 61ms/step - loss: 0.1166 - auc: 0.9890 - val_loss: 0.3523 - val_auc: 0.9648\n",
            "Epoch 27/30\n",
            "1270/1270 [==============================] - 75s 59ms/step - loss: 0.1143 - auc: 0.9895 - val_loss: 0.4405 - val_auc: 0.9615\n",
            "Epoch 28/30\n",
            "1270/1270 [==============================] - 66s 52ms/step - loss: 0.1208 - auc: 0.9882 - val_loss: 0.4066 - val_auc: 0.9629\n",
            "Epoch 29/30\n",
            "1270/1270 [==============================] - 84s 66ms/step - loss: 0.1126 - auc: 0.9899 - val_loss: 0.3979 - val_auc: 0.9656\n",
            "Epoch 30/30\n",
            "1270/1270 [==============================] - 84s 66ms/step - loss: 0.1116 - auc: 0.9898 - val_loss: 0.4320 - val_auc: 0.9609\n"
          ]
        }
      ],
      "source": [
        "#Train the model for 30 epochs using a custom data generator and batch size of 30\n",
        "\n",
        "import math\n",
        "\n",
        "batch_size = 30\n",
        "num_batchs = math.ceil(len(x) / batch_size)\n",
        "num_batchs_validation = math.ceil(len(y) / batch_size)\n",
        "\n",
        "history = model5.fit(\n",
        "    gen_batch(\n",
        "        x, batch_size=batch_size, repeat=True\n",
        "    ),\n",
        "    steps_per_epoch=num_batchs,\n",
        "    epochs=30,\n",
        "    validation_data=gen_batch(\n",
        "        y, batch_size=30, repeat=True\n",
        "    ),\n",
        "    validation_steps=num_batchs_validation,\n",
        ")"
      ]
    },
    {
      "cell_type": "code",
      "execution_count": 40,
      "metadata": {
        "colab": {
          "base_uri": "https://localhost:8080/"
        },
        "outputId": "75143091-3bca-4063-f7e2-a8b63d3020fa",
        "id": "lcHk6lFNkqsO"
      },
      "outputs": [
        {
          "output_type": "stream",
          "name": "stdout",
          "text": [
            "411/411 [==============================] - 5s 13ms/step\n"
          ]
        }
      ],
      "source": [
        "# Use the model to make predictions on the test data\n",
        "# The test data is generated in batches of 16 and not shuffled\n",
        "y_pred5 = model5.predict(\n",
        "    gen_batch(test, batch_size=16, shuffle=False)\n",
        ")\n",
        "# Reshape the predictions to a one-dimensional array\n",
        "y_pred5 = np.reshape(y_pred5, -1)"
      ]
    },
    {
      "cell_type": "code",
      "execution_count": 41,
      "metadata": {
        "colab": {
          "base_uri": "https://localhost:8080/"
        },
        "outputId": "e38208a8-1c8d-4f81-b46d-d95da8b6621d",
        "id": "-N61DTCfkqsP"
      },
      "outputs": [
        {
          "output_type": "execute_result",
          "data": {
            "text/plain": [
              "12326"
            ]
          },
          "metadata": {},
          "execution_count": 41
        }
      ],
      "source": [
        "len(y_pred5)"
      ]
    },
    {
      "cell_type": "code",
      "execution_count": 42,
      "metadata": {
        "id": "qgBJE1B3kqsQ"
      },
      "outputs": [],
      "source": [
        "#  (if for kaggle competition and it is about genre prediction)\n",
        "import pandas as pd \n",
        "submission = pd.DataFrame({'label':y_pred5})\n",
        "submission.index.name = 'id'\n",
        "submission.to_csv('sample_submission5.csv')"
      ]
    },
    {
      "cell_type": "markdown",
      "source": [
        "This trail get Score: 0.85219 on kaggle"
      ],
      "metadata": {
        "id": "a2YIc6x1oFv5"
      }
    },
    {
      "cell_type": "markdown",
      "source": [
        "* `As I expected, the performance of this trail is the best :)` \n",
        "* After Up sampling ,The performance has improved\n",
        "\n"
      ],
      "metadata": {
        "id": "nD3V2OzJcp9Q"
      }
    },
    {
      "cell_type": "markdown",
      "source": [
        "# The Seventh trail\n",
        "# RGAT after resampling\n",
        "\n",
        "\n",
        "*   The Relational Graph Attention Network (RGAT) is a type of graph neural network (GNN) that is used for processing relationships between entities in a graph. \n",
        "\n",
        "*   RGATs are specifically designed to address the limitations of previous GNNs, such as the Graph Convolutional Network (GCN), which only consider a fixed edge weight for all nodes. RGATs model the relationships between pairs of nodes as edge weights and then use attention mechanisms to weigh these relationships, allowing the network to learn which relationships are most important for a given task.\n",
        "\n",
        "*   The main advantages of using RGAT over other GNNs include:\n",
        "\n",
        "      * Improved ability to capture complex dependencies in the graph\n",
        "\n",
        "      * Improved interpretability of the learned representation\n",
        "\n",
        "      * Improved performance on tasks that require reasoning about relationships between nodes\n",
        "*   Relational Graph Attention Network (RGAT) can be used for anti-cancer activity prediction by modeling relationships between entities such as molecular structures and biological activity using a graph. The RGAT architecture can learn to weigh relationships between entities, allowing it to capture complex dependencies in the graph and identify the most important relationships for predicting anti-cancer activity.\n",
        "*   RGAT could be a powerful tool for anti-cancer activity prediction, especially when the dependencies between molecular structures are complex and difficult to capture with traditional machine learning techniques.\n",
        "\n",
        "\n",
        "\n",
        "\n",
        "\n",
        "\n",
        "\n",
        "\n",
        "\n"
      ],
      "metadata": {
        "id": "PoJ7SpgJm1Af"
      }
    },
    {
      "cell_type": "markdown",
      "source": [
        "I expect the performance will be better than the previous RGAT trail before UP sampling.\n",
        "SO, let's try it"
      ],
      "metadata": {
        "id": "sBT2h6x3w_JG"
      }
    },
    {
      "cell_type": "code",
      "execution_count": null,
      "metadata": {
        "colab": {
          "base_uri": "https://localhost:8080/"
        },
        "outputId": "cad16380-b766-47ff-fc59-f9400342c37f",
        "id": "etu47gWRm1Af"
      },
      "outputs": [
        {
          "output_type": "stream",
          "name": "stdout",
          "text": [
            "rgan_out KerasTensor(type_spec=TensorSpec(shape=(None, 64), dtype=tf.float32, name=None), name='gnn_3/StatefulPartitionedCall:0', description=\"created by layer 'gnn_3'\")\n",
            "mean: KerasTensor(type_spec=TensorSpec(shape=(None, 64), dtype=tf.float32, name=None), name='tf.math.segment_mean_3/SegmentMean:0', description=\"created by layer 'tf.math.segment_mean_3'\")\n",
            "pred: KerasTensor(type_spec=TensorSpec(shape=(None, 1), dtype=tf.float32, name=None), name='dense_3/Sigmoid:0', description=\"created by layer 'dense_3'\")\n",
            "Model: \"model_2\"\n",
            "__________________________________________________________________________________________________\n",
            " Layer (type)                   Output Shape         Param #     Connected to                     \n",
            "==================================================================================================\n",
            " input_12 (InputLayer)          [(None,)]            0           []                               \n",
            "                                                                                                  \n",
            " input_10 (InputLayer)          [(None,)]            0           []                               \n",
            "                                                                                                  \n",
            " tf.math.reduce_max_3 (TFOpLamb  ()                  0           ['input_12[0][0]']               \n",
            " da)                                                                                              \n",
            "                                                                                                  \n",
            " embedding_3 (Embedding)        (None, 20)           10000       ['input_10[0][0]']               \n",
            "                                                                                                  \n",
            " input_11 (InputLayer)          [(None, 2)]          0           []                               \n",
            "                                                                                                  \n",
            " tf.__operators__.add_3 (TFOpLa  ()                  0           ['tf.math.reduce_max_3[0][0]']   \n",
            " mbda)                                                                                            \n",
            "                                                                                                  \n",
            " gnn_3 (GNN)                    (None, 64)           72064       ['embedding_3[0][0]',            \n",
            "                                                                  'input_11[0][0]',               \n",
            "                                                                  'input_12[0][0]',               \n",
            "                                                                  'tf.__operators__.add_3[0][0]'] \n",
            "                                                                                                  \n",
            " tf.math.segment_mean_3 (TFOpLa  (None, 64)          0           ['gnn_3[0][0]',                  \n",
            " mbda)                                                            'input_12[0][0]']               \n",
            "                                                                                                  \n",
            " dense_3 (Dense)                (None, 1)            65          ['tf.math.segment_mean_3[0][0]'] \n",
            "                                                                                                  \n",
            "==================================================================================================\n",
            "Total params: 82,129\n",
            "Trainable params: 82,129\n",
            "Non-trainable params: 0\n",
            "__________________________________________________________________________________________________\n"
          ]
        }
      ],
      "source": [
        "#Define the input for the node features (a batch of sequences of tokens)\n",
        "data = Input(batch_shape=(None,))\n",
        "\n",
        "# the first dim is different to the previous one. it is the total number of edges in this batch\n",
        "edge_index = Input(batch_shape=(None, 2),  dtype=tf.int32)\n",
        "node2graph = Input(batch_shape=(None,), dtype=tf.int32)\n",
        "embeded = Embedding(tokenizer.num_words, 20)(data)\n",
        "\n",
        "# number of graphs (number of samples)\n",
        "num_graph = tf.reduce_max(node2graph)+1\n",
        "\n",
        "# Define the RGCN layer\n",
        "rgat_input2 = GNNInput( \n",
        "    node_features=embeded,\n",
        "    adjacency_lists=(edge_index,),\n",
        "    node_to_graph_map=node2graph,\n",
        "    num_graphs=num_graph, \n",
        ")\n",
        "\n",
        "\n",
        "\n",
        "#Get the default hyperparameters for the GNN model and set the hidden dimension to 64\n",
        "params6 = GNN.get_default_hyperparameters()\n",
        "params6[\"hidden_dim\"] = 64\n",
        "#Set the number of hidden layers for the aggregation MLP to 32\n",
        "params6[\"num_aggr_MLP_HIDDEN_LAYERS\"] = 32\n",
        "#Set the message calculation class to RGAT (Relational Graph Attention Network)\n",
        "params6['message_calculation_class']= 'RGAT'\n",
        "#Set the number of attention heads to 4\n",
        "params6['num_heads']= 4\n",
        "\n",
        "#Create a GNN layer with the given parameters\n",
        "rgat_layer2 = GNN(params6)\n",
        "\n",
        "#Apply the GNN layer to the input and get the output node representations\n",
        "rgat_out2 = rgat_layer2(rgat_input2)\n",
        "#Print the shape and values of rgat_out2\n",
        "print('rgan_out', rgat_out2)\n",
        "\n",
        "#Compute the mean of the node representations for each graph using segment_mean\n",
        "avg = segment_mean(\n",
        "    data=rgat_out2,\n",
        "    segment_ids=node2graph\n",
        ")\n",
        "#Print the shape and values of avg\n",
        "print('mean:', avg)\n",
        "\n",
        "#Apply a dense layer with sigmoid activation to get the prediction for each graph\n",
        "pred6 = Dense(1, activation='sigmoid')(avg)\n",
        "print('pred:', pred6)\n",
        "\n",
        "#Define the model with inputs and outputs\n",
        "model6 = Model(\n",
        "    inputs={\n",
        "        'data': data,\n",
        "        'edges': edge_index,\n",
        "        'node2grah': node2graph,\n",
        "    },\n",
        "    outputs=pred6\n",
        ")\n",
        "model6.summary()\n"
      ]
    },
    {
      "cell_type": "code",
      "execution_count": null,
      "metadata": {
        "id": "lSKg1bdZm1Ag"
      },
      "outputs": [],
      "source": [
        "#Set up the model for binary classification with BinaryCrossentropy loss and AUC metric\n",
        "model6.compile(\n",
        "    loss='BinaryCrossentropy',\n",
        "    metrics=['AUC']\n",
        ")"
      ]
    },
    {
      "cell_type": "code",
      "execution_count": null,
      "metadata": {
        "colab": {
          "base_uri": "https://localhost:8080/"
        },
        "outputId": "4b80b3d3-76f1-4703-f519-fe967a745b77",
        "id": "B_ZvgkmOm1Ag"
      },
      "outputs": [
        {
          "output_type": "stream",
          "name": "stdout",
          "text": [
            "Epoch 1/30\n",
            "728/728 [==============================] - 41s 46ms/step - loss: 0.6635 - auc: 0.6397 - val_loss: 0.6245 - val_auc: 0.7095\n",
            "Epoch 2/30\n",
            "728/728 [==============================] - 20s 28ms/step - loss: 0.6107 - auc: 0.7272 - val_loss: 0.6208 - val_auc: 0.7402\n",
            "Epoch 3/30\n",
            "728/728 [==============================] - 21s 29ms/step - loss: 0.5869 - auc: 0.7563 - val_loss: 0.5912 - val_auc: 0.7559\n",
            "Epoch 4/30\n",
            "728/728 [==============================] - 20s 28ms/step - loss: 0.5789 - auc: 0.7645 - val_loss: 0.5828 - val_auc: 0.7661\n",
            "Epoch 5/30\n",
            "728/728 [==============================] - 21s 29ms/step - loss: 0.5675 - auc: 0.7771 - val_loss: 0.5748 - val_auc: 0.7762\n",
            "Epoch 6/30\n",
            "728/728 [==============================] - 20s 28ms/step - loss: 0.5664 - auc: 0.7803 - val_loss: 0.5655 - val_auc: 0.7901\n",
            "Epoch 7/30\n",
            "728/728 [==============================] - 27s 37ms/step - loss: 0.5543 - auc: 0.7925 - val_loss: 0.5471 - val_auc: 0.8037\n",
            "Epoch 8/30\n",
            "728/728 [==============================] - 23s 32ms/step - loss: 0.5423 - auc: 0.8010 - val_loss: 0.5401 - val_auc: 0.8121\n",
            "Epoch 9/30\n",
            "728/728 [==============================] - 22s 30ms/step - loss: 0.5252 - auc: 0.8168 - val_loss: 0.5154 - val_auc: 0.8304\n",
            "Epoch 10/30\n",
            "728/728 [==============================] - 21s 28ms/step - loss: 0.5108 - auc: 0.8281 - val_loss: 0.4972 - val_auc: 0.8407\n",
            "Epoch 11/30\n",
            "728/728 [==============================] - 28s 39ms/step - loss: 0.4993 - auc: 0.8367 - val_loss: 0.4962 - val_auc: 0.8462\n",
            "Epoch 12/30\n",
            "728/728 [==============================] - 29s 40ms/step - loss: 0.4877 - auc: 0.8460 - val_loss: 0.4834 - val_auc: 0.8497\n",
            "Epoch 13/30\n",
            "728/728 [==============================] - 28s 38ms/step - loss: 0.4732 - auc: 0.8565 - val_loss: 0.4569 - val_auc: 0.8682\n",
            "Epoch 14/30\n",
            "728/728 [==============================] - 28s 38ms/step - loss: 0.4596 - auc: 0.8655 - val_loss: 0.4544 - val_auc: 0.8726\n",
            "Epoch 15/30\n",
            "728/728 [==============================] - 32s 44ms/step - loss: 0.4418 - auc: 0.8770 - val_loss: 0.4288 - val_auc: 0.8868\n",
            "Epoch 16/30\n",
            "728/728 [==============================] - 29s 39ms/step - loss: 0.4286 - auc: 0.8844 - val_loss: 0.4115 - val_auc: 0.8974\n",
            "Epoch 17/30\n",
            "728/728 [==============================] - 29s 40ms/step - loss: 0.4132 - auc: 0.8932 - val_loss: 0.4192 - val_auc: 0.8956\n",
            "Epoch 18/30\n",
            "728/728 [==============================] - 28s 39ms/step - loss: 0.4026 - auc: 0.8994 - val_loss: 0.3786 - val_auc: 0.9132\n",
            "Epoch 19/30\n",
            "728/728 [==============================] - 32s 44ms/step - loss: 0.3878 - auc: 0.9073 - val_loss: 0.3758 - val_auc: 0.9132\n",
            "Epoch 20/30\n",
            "728/728 [==============================] - 26s 35ms/step - loss: 0.3765 - auc: 0.9127 - val_loss: 0.3664 - val_auc: 0.9188\n",
            "Epoch 21/30\n",
            "728/728 [==============================] - 20s 27ms/step - loss: 0.3650 - auc: 0.9181 - val_loss: 0.3508 - val_auc: 0.9241\n",
            "Epoch 22/30\n",
            "728/728 [==============================] - 21s 29ms/step - loss: 0.3606 - auc: 0.9201 - val_loss: 0.3410 - val_auc: 0.9293\n",
            "Epoch 23/30\n",
            "728/728 [==============================] - 20s 27ms/step - loss: 0.3502 - auc: 0.9251 - val_loss: 0.3437 - val_auc: 0.9317\n",
            "Epoch 24/30\n",
            "728/728 [==============================] - 21s 29ms/step - loss: 0.3394 - auc: 0.9292 - val_loss: 0.3280 - val_auc: 0.9358\n",
            "Epoch 25/30\n",
            "728/728 [==============================] - 21s 28ms/step - loss: 0.3326 - auc: 0.9323 - val_loss: 0.3268 - val_auc: 0.9343\n",
            "Epoch 26/30\n",
            "728/728 [==============================] - 20s 27ms/step - loss: 0.3266 - auc: 0.9350 - val_loss: 0.3050 - val_auc: 0.9431\n",
            "Epoch 27/30\n",
            "728/728 [==============================] - 21s 28ms/step - loss: 0.3199 - auc: 0.9373 - val_loss: 0.3167 - val_auc: 0.9467\n",
            "Epoch 28/30\n",
            "728/728 [==============================] - 20s 27ms/step - loss: 0.3111 - auc: 0.9403 - val_loss: 0.2906 - val_auc: 0.9497\n",
            "Epoch 29/30\n",
            "728/728 [==============================] - 21s 29ms/step - loss: 0.3090 - auc: 0.9414 - val_loss: 0.2983 - val_auc: 0.9454\n",
            "Epoch 30/30\n",
            "728/728 [==============================] - 21s 29ms/step - loss: 0.2960 - auc: 0.9460 - val_loss: 0.2864 - val_auc: 0.9495\n"
          ]
        }
      ],
      "source": [
        "#Train the model for 30 epochs using a custom data generator and batch size of 32\n",
        "\n",
        "import math\n",
        "\n",
        "batch_size = 32\n",
        "num_batchs = math.ceil(len(x) / batch_size)\n",
        "num_batchs_validation = math.ceil(len(y) / batch_size)\n",
        "\n",
        "history = model6.fit(\n",
        "    gen_batch(\n",
        "        x, batch_size=batch_size, repeat=True\n",
        "    ),\n",
        "    steps_per_epoch=num_batchs,\n",
        "    epochs=30,\n",
        "    validation_data=gen_batch(\n",
        "        y, batch_size=32, repeat=True\n",
        "    ),\n",
        "    validation_steps=num_batchs_validation,\n",
        ")"
      ]
    },
    {
      "cell_type": "code",
      "execution_count": null,
      "metadata": {
        "colab": {
          "base_uri": "https://localhost:8080/"
        },
        "outputId": "b3e74dc9-d97c-4fd5-851d-c1f83474373b",
        "id": "PGktRCXom1Ag"
      },
      "outputs": [
        {
          "output_type": "stream",
          "name": "stdout",
          "text": [
            "386/386 [==============================] - 3s 7ms/step\n"
          ]
        }
      ],
      "source": [
        "# Use the model to make predictions on the test data\n",
        "# The test data is generated in batches of 32 and not shuffled\n",
        "y_pred6 = model6.predict(\n",
        "    gen_batch(test, batch_size=32, shuffle=False)\n",
        ")\n",
        "# Reshape the predictions to a one-dimensional array\n",
        "y_pred6 = np.reshape(y_pred6, -1)"
      ]
    },
    {
      "cell_type": "code",
      "execution_count": null,
      "metadata": {
        "colab": {
          "base_uri": "https://localhost:8080/"
        },
        "outputId": "df9bdc69-05ce-469a-f60a-dd27f733ff29",
        "id": "s0nOhThrm1Ag"
      },
      "outputs": [
        {
          "output_type": "execute_result",
          "data": {
            "text/plain": [
              "12326"
            ]
          },
          "metadata": {},
          "execution_count": 41
        }
      ],
      "source": [
        "len(y_pred6)"
      ]
    },
    {
      "cell_type": "code",
      "execution_count": null,
      "metadata": {
        "id": "RL8ZjRonm1Ag"
      },
      "outputs": [],
      "source": [
        "#  (if for kaggle competition and it is about genre prediction)\n",
        "import pandas as pd \n",
        "submission = pd.DataFrame({'label':y_pred6})\n",
        "submission.index.name = 'id'\n",
        "submission.to_csv('sample_submission6.csv')"
      ]
    },
    {
      "cell_type": "markdown",
      "source": [
        "This trail get Score: 0.8141 on kaggle.\n"
      ],
      "metadata": {
        "id": "rq8G6p20okcL"
      }
    },
    {
      "cell_type": "markdown",
      "source": [
        "`it's better than the previous RGAT trail before UP sampling and there is no overfitting or underfitting.`\n",
        "I think we can get a better score if we change the number of epochs and batch size."
      ],
      "metadata": {
        "id": "3ayKaKBsxi8z"
      }
    },
    {
      "cell_type": "markdown",
      "source": [
        "# The Eighth Trail\n",
        "#RGCN after resampling\n",
        "\n",
        "RGCN, or Relational Graph Convolution Network , is a type of Graph Neural Network (GNN) that can be used for modeling relational data. Specifically, RGCNs can be used for link prediction and recommendation systems, where the goal is to predict the presence or absence of a connection between two entities in a graph.\n",
        "\n",
        "may require experimentation and testing to determine the most effective approach. \n",
        "\n",
        "RGCNs can be used to predict the efficacy of potential drugs based on their molecular structures and relationships with biological targets. By analyzing the graph structure of the relationship network between drugs, molecular structures, and biological targets, RGCNs can learn to extract features that are important in predicting the anti-cancer activity of compounds.\n",
        "\n",
        "RGCNs can provide a powerful tool for anti-cancer activity prediction by leveraging the structure of relational data and identifying key features and relationships that are important in predicting cancer outcomes, an RGCN model could be a suitable choice\n"
      ],
      "metadata": {
        "id": "d2m8Mub9pGYQ"
      }
    },
    {
      "cell_type": "markdown",
      "source": [
        "`I expect the performance will be better than the previous RGCN trail before Up sampling.`\n"
      ],
      "metadata": {
        "id": "BtM7q1_8yrBL"
      }
    },
    {
      "cell_type": "code",
      "execution_count": null,
      "metadata": {
        "colab": {
          "base_uri": "https://localhost:8080/"
        },
        "outputId": "681a9cde-a151-4546-cdd4-9e4876c0327c",
        "id": "YrCyQPJlpGYT"
      },
      "outputs": [
        {
          "output_type": "stream",
          "name": "stdout",
          "text": [
            "rgcn_out KerasTensor(type_spec=TensorSpec(shape=(None, 64), dtype=tf.float32, name=None), name='gnn_4/StatefulPartitionedCall:0', description=\"created by layer 'gnn_4'\")\n",
            "mean: KerasTensor(type_spec=TensorSpec(shape=(None, 64), dtype=tf.float32, name=None), name='tf.math.segment_mean_4/SegmentMean:0', description=\"created by layer 'tf.math.segment_mean_4'\")\n",
            "pred: KerasTensor(type_spec=TensorSpec(shape=(None, 1), dtype=tf.float32, name=None), name='dense_4/Sigmoid:0', description=\"created by layer 'dense_4'\")\n",
            "Model: \"model_3\"\n",
            "__________________________________________________________________________________________________\n",
            " Layer (type)                   Output Shape         Param #     Connected to                     \n",
            "==================================================================================================\n",
            " input_15 (InputLayer)          [(None,)]            0           []                               \n",
            "                                                                                                  \n",
            " input_13 (InputLayer)          [(None,)]            0           []                               \n",
            "                                                                                                  \n",
            " tf.math.reduce_max_4 (TFOpLamb  ()                  0           ['input_15[0][0]']               \n",
            " da)                                                                                              \n",
            "                                                                                                  \n",
            " embedding_4 (Embedding)        (None, 20)           10000       ['input_13[0][0]']               \n",
            "                                                                                                  \n",
            " input_14 (InputLayer)          [(None, 2)]          0           []                               \n",
            "                                                                                                  \n",
            " tf.__operators__.add_4 (TFOpLa  ()                  0           ['tf.math.reduce_max_4[0][0]']   \n",
            " mbda)                                                                                            \n",
            "                                                                                                  \n",
            " gnn_4 (GNN)                    (None, 64)           71552       ['embedding_4[0][0]',            \n",
            "                                                                  'input_14[0][0]',               \n",
            "                                                                  'input_15[0][0]',               \n",
            "                                                                  'tf.__operators__.add_4[0][0]'] \n",
            "                                                                                                  \n",
            " tf.math.segment_mean_4 (TFOpLa  (None, 64)          0           ['gnn_4[0][0]',                  \n",
            " mbda)                                                            'input_15[0][0]']               \n",
            "                                                                                                  \n",
            " dense_4 (Dense)                (None, 1)            65          ['tf.math.segment_mean_4[0][0]'] \n",
            "                                                                                                  \n",
            "==================================================================================================\n",
            "Total params: 81,617\n",
            "Trainable params: 81,617\n",
            "Non-trainable params: 0\n",
            "__________________________________________________________________________________________________\n"
          ]
        }
      ],
      "source": [
        "#Import the necessary modules\n",
        "import tensorflow as tf\n",
        "from tensorflow.keras.layers import Input, Embedding, Dense, Lambda\n",
        "from tensorflow.keras.optimizers import Adam\n",
        "from tensorflow.keras.models import Model\n",
        "\n",
        "#Define the input for the node features (a batch of sequences of tokens)\n",
        "data = Input(batch_shape=(None,))\n",
        "\n",
        "# the first dim is different to the previous one. it is the total number of edges in this batch\n",
        "edge_index = Input(batch_shape=(None, 2),  dtype=tf.int32)\n",
        "node2graph = Input(batch_shape=(None,), dtype=tf.int32)\n",
        "embeded = Embedding(tokenizer.num_words, 20)(data)\n",
        "\n",
        "# number of graphs (number of samples)\n",
        "num_graph = tf.reduce_max(node2graph)+1\n",
        "\n",
        "# Define the RGCN layer\n",
        "rgcn_input2 = GNNInput( \n",
        "    node_features=embeded,\n",
        "    adjacency_lists=(edge_index,),\n",
        "    node_to_graph_map=node2graph,\n",
        "    num_graphs=num_graph, \n",
        ")\n",
        "\n",
        "\n",
        "\n",
        "#Get the default hyperparameters for the GNN model and set the hidden dimension to 64\n",
        "params7 = GNN.get_default_hyperparameters()\n",
        "params7[\"hidden_dim\"] = 64\n",
        "#Set the number of hidden layers for the aggregation MLP to 32\n",
        "params7[\"num_aggr_MLP_HIDDEN_LAYERS\"] = 32\n",
        "#Set the message calculation class to RGCN (Relational Graph Convolutional Network)\n",
        "params7['message_calculation_class']= 'RGCN'\n",
        "#Create a GNN layer with the given parameters\n",
        "rgcn_layer2 = GNN(params7)\n",
        "\n",
        "#Apply the GNN layer to the input and get the output node representations\n",
        "rgcn_out2 = rgcn_layer2(rgcn_input2)\n",
        "\n",
        "#Print the shape and values of rgcn_out2\n",
        "print('rgcn_out', rgcn_out2)\n",
        "\n",
        "#Compute the mean of the node representations for each graph using segment_mean\n",
        "avg = segment_mean(\n",
        "    data=rgcn_out2,\n",
        "    segment_ids=node2graph\n",
        ")\n",
        "\n",
        "#Print the shape and values of avg\n",
        "print('mean:', avg)\n",
        "\n",
        "#Apply a dense layer with sigmoid activation to get the prediction for each graph\n",
        "pred7 = Dense(1, activation='sigmoid')(avg)\n",
        "print('pred:', pred7)\n",
        "\n",
        "#Define the model with inputs and outputs\n",
        "model7 = Model(\n",
        "    inputs={\n",
        "        'data': data,\n",
        "        'edges': edge_index,\n",
        "        'node2grah': node2graph,\n",
        "    },\n",
        "    outputs=pred7\n",
        ")\n",
        "model7.summary()\n"
      ]
    },
    {
      "cell_type": "code",
      "execution_count": null,
      "metadata": {
        "id": "SJ40E7s1pGYW"
      },
      "outputs": [],
      "source": [
        "#Set up the model for binary classification with BinaryCrossentropy loss and AUC metric\n",
        "model7.compile(\n",
        "    loss='BinaryCrossentropy',\n",
        "    metrics=['AUC']\n",
        ")"
      ]
    },
    {
      "cell_type": "code",
      "execution_count": null,
      "metadata": {
        "colab": {
          "base_uri": "https://localhost:8080/"
        },
        "outputId": "d465402a-e6f6-4544-c79b-6f4a7d1f8136",
        "id": "x_Q2-SbxpGYX"
      },
      "outputs": [
        {
          "output_type": "stream",
          "name": "stdout",
          "text": [
            "Epoch 1/20\n",
            "728/728 [==============================] - 16s 17ms/step - loss: 0.6591 - auc: 0.6459 - val_loss: 0.6262 - val_auc: 0.7122\n",
            "Epoch 2/20\n",
            "728/728 [==============================] - 12s 16ms/step - loss: 0.6063 - auc: 0.7322 - val_loss: 0.6013 - val_auc: 0.7444\n",
            "Epoch 3/20\n",
            "728/728 [==============================] - 12s 16ms/step - loss: 0.5903 - auc: 0.7509 - val_loss: 0.5897 - val_auc: 0.7559\n",
            "Epoch 4/20\n",
            "728/728 [==============================] - 13s 18ms/step - loss: 0.5845 - auc: 0.7569 - val_loss: 0.6004 - val_auc: 0.7531\n",
            "Epoch 5/20\n",
            "728/728 [==============================] - 11s 15ms/step - loss: 0.5782 - auc: 0.7637 - val_loss: 0.5861 - val_auc: 0.7636\n",
            "Epoch 6/20\n",
            "728/728 [==============================] - 12s 16ms/step - loss: 0.5694 - auc: 0.7718 - val_loss: 0.5804 - val_auc: 0.7764\n",
            "Epoch 7/20\n",
            "728/728 [==============================] - 11s 15ms/step - loss: 0.5643 - auc: 0.7796 - val_loss: 0.5649 - val_auc: 0.7821\n",
            "Epoch 8/20\n",
            "728/728 [==============================] - 10s 14ms/step - loss: 0.5586 - auc: 0.7847 - val_loss: 0.5574 - val_auc: 0.7866\n",
            "Epoch 9/20\n",
            "728/728 [==============================] - 12s 17ms/step - loss: 0.5572 - auc: 0.7861 - val_loss: 0.5648 - val_auc: 0.7833\n",
            "Epoch 10/20\n",
            "728/728 [==============================] - 13s 17ms/step - loss: 0.5469 - auc: 0.7958 - val_loss: 0.5578 - val_auc: 0.7914\n",
            "Epoch 11/20\n",
            "728/728 [==============================] - 12s 17ms/step - loss: 0.5430 - auc: 0.8003 - val_loss: 0.5490 - val_auc: 0.8015\n",
            "Epoch 12/20\n",
            "728/728 [==============================] - 11s 15ms/step - loss: 0.5365 - auc: 0.8068 - val_loss: 0.5528 - val_auc: 0.7947\n",
            "Epoch 13/20\n",
            "728/728 [==============================] - 11s 15ms/step - loss: 0.5278 - auc: 0.8141 - val_loss: 0.5341 - val_auc: 0.8108\n",
            "Epoch 14/20\n",
            "728/728 [==============================] - 15s 20ms/step - loss: 0.5205 - auc: 0.8213 - val_loss: 0.5240 - val_auc: 0.8223\n",
            "Epoch 15/20\n",
            "728/728 [==============================] - 13s 18ms/step - loss: 0.5135 - auc: 0.8270 - val_loss: 0.5224 - val_auc: 0.8274\n",
            "Epoch 16/20\n",
            "728/728 [==============================] - 13s 17ms/step - loss: 0.5062 - auc: 0.8327 - val_loss: 0.5269 - val_auc: 0.8306\n",
            "Epoch 17/20\n",
            "728/728 [==============================] - 15s 21ms/step - loss: 0.4974 - auc: 0.8399 - val_loss: 0.5059 - val_auc: 0.8392\n",
            "Epoch 18/20\n",
            "728/728 [==============================] - 14s 19ms/step - loss: 0.4900 - auc: 0.8458 - val_loss: 0.4895 - val_auc: 0.8485\n",
            "Epoch 19/20\n",
            "728/728 [==============================] - 19s 26ms/step - loss: 0.4802 - auc: 0.8536 - val_loss: 0.4755 - val_auc: 0.8579\n",
            "Epoch 20/20\n",
            "728/728 [==============================] - 13s 18ms/step - loss: 0.4738 - auc: 0.8581 - val_loss: 0.4812 - val_auc: 0.8541\n"
          ]
        },
        {
          "output_type": "execute_result",
          "data": {
            "text/plain": [
              "<keras.callbacks.History at 0x7efdb04f3af0>"
            ]
          },
          "metadata": {},
          "execution_count": 46
        }
      ],
      "source": [
        "#Train the model for 20 epochs using a custom data generator and batch size of 32\n",
        "\n",
        "import math\n",
        "\n",
        "batch_size = 32\n",
        "num_batchs = math.ceil(len(x) / batch_size)\n",
        "num_batchs_validation = math.ceil(len(y) / batch_size)\n",
        "\n",
        "model7.fit(\n",
        "    gen_batch(\n",
        "        x, batch_size=batch_size, repeat=True\n",
        "    ),\n",
        "    steps_per_epoch=num_batchs,\n",
        "    epochs=20,\n",
        "    validation_data=gen_batch(\n",
        "        y, batch_size=32, repeat=True\n",
        "    ),\n",
        "    validation_steps=num_batchs_validation,\n",
        ")"
      ]
    },
    {
      "cell_type": "code",
      "execution_count": null,
      "metadata": {
        "colab": {
          "base_uri": "https://localhost:8080/"
        },
        "outputId": "1bc5b908-3868-470a-87fe-f0709b034f87",
        "id": "XX81LYxwpGYY"
      },
      "outputs": [
        {
          "output_type": "stream",
          "name": "stdout",
          "text": [
            "386/386 [==============================] - 2s 5ms/step\n"
          ]
        }
      ],
      "source": [
        "# Use the model to make predictions on the test data\n",
        "# The test data is generated in batches of 32 and not shuffled\n",
        "y_pred7 = model7.predict(\n",
        "    gen_batch(test, batch_size=32, shuffle=False)\n",
        ")\n",
        "# Reshape the predictions to a one-dimensional array\n",
        "y_pred7 = np.reshape(y_pred7, -1)"
      ]
    },
    {
      "cell_type": "code",
      "execution_count": null,
      "metadata": {
        "colab": {
          "base_uri": "https://localhost:8080/"
        },
        "outputId": "78e12f3f-7625-4816-ccd3-0db6ed10342a",
        "id": "YySPm39dpGYZ"
      },
      "outputs": [
        {
          "output_type": "execute_result",
          "data": {
            "text/plain": [
              "12326"
            ]
          },
          "metadata": {},
          "execution_count": 48
        }
      ],
      "source": [
        "len(y_pred7)"
      ]
    },
    {
      "cell_type": "code",
      "execution_count": null,
      "metadata": {
        "id": "71eE17q4pGYa"
      },
      "outputs": [],
      "source": [
        "#  (if for kaggle competition and it is about genre prediction)\n",
        "import pandas as pd \n",
        "submission = pd.DataFrame({'label':y_pred7})\n",
        "submission.index.name = 'id'\n",
        "submission.to_csv('sample_submission7.csv')"
      ]
    },
    {
      "cell_type": "markdown",
      "source": [
        "This trail get score Score: 0.79093 on Kaggle "
      ],
      "metadata": {
        "id": "QCp5hUbkpGYa"
      }
    },
    {
      "cell_type": "markdown",
      "source": [
        "`it's better than the previous RGCN trail before UP sampling and there is no overfitting or underfitting.`"
      ],
      "metadata": {
        "id": "0RH6lHR5zJuo"
      }
    },
    {
      "cell_type": "markdown",
      "source": [
        "#The Ninth trail\n",
        "#RGIN after resampling\n",
        "\n",
        "* a Relational Graph Isomorphism Network (RGIN) is a type of Graph Neural Network (GNN) that has a high discriminative power and can capture complex structural patterns in graphs. It is based on the idea of the Weisfeiler-Lehman test, which is a method to check if two graphs are isomorphic, i.e., have the same structure. A RGIN uses a simple aggregator function that updates the node features by adding the sum of the neighbor features and applying a nonlinear transformation. This way, it can preserve the node identity and distinguish between different graph structures. This way, it can preserve the node identity and distinguish between different graph structures.\n",
        "* We set the message calculation class to RGIN when we want to use this powerful GNN architecture for graph representation learning tasks, such as node classification, graph classification, or link prediction. RGIN can learn more expressive and informative node embeddings than other GNN models, such as GCN or GraphSAGE, which use more complex aggregators that may lose some structural information. RGIN can also handle graphs with different types of edges or relations, by using different weight matrices for each edge type.\n",
        "* RGIN can learn the structural and relational features of ACPs and their interactions with cancer cell membranes, and predict their anti-cancer activity based on their node embeddings. RGIN can also provide interpretable explanations for the predictions by highlighting the important nodes and edges that contribute to the anti-cancer activity of ACPs. \n",
        "\n",
        "\n"
      ],
      "metadata": {
        "id": "0zDIHeLGr2eL"
      }
    },
    {
      "cell_type": "markdown",
      "source": [
        "`I don't think it will get much better but let's try`\n"
      ],
      "metadata": {
        "id": "3t5n1MtVjXqR"
      }
    },
    {
      "cell_type": "code",
      "execution_count": null,
      "metadata": {
        "colab": {
          "base_uri": "https://localhost:8080/"
        },
        "outputId": "7f98059a-f492-4411-e5e6-8a05c64dcd6d",
        "id": "2Zd-PZ5wr2eM"
      },
      "outputs": [
        {
          "output_type": "stream",
          "name": "stdout",
          "text": [
            "rgin_out KerasTensor(type_spec=TensorSpec(shape=(None, 64), dtype=tf.float32, name=None), name='gnn_6/StatefulPartitionedCall:0', description=\"created by layer 'gnn_6'\")\n",
            "mean: KerasTensor(type_spec=TensorSpec(shape=(None, 64), dtype=tf.float32, name=None), name='tf.math.segment_mean_5/SegmentMean:0', description=\"created by layer 'tf.math.segment_mean_5'\")\n",
            "pred: KerasTensor(type_spec=TensorSpec(shape=(None, 1), dtype=tf.float32, name=None), name='dense_5/Sigmoid:0', description=\"created by layer 'dense_5'\")\n",
            "Model: \"model_4\"\n",
            "__________________________________________________________________________________________________\n",
            " Layer (type)                   Output Shape         Param #     Connected to                     \n",
            "==================================================================================================\n",
            " input_21 (InputLayer)          [(None,)]            0           []                               \n",
            "                                                                                                  \n",
            " input_19 (InputLayer)          [(None,)]            0           []                               \n",
            "                                                                                                  \n",
            " tf.math.reduce_max_6 (TFOpLamb  ()                  0           ['input_21[0][0]']               \n",
            " da)                                                                                              \n",
            "                                                                                                  \n",
            " embedding_6 (Embedding)        (None, 20)           10000       ['input_19[0][0]']               \n",
            "                                                                                                  \n",
            " input_20 (InputLayer)          [(None, 2)]          0           []                               \n",
            "                                                                                                  \n",
            " tf.__operators__.add_6 (TFOpLa  ()                  0           ['tf.math.reduce_max_6[0][0]']   \n",
            " mbda)                                                                                            \n",
            "                                                                                                  \n",
            " gnn_6 (GNN)                    (None, 64)           1136512     ['embedding_6[0][0]',            \n",
            "                                                                  'input_20[0][0]',               \n",
            "                                                                  'input_21[0][0]',               \n",
            "                                                                  'tf.__operators__.add_6[0][0]'] \n",
            "                                                                                                  \n",
            " tf.math.segment_mean_5 (TFOpLa  (None, 64)          0           ['gnn_6[0][0]',                  \n",
            " mbda)                                                            'input_21[0][0]']               \n",
            "                                                                                                  \n",
            " dense_5 (Dense)                (None, 1)            65          ['tf.math.segment_mean_5[0][0]'] \n",
            "                                                                                                  \n",
            "==================================================================================================\n",
            "Total params: 1,146,577\n",
            "Trainable params: 1,146,577\n",
            "Non-trainable params: 0\n",
            "__________________________________________________________________________________________________\n"
          ]
        }
      ],
      "source": [
        "#Define the input for the node features (a batch of sequences of tokens)\n",
        "data = Input(batch_shape=(None,))\n",
        "\n",
        "# the first dim is different to the previous one. it is the total number of edges in this batch\n",
        "edge_index = Input(batch_shape=(None, 2),  dtype=tf.int32)\n",
        "node2graph = Input(batch_shape=(None,), dtype=tf.int32)\n",
        "embeded = Embedding(tokenizer.num_words, 20)(data)\n",
        "\n",
        "# number of graphs (number of samples)\n",
        "num_graph = tf.reduce_max(node2graph)+1\n",
        "\n",
        "# Define the RGIN layer\n",
        "rgin_input2 = GNNInput( \n",
        "    node_features=embeded,\n",
        "    adjacency_lists=(edge_index,),\n",
        "    node_to_graph_map=node2graph,\n",
        "    num_graphs=num_graph, \n",
        ")\n",
        "#Get the default hyperparameters for the GNN model and set the hidden dimension to 64\n",
        "params8 = GNN.get_default_hyperparameters()\n",
        "params8[\"hidden_dim\"] = 64\n",
        "#Set the number of hidden layers for the aggregation MLP to 64\n",
        "params8[\"num_aggr_MLP_hidden_layers\"] = 64\n",
        "#Set the message calculation class to RGIN (Relational Graph Isomorphism Network)\n",
        "params8['message_calculation_class']= 'RGIN'\n",
        "\n",
        "#Create a GNN layer with the given parameters\n",
        "rgin_layer2 = GNN(params8)\n",
        "\n",
        "#Apply the GNN layer to the input and get the output node representations\n",
        "rgin_out2 = rgin_layer2(rgin_input2)\n",
        "\n",
        "#Print the shape and values of rgin_out2\n",
        "print('rgin_out', rgin_out2)\n",
        "\n",
        "#Compute the mean of the node representations for each graph using segment_mean\n",
        "avg = segment_mean(\n",
        "    data=rgin_out2,\n",
        "    segment_ids=node2graph\n",
        ")\n",
        "\n",
        "#Print the shape and values of avg\n",
        "print('mean:', avg)\n",
        "\n",
        "#Apply a dense layer with sigmoid activation to get the prediction for each graph\n",
        "pred8 = Dense(1, activation='sigmoid')(avg)\n",
        "print('pred:', pred8)\n",
        "\n",
        "#Define the model with inputs and outputs\n",
        "model8 = Model(\n",
        "    inputs={\n",
        "        'data': data,\n",
        "        'edges': edge_index,\n",
        "        'node2grah': node2graph,\n",
        "    },\n",
        "    outputs=pred8\n",
        ")\n",
        "model8.summary()\n"
      ]
    },
    {
      "cell_type": "code",
      "execution_count": null,
      "metadata": {
        "id": "QUH9P5_Rr2eN"
      },
      "outputs": [],
      "source": [
        "#Set up the model for binary classification with BinaryCrossentropy loss and AUC metric\n",
        "model8.compile(\n",
        "    loss='BinaryCrossentropy',\n",
        "    metrics=['AUC']\n",
        ")"
      ]
    },
    {
      "cell_type": "code",
      "execution_count": null,
      "metadata": {
        "colab": {
          "base_uri": "https://localhost:8080/"
        },
        "outputId": "7ec2bff6-a0f0-480e-91f1-483a1ad53aa1",
        "id": "WcWvPxJkr2eN"
      },
      "outputs": [
        {
          "output_type": "stream",
          "name": "stdout",
          "text": [
            "Epoch 1/30\n",
            "728/728 [==============================] - 102s 66ms/step - loss: 0.6932 - auc: 0.4960 - val_loss: 0.6932 - val_auc: 0.5000\n",
            "Epoch 2/30\n",
            "728/728 [==============================] - 46s 64ms/step - loss: 0.6932 - auc: 0.4956 - val_loss: 0.6931 - val_auc: 0.5000\n",
            "Epoch 3/30\n",
            "728/728 [==============================] - 50s 68ms/step - loss: 0.6932 - auc: 0.4985 - val_loss: 0.6932 - val_auc: 0.5000\n",
            "Epoch 4/30\n",
            "728/728 [==============================] - 59s 81ms/step - loss: 0.6932 - auc: 0.4964 - val_loss: 0.6932 - val_auc: 0.5000\n",
            "Epoch 5/30\n",
            "728/728 [==============================] - 62s 84ms/step - loss: 0.6932 - auc: 0.4972 - val_loss: 0.6932 - val_auc: 0.5000\n",
            "Epoch 6/30\n",
            "728/728 [==============================] - 56s 77ms/step - loss: 0.6932 - auc: 0.4984 - val_loss: 0.6931 - val_auc: 0.5000\n",
            "Epoch 7/30\n",
            "728/728 [==============================] - 59s 81ms/step - loss: 0.6932 - auc: 0.4951 - val_loss: 0.6931 - val_auc: 0.5000\n",
            "Epoch 8/30\n",
            "728/728 [==============================] - 42s 58ms/step - loss: 0.6932 - auc: 0.4990 - val_loss: 0.6931 - val_auc: 0.5000\n",
            "Epoch 9/30\n",
            "728/728 [==============================] - 42s 57ms/step - loss: 0.6932 - auc: 0.4970 - val_loss: 0.6932 - val_auc: 0.5000\n",
            "Epoch 10/30\n",
            "728/728 [==============================] - 43s 59ms/step - loss: 0.6932 - auc: 0.4985 - val_loss: 0.6931 - val_auc: 0.5000\n",
            "Epoch 11/30\n",
            "728/728 [==============================] - 42s 58ms/step - loss: 0.6932 - auc: 0.4954 - val_loss: 0.6931 - val_auc: 0.5000\n",
            "Epoch 12/30\n",
            "728/728 [==============================] - 43s 59ms/step - loss: 0.6932 - auc: 0.4980 - val_loss: 0.6932 - val_auc: 0.5000\n",
            "Epoch 13/30\n",
            "728/728 [==============================] - 42s 58ms/step - loss: 0.6932 - auc: 0.4982 - val_loss: 0.6932 - val_auc: 0.5000\n",
            "Epoch 14/30\n",
            "728/728 [==============================] - 42s 58ms/step - loss: 0.6932 - auc: 0.4999 - val_loss: 0.6932 - val_auc: 0.5000\n",
            "Epoch 15/30\n",
            "728/728 [==============================] - 42s 57ms/step - loss: 0.6932 - auc: 0.4998 - val_loss: 0.6933 - val_auc: 0.5000\n",
            "Epoch 16/30\n",
            "728/728 [==============================] - 41s 57ms/step - loss: 0.6932 - auc: 0.4935 - val_loss: 0.6932 - val_auc: 0.5000\n",
            "Epoch 17/30\n",
            "728/728 [==============================] - 42s 58ms/step - loss: 0.6932 - auc: 0.4994 - val_loss: 0.6932 - val_auc: 0.5000\n",
            "Epoch 18/30\n",
            "728/728 [==============================] - 41s 57ms/step - loss: 0.6932 - auc: 0.4933 - val_loss: 0.6932 - val_auc: 0.5000\n",
            "Epoch 19/30\n",
            "728/728 [==============================] - 41s 57ms/step - loss: 0.6932 - auc: 0.4987 - val_loss: 0.6932 - val_auc: 0.5000\n",
            "Epoch 20/30\n",
            "728/728 [==============================] - 42s 57ms/step - loss: 0.6932 - auc: 0.5006 - val_loss: 0.6933 - val_auc: 0.5000\n",
            "Epoch 21/30\n",
            "728/728 [==============================] - 42s 57ms/step - loss: 0.6932 - auc: 0.4978 - val_loss: 0.6932 - val_auc: 0.5000\n",
            "Epoch 22/30\n",
            "728/728 [==============================] - 41s 57ms/step - loss: 0.6932 - auc: 0.4977 - val_loss: 0.6932 - val_auc: 0.5000\n",
            "Epoch 23/30\n",
            "728/728 [==============================] - 40s 56ms/step - loss: 0.6932 - auc: 0.4973 - val_loss: 0.6931 - val_auc: 0.5000\n",
            "Epoch 24/30\n",
            "728/728 [==============================] - 42s 58ms/step - loss: 0.6932 - auc: 0.4997 - val_loss: 0.6932 - val_auc: 0.5000\n",
            "Epoch 25/30\n",
            "728/728 [==============================] - 43s 59ms/step - loss: 0.6932 - auc: 0.4986 - val_loss: 0.6932 - val_auc: 0.5000\n",
            "Epoch 26/30\n",
            "728/728 [==============================] - 41s 56ms/step - loss: 0.6931 - auc: 0.5029 - val_loss: 0.6932 - val_auc: 0.5000\n",
            "Epoch 27/30\n",
            "728/728 [==============================] - 40s 56ms/step - loss: 0.6932 - auc: 0.4989 - val_loss: 0.6932 - val_auc: 0.5000\n",
            "Epoch 28/30\n",
            "728/728 [==============================] - 41s 57ms/step - loss: 0.6932 - auc: 0.4974 - val_loss: 0.6931 - val_auc: 0.5000\n",
            "Epoch 29/30\n",
            "728/728 [==============================] - 41s 57ms/step - loss: 0.6932 - auc: 0.5011 - val_loss: 0.6933 - val_auc: 0.5000\n",
            "Epoch 30/30\n",
            "728/728 [==============================] - 41s 56ms/step - loss: 0.6932 - auc: 0.4964 - val_loss: 0.6932 - val_auc: 0.5000\n"
          ]
        }
      ],
      "source": [
        "#Train the model for 30 epochs using a custom data generator and batch size of 32\n",
        "\n",
        "import math\n",
        "\n",
        "batch_size = 32\n",
        "num_batchs = math.ceil(len(x) / batch_size)\n",
        "num_batchs_validation = math.ceil(len(y) / batch_size)\n",
        "\n",
        "history = model8.fit(\n",
        "    gen_batch(\n",
        "        x, batch_size=batch_size, repeat=True\n",
        "    ),\n",
        "    steps_per_epoch=num_batchs,\n",
        "    epochs=30,\n",
        "    validation_data=gen_batch(\n",
        "        y, batch_size=32, repeat=True\n",
        "    ),\n",
        "    validation_steps=num_batchs_validation,\n",
        ")"
      ]
    },
    {
      "cell_type": "code",
      "execution_count": null,
      "metadata": {
        "colab": {
          "base_uri": "https://localhost:8080/"
        },
        "outputId": "2e66f170-2360-4d31-f6fc-61857055bbe5",
        "id": "JLg83nrHr2eO"
      },
      "outputs": [
        {
          "output_type": "stream",
          "name": "stdout",
          "text": [
            "386/386 [==============================] - 6s 13ms/step\n"
          ]
        }
      ],
      "source": [
        "# Use the model to make predictions on the test data\n",
        "# The test data is generated in batches of 32 and not shuffled\n",
        "y_pred8 = model8.predict(\n",
        "    gen_batch(test, batch_size=32, shuffle=False)\n",
        ")\n",
        "# Reshape the predictions to a one-dimensional array\n",
        "y_pred8 = np.reshape(y_pred8, -1)"
      ]
    },
    {
      "cell_type": "code",
      "execution_count": null,
      "metadata": {
        "colab": {
          "base_uri": "https://localhost:8080/"
        },
        "outputId": "d200d55c-bbc9-4c71-e408-b3ae47b2a20b",
        "id": "gWoVgyXZr2eO"
      },
      "outputs": [
        {
          "output_type": "execute_result",
          "data": {
            "text/plain": [
              "12326"
            ]
          },
          "metadata": {},
          "execution_count": 56
        }
      ],
      "source": [
        "len(y_pred8)"
      ]
    },
    {
      "cell_type": "code",
      "execution_count": null,
      "metadata": {
        "id": "18465GNJr2eO"
      },
      "outputs": [],
      "source": [
        "#  (if for kaggle competition and it is about genre prediction)\n",
        "import pandas as pd \n",
        "submission = pd.DataFrame({'label':y_pred8})\n",
        "submission.index.name = 'id'\n",
        "submission.to_csv('sample_submission8.csv')"
      ]
    },
    {
      "cell_type": "markdown",
      "source": [
        "This trail get score 0.5 on Kaggle "
      ],
      "metadata": {
        "id": "i2_7G-ktr2eP"
      }
    },
    {
      "cell_type": "markdown",
      "source": [
        "`As I expected,it's still the worst trail, this confirms that RGIN is not effective with this data`\n"
      ],
      "metadata": {
        "id": "ITXXZ8OH0Fp9"
      }
    },
    {
      "cell_type": "markdown",
      "source": [
        "# The Tenth Trail\n",
        "#GNN after resampling\n",
        "GNNs are particularly useful in scenarios where the data is structured as a graph, which consists of nodes and edges that connect them. GNNs can learn to effectively capture information from the graph structure, such as local and global relationships between nodes, and use this information to make predictions or perform other tasks.\n",
        "\n"
      ],
      "metadata": {
        "id": "TsnrcJovtnfC"
      }
    },
    {
      "cell_type": "markdown",
      "source": [
        "GNNs can be a powerful tool for anti-cancer activity prediction, leveraging the structure of molecular and drug interaction networks to identify potential therapeutics.\n",
        "we will check that:\n",
        "\n"
      ],
      "metadata": {
        "id": "BBfCRPCPtnfb"
      }
    },
    {
      "cell_type": "markdown",
      "source": [
        "`I expect the performance will be better than the previous GNN trail.`\n"
      ],
      "metadata": {
        "id": "fb407Mp-0rPt"
      }
    },
    {
      "cell_type": "code",
      "execution_count": null,
      "metadata": {
        "colab": {
          "base_uri": "https://localhost:8080/"
        },
        "outputId": "466771ec-1e83-4e81-dffb-07a0570c8416",
        "id": "_GlZszsgtnfb"
      },
      "outputs": [
        {
          "output_type": "stream",
          "name": "stdout",
          "text": [
            "gnn_out KerasTensor(type_spec=TensorSpec(shape=(None, 16), dtype=tf.float32, name=None), name='gnn_7/StatefulPartitionedCall:0', description=\"created by layer 'gnn_7'\")\n",
            "mean: KerasTensor(type_spec=TensorSpec(shape=(None, 16), dtype=tf.float32, name=None), name='tf.math.segment_mean_6/SegmentMean:0', description=\"created by layer 'tf.math.segment_mean_6'\")\n",
            "pred: KerasTensor(type_spec=TensorSpec(shape=(None, 1), dtype=tf.float32, name=None), name='dense_6/Sigmoid:0', description=\"created by layer 'dense_6'\")\n",
            "Model: \"model_5\"\n",
            "__________________________________________________________________________________________________\n",
            " Layer (type)                   Output Shape         Param #     Connected to                     \n",
            "==================================================================================================\n",
            " input_24 (InputLayer)          [(None,)]            0           []                               \n",
            "                                                                                                  \n",
            " input_22 (InputLayer)          [(None,)]            0           []                               \n",
            "                                                                                                  \n",
            " tf.math.reduce_max_7 (TFOpLamb  ()                  0           ['input_24[0][0]']               \n",
            " da)                                                                                              \n",
            "                                                                                                  \n",
            " embedding_7 (Embedding)        (None, 20)           10000       ['input_22[0][0]']               \n",
            "                                                                                                  \n",
            " input_23 (InputLayer)          [(None, 2)]          0           []                               \n",
            "                                                                                                  \n",
            " tf.__operators__.add_7 (TFOpLa  ()                  0           ['tf.math.reduce_max_7[0][0]']   \n",
            " mbda)                                                                                            \n",
            "                                                                                                  \n",
            " gnn_7 (GNN)                    (None, 16)           7904        ['embedding_7[0][0]',            \n",
            "                                                                  'input_23[0][0]',               \n",
            "                                                                  'input_24[0][0]',               \n",
            "                                                                  'tf.__operators__.add_7[0][0]'] \n",
            "                                                                                                  \n",
            " tf.math.segment_mean_6 (TFOpLa  (None, 16)          0           ['gnn_7[0][0]',                  \n",
            " mbda)                                                            'input_24[0][0]']               \n",
            "                                                                                                  \n",
            " dense_6 (Dense)                (None, 1)            17          ['tf.math.segment_mean_6[0][0]'] \n",
            "                                                                                                  \n",
            "==================================================================================================\n",
            "Total params: 17,921\n",
            "Trainable params: 17,921\n",
            "Non-trainable params: 0\n",
            "__________________________________________________________________________________________________\n"
          ]
        }
      ],
      "source": [
        "#Define the input for the node features (a batch of sequences of tokens)\n",
        "data = keras.Input(batch_shape=(None,))\n",
        "\n",
        "# the first dim is different to the previous one. it is the total number of edges in this batch\n",
        "edge = keras.Input(batch_shape=(None, 2), dtype=tf.int32)\n",
        "node2graph = keras.Input(batch_shape=(None,), dtype=tf.int32)\n",
        "embeded = Embedding(tokenizer.num_words, 20)(data)\n",
        "\n",
        "# number of graphs (number of samples)\n",
        "num_graph = tf.reduce_max(node2graph)+1\n",
        "# Define the GNN layer\n",
        "gnn_input2 = GNNInput(\n",
        "    node_features=embeded,\n",
        "    adjacency_lists=(edge,),\n",
        "    node_to_graph_map=node2graph, \n",
        "    num_graphs=num_graph,\n",
        ")\n",
        "\n",
        "#Get the default hyperparameters for the GNN model and set the hidden dimension to 16\n",
        "params9 = GNN.get_default_hyperparameters()\n",
        "params9[\"hidden_dim\"] = 16\n",
        "\n",
        "#Create a GNN layer with the given parameters\n",
        "gnn_layer2 = GNN(params9)\n",
        "#Apply the GNN layer to the input and get the output node representations\n",
        "gnn_out2 = gnn_layer2(gnn_input2)\n",
        "\n",
        "#Print the shape and values of gnn_out2\n",
        "print('gnn_out', gnn_out2)\n",
        "\n",
        "#Compute the mean of the node representations for each graph using segment_mean\n",
        "avg = segment_mean(\n",
        "    data=gnn_out2,\n",
        "    segment_ids=node2graph\n",
        ")\n",
        "\n",
        "#Print the shape and values of avg\n",
        "print('mean:', avg)\n",
        "\n",
        "#Apply a dense layer with sigmoid activation to get the prediction for each graph\n",
        "pred9 = Dense(1, activation='sigmoid')(avg)\n",
        "print('pred:', pred9)\n",
        "\n",
        "#Define the model with inputs and outputs\n",
        "model9 = Model(\n",
        "    inputs={\n",
        "        'data': data,\n",
        "        'edges': edge,\n",
        "        'node2grah': node2graph,\n",
        "    },\n",
        "    outputs=pred9\n",
        ")\n",
        "model9.summary()"
      ]
    },
    {
      "cell_type": "code",
      "execution_count": null,
      "metadata": {
        "id": "XzbBAX6Gtnfc"
      },
      "outputs": [],
      "source": [
        "#Set up the model for binary classification with BinaryCrossentropy loss and AUC metric\n",
        "model9.compile(\n",
        "    loss='BinaryCrossentropy',\n",
        "    metrics=['AUC']\n",
        ")"
      ]
    },
    {
      "cell_type": "code",
      "execution_count": null,
      "metadata": {
        "colab": {
          "base_uri": "https://localhost:8080/"
        },
        "outputId": "610329c7-7d67-4abd-d20b-24cf8dcb43eb",
        "id": "UQKuDRbjtnfc"
      },
      "outputs": [
        {
          "output_type": "stream",
          "name": "stdout",
          "text": [
            "Epoch 1/15\n",
            "728/728 [==============================] - 17s 18ms/step - loss: 0.6796 - auc: 0.6045 - val_loss: 0.6637 - val_auc: 0.6389\n",
            "Epoch 2/15\n",
            "728/728 [==============================] - 11s 16ms/step - loss: 0.6366 - auc: 0.6837 - val_loss: 0.6168 - val_auc: 0.7153\n",
            "Epoch 3/15\n",
            "728/728 [==============================] - 12s 16ms/step - loss: 0.6074 - auc: 0.7275 - val_loss: 0.6035 - val_auc: 0.7419\n",
            "Epoch 4/15\n",
            "728/728 [==============================] - 11s 16ms/step - loss: 0.5977 - auc: 0.7411 - val_loss: 0.6008 - val_auc: 0.7456\n",
            "Epoch 5/15\n",
            "728/728 [==============================] - 11s 16ms/step - loss: 0.5911 - auc: 0.7477 - val_loss: 0.5955 - val_auc: 0.7502\n",
            "Epoch 6/15\n",
            "728/728 [==============================] - 12s 16ms/step - loss: 0.5877 - auc: 0.7522 - val_loss: 0.5904 - val_auc: 0.7586\n",
            "Epoch 7/15\n",
            "728/728 [==============================] - 11s 15ms/step - loss: 0.5837 - auc: 0.7589 - val_loss: 0.5911 - val_auc: 0.7579\n",
            "Epoch 8/15\n",
            "728/728 [==============================] - 10s 13ms/step - loss: 0.5818 - auc: 0.7618 - val_loss: 0.5789 - val_auc: 0.7689\n",
            "Epoch 9/15\n",
            "728/728 [==============================] - 11s 16ms/step - loss: 0.5776 - auc: 0.7668 - val_loss: 0.5817 - val_auc: 0.7647\n",
            "Epoch 10/15\n",
            "728/728 [==============================] - 11s 15ms/step - loss: 0.5742 - auc: 0.7700 - val_loss: 0.5733 - val_auc: 0.7775\n",
            "Epoch 11/15\n",
            "728/728 [==============================] - 11s 15ms/step - loss: 0.5721 - auc: 0.7734 - val_loss: 0.5695 - val_auc: 0.7794\n",
            "Epoch 12/15\n",
            "728/728 [==============================] - 11s 16ms/step - loss: 0.5674 - auc: 0.7770 - val_loss: 0.5602 - val_auc: 0.7880\n",
            "Epoch 13/15\n",
            "728/728 [==============================] - 11s 16ms/step - loss: 0.5633 - auc: 0.7819 - val_loss: 0.5629 - val_auc: 0.7859\n",
            "Epoch 14/15\n",
            "728/728 [==============================] - 11s 15ms/step - loss: 0.5586 - auc: 0.7866 - val_loss: 0.5649 - val_auc: 0.7875\n",
            "Epoch 15/15\n",
            "728/728 [==============================] - 10s 14ms/step - loss: 0.5571 - auc: 0.7881 - val_loss: 0.5534 - val_auc: 0.7977\n"
          ]
        },
        {
          "output_type": "execute_result",
          "data": {
            "text/plain": [
              "<keras.callbacks.History at 0x7efd91e8d2b0>"
            ]
          },
          "metadata": {},
          "execution_count": 60
        }
      ],
      "source": [
        "#Train the model for 15 epochs using a custom data generator and batch size of 32\n",
        "import math\n",
        "\n",
        "batch_size = 32\n",
        "num_batchs = math.ceil(len(x) / batch_size)\n",
        "num_batchs_validation = math.ceil(len(y) / batch_size)\n",
        "\n",
        "model9.fit(\n",
        "    gen_batch(\n",
        "        x, batch_size=batch_size, repeat=True\n",
        "    ),\n",
        "    steps_per_epoch=num_batchs,\n",
        "    epochs=15,\n",
        "    validation_data=gen_batch(\n",
        "        y, batch_size=32, repeat=True\n",
        "    ),\n",
        "    validation_steps=num_batchs_validation,\n",
        ")"
      ]
    },
    {
      "cell_type": "code",
      "execution_count": null,
      "metadata": {
        "colab": {
          "base_uri": "https://localhost:8080/"
        },
        "outputId": "57ff3c50-bc50-43c6-ae5b-77749e709b73",
        "id": "LgiicWQYtnfd"
      },
      "outputs": [
        {
          "output_type": "stream",
          "name": "stdout",
          "text": [
            "386/386 [==============================] - 2s 5ms/step\n"
          ]
        }
      ],
      "source": [
        "# Use the model to make predictions on the test data\n",
        "# The test data is generated in batches of 32 and not shuffled\n",
        "y_pred9 = model9.predict(\n",
        "    gen_batch(test, batch_size=32, shuffle=False)\n",
        ")\n",
        "# Reshape the predictions to a one-dimensional array\n",
        "y_pred9 = np.reshape(y_pred9, -1)"
      ]
    },
    {
      "cell_type": "code",
      "execution_count": null,
      "metadata": {
        "colab": {
          "base_uri": "https://localhost:8080/"
        },
        "outputId": "1ba5ab79-531f-4d58-a025-2e2aa3de97da",
        "id": "i9dWibY2tnfd"
      },
      "outputs": [
        {
          "output_type": "execute_result",
          "data": {
            "text/plain": [
              "12326"
            ]
          },
          "metadata": {},
          "execution_count": 62
        }
      ],
      "source": [
        "len(y_pred9)"
      ]
    },
    {
      "cell_type": "code",
      "execution_count": null,
      "metadata": {
        "id": "H0hOA7wGtnfe"
      },
      "outputs": [],
      "source": [
        "#  (if for kaggle competition and it is about genre prediction)\n",
        "import pandas as pd \n",
        "submission = pd.DataFrame({'label':y_pred9})\n",
        "submission.index.name = 'id'\n",
        "submission.to_csv('sample_submission9.csv')"
      ]
    },
    {
      "cell_type": "markdown",
      "source": [
        "This trail get score 0.76965\n",
        " on Kaggle "
      ],
      "metadata": {
        "id": "LYrC1Rt4tnfe"
      }
    },
    {
      "cell_type": "markdown",
      "source": [
        "`it's better than the previous GNN trail and there is no overfitting or underfitting.`"
      ],
      "metadata": {
        "id": "TYbcFVPO1Ty3"
      }
    },
    {
      "cell_type": "markdown",
      "source": [
        "# Conclusion\n",
        "\n",
        "\n",
        "*   UP Sampling helped improve performance, As we can see in previous trails.\n",
        "\n",
        "*   GGNN can achieve better performance and accuracy than other GNN models or traditional machine learning methods for anti-cancer activity prediction. This Trail Get Score on Kaggle (0.85219)\n",
        "\n",
        "\n",
        "\n",
        "\n",
        "\n"
      ],
      "metadata": {
        "id": "UlnyEHppcQb_"
      }
    },
    {
      "cell_type": "markdown",
      "source": [
        "## ✔️ Answer the questions"
      ],
      "metadata": {
        "id": "WiOA5ST3Ozd5"
      }
    },
    {
      "cell_type": "markdown",
      "source": [
        "**🌈Based on the provided template, describe the format of the input file (sdf file).**\n",
        "\n",
        "*  SDF file format can be a chemical table file that describes molecules and chemical reactions. It is a text-based format that wraps the molfile format and can store multiple records delimited by four dollar signs. It is made up of a series of molfiles that have been connected together, as well as some additional information about the compounds.\n",
        "\n",
        "**🌈What are the input tensors to the neural network model (their meaning, not just symbol)? What is each of their dims and their meaning (e.g. batch_size)?**\n",
        "\n",
        "*  Input tensors are the data structures that represent the inputs to a neural network model. They are usually multidimensional arrays of numbers that can be manipulated by mathematical operations. They are also the primary data format used by various training frameworks such as TensorFlow and PyTorch.\n",
        "\n",
        "*  The dimensions of an input tensor depend on the type and shape of the input data. For example, if the input data is an image, the input tensor may have four dimensions: batch size, height, width, and channels. Batch size is the number of samples in a batch, height and width are the pixel dimensions of the image, and channels are the color components (such as RGB) or feature maps of the image.\n",
        "\n",
        "*  The meaning of each dimension of an input tensor also depends on the type and shape of the input data. For example, if the input data is a sequence of words, the input tensor may have three dimensions: batch size, sequence length, and vocabulary size. Batch size is the number of samples in a batch, sequence length is the number of words in a sequence, and vocabulary size is the number of unique words in the vocabulary.\n",
        "\n",
        "**🌈For each dim of gnn_out, what does it symbolize? For each dim of avg, what does it symbolize?**\n",
        "\n",
        "*   gnn_out is a tensor of shape [num_nodes, hidden_dim], where num_nodes is the total number of nodes in all graphs, and hidden_dim is the dimension of the node representations learned by the GNN layer. Each row of gnn_out corresponds to a node in a graph, and each column corresponds to a feature of the node representation.\n",
        " \n",
        "\n",
        "*   avg is a tensor of shape [num_graphs, hidden_dim], where num_graphs is the number of graphs in the input, and hidden_dim is the same as in gnn_out. Each row of avg corresponds to a graph in the input, and each column corresponds to a feature of the graph representation. The graph representation is computed by taking the mean of the node representations for each graph using segment_mean.\n",
        "\n",
        "\n",
        "**🌈What is the difference between segment_mean and tf.reduce_mean? For each dim of pred, what does it symbolize?**\n",
        "\n",
        "\n",
        "*   segment_mean is a function that computes the mean of a tensor along a given dimension, but only for segments that have the same segment id.if data is a tensor of shape [6, 2] and segment_ids is a tensor of shape [6] with values [0, 0, 1, 1, 2, 2], then segment_mean(data, segment_ids) will return a tensor of shape [3, 2], where each row is the mean of two rows in data that have the same segment id. This function is useful for aggregating data by groups or categories.\n",
        "\n",
        "\n",
        "*   tf.reduce_mean is a function that computes the mean of a tensor along a given dimension or all dimensions. if data is a tensor of shape [6, 2], then tf.reduce_mean(data) will return a scalar value that is the mean of all elements in data, and tf.reduce_mean(data, axis=0) will return a tensor of shape [2] that is the mean of each column in data. This function is useful for reducing the dimensionality of data or computing global statistics.\n",
        "\n",
        "*   pred is a tensor of shape [num_graphs, num_classes], where num_graphs is the number of graphs in the input, and num_classes is the number of categories for graph classification. Each row of pred corresponds to a graph in the input, and each column corresponds to a probability score for each class. The pred tensor is computed by applying a softmax function to the output of a linear layer that takes avg as input.\n",
        "\n",
        "**🌈What is the motivation/theory/idea to use multiple gcn layers comparing to just one? How many layers were used in the template?**\n",
        "\n",
        "*  The motivation/theory/idea to use multiple GCN layers compared to just one is to capture the multi-hop feature aggregation of the graph data. Each GCN layer can aggregate the features of the neighboring nodes within a certain distance (or hop). By stacking multiple GCN layers, the model can learn more expressive and global features that incorporate information from nodes that are further away in the graph structure.\n",
        "\n",
        "*  there are two layers used in the template.\n",
        "\n",
        "\n",
        "\n",
        "\n",
        "\n"
      ],
      "metadata": {
        "id": "pFcgWagyPAXX"
      }
    }
  ],
  "metadata": {
    "kernelspec": {
      "display_name": "Python 3",
      "name": "python3"
    },
    "language_info": {
      "name": "python"
    },
    "colab": {
      "provenance": []
    },
    "gpuClass": "standard",
    "widgets": {
      "application/vnd.jupyter.widget-state+json": {
        "ad786a4961b348379333ac9be1b6453e": {
          "model_module": "@jupyter-widgets/controls",
          "model_name": "HBoxModel",
          "model_module_version": "1.5.0",
          "state": {
            "_dom_classes": [],
            "_model_module": "@jupyter-widgets/controls",
            "_model_module_version": "1.5.0",
            "_model_name": "HBoxModel",
            "_view_count": null,
            "_view_module": "@jupyter-widgets/controls",
            "_view_module_version": "1.5.0",
            "_view_name": "HBoxView",
            "box_style": "",
            "children": [
              "IPY_MODEL_5685c5357c5d43e38b46d9666527ef46",
              "IPY_MODEL_1ef2440a5fb94ecca679be6011f5c5ef",
              "IPY_MODEL_826607c0b1764e2781d1b2b9d239c1eb"
            ],
            "layout": "IPY_MODEL_7b36d147e30942c4af5b49a083f6b3f9"
          }
        },
        "5685c5357c5d43e38b46d9666527ef46": {
          "model_module": "@jupyter-widgets/controls",
          "model_name": "HTMLModel",
          "model_module_version": "1.5.0",
          "state": {
            "_dom_classes": [],
            "_model_module": "@jupyter-widgets/controls",
            "_model_module_version": "1.5.0",
            "_model_name": "HTMLModel",
            "_view_count": null,
            "_view_module": "@jupyter-widgets/controls",
            "_view_module_version": "1.5.0",
            "_view_name": "HTMLView",
            "description": "",
            "description_tooltip": null,
            "layout": "IPY_MODEL_578f7757ece7498493896320487382bc",
            "placeholder": "​",
            "style": "IPY_MODEL_9844385c647e472f880b01b403324f2d",
            "value": "100%"
          }
        },
        "1ef2440a5fb94ecca679be6011f5c5ef": {
          "model_module": "@jupyter-widgets/controls",
          "model_name": "FloatProgressModel",
          "model_module_version": "1.5.0",
          "state": {
            "_dom_classes": [],
            "_model_module": "@jupyter-widgets/controls",
            "_model_module_version": "1.5.0",
            "_model_name": "FloatProgressModel",
            "_view_count": null,
            "_view_module": "@jupyter-widgets/controls",
            "_view_module_version": "1.5.0",
            "_view_name": "ProgressView",
            "bar_style": "success",
            "description": "",
            "description_tooltip": null,
            "layout": "IPY_MODEL_d13d65a4ce5142a4aa83f02ea56690d7",
            "max": 25024,
            "min": 0,
            "orientation": "horizontal",
            "style": "IPY_MODEL_a756c3f635a7446f910772109a7ed90b",
            "value": 25024
          }
        },
        "826607c0b1764e2781d1b2b9d239c1eb": {
          "model_module": "@jupyter-widgets/controls",
          "model_name": "HTMLModel",
          "model_module_version": "1.5.0",
          "state": {
            "_dom_classes": [],
            "_model_module": "@jupyter-widgets/controls",
            "_model_module_version": "1.5.0",
            "_model_name": "HTMLModel",
            "_view_count": null,
            "_view_module": "@jupyter-widgets/controls",
            "_view_module_version": "1.5.0",
            "_view_name": "HTMLView",
            "description": "",
            "description_tooltip": null,
            "layout": "IPY_MODEL_bbc87883103e4a828d50aa34db3bafb1",
            "placeholder": "​",
            "style": "IPY_MODEL_e73cc11cf337404889e22f6b53a463ae",
            "value": " 25024/25024 [00:01&lt;00:00, 14906.04it/s]"
          }
        },
        "7b36d147e30942c4af5b49a083f6b3f9": {
          "model_module": "@jupyter-widgets/base",
          "model_name": "LayoutModel",
          "model_module_version": "1.2.0",
          "state": {
            "_model_module": "@jupyter-widgets/base",
            "_model_module_version": "1.2.0",
            "_model_name": "LayoutModel",
            "_view_count": null,
            "_view_module": "@jupyter-widgets/base",
            "_view_module_version": "1.2.0",
            "_view_name": "LayoutView",
            "align_content": null,
            "align_items": null,
            "align_self": null,
            "border": null,
            "bottom": null,
            "display": null,
            "flex": null,
            "flex_flow": null,
            "grid_area": null,
            "grid_auto_columns": null,
            "grid_auto_flow": null,
            "grid_auto_rows": null,
            "grid_column": null,
            "grid_gap": null,
            "grid_row": null,
            "grid_template_areas": null,
            "grid_template_columns": null,
            "grid_template_rows": null,
            "height": null,
            "justify_content": null,
            "justify_items": null,
            "left": null,
            "margin": null,
            "max_height": null,
            "max_width": null,
            "min_height": null,
            "min_width": null,
            "object_fit": null,
            "object_position": null,
            "order": null,
            "overflow": null,
            "overflow_x": null,
            "overflow_y": null,
            "padding": null,
            "right": null,
            "top": null,
            "visibility": null,
            "width": null
          }
        },
        "578f7757ece7498493896320487382bc": {
          "model_module": "@jupyter-widgets/base",
          "model_name": "LayoutModel",
          "model_module_version": "1.2.0",
          "state": {
            "_model_module": "@jupyter-widgets/base",
            "_model_module_version": "1.2.0",
            "_model_name": "LayoutModel",
            "_view_count": null,
            "_view_module": "@jupyter-widgets/base",
            "_view_module_version": "1.2.0",
            "_view_name": "LayoutView",
            "align_content": null,
            "align_items": null,
            "align_self": null,
            "border": null,
            "bottom": null,
            "display": null,
            "flex": null,
            "flex_flow": null,
            "grid_area": null,
            "grid_auto_columns": null,
            "grid_auto_flow": null,
            "grid_auto_rows": null,
            "grid_column": null,
            "grid_gap": null,
            "grid_row": null,
            "grid_template_areas": null,
            "grid_template_columns": null,
            "grid_template_rows": null,
            "height": null,
            "justify_content": null,
            "justify_items": null,
            "left": null,
            "margin": null,
            "max_height": null,
            "max_width": null,
            "min_height": null,
            "min_width": null,
            "object_fit": null,
            "object_position": null,
            "order": null,
            "overflow": null,
            "overflow_x": null,
            "overflow_y": null,
            "padding": null,
            "right": null,
            "top": null,
            "visibility": null,
            "width": null
          }
        },
        "9844385c647e472f880b01b403324f2d": {
          "model_module": "@jupyter-widgets/controls",
          "model_name": "DescriptionStyleModel",
          "model_module_version": "1.5.0",
          "state": {
            "_model_module": "@jupyter-widgets/controls",
            "_model_module_version": "1.5.0",
            "_model_name": "DescriptionStyleModel",
            "_view_count": null,
            "_view_module": "@jupyter-widgets/base",
            "_view_module_version": "1.2.0",
            "_view_name": "StyleView",
            "description_width": ""
          }
        },
        "d13d65a4ce5142a4aa83f02ea56690d7": {
          "model_module": "@jupyter-widgets/base",
          "model_name": "LayoutModel",
          "model_module_version": "1.2.0",
          "state": {
            "_model_module": "@jupyter-widgets/base",
            "_model_module_version": "1.2.0",
            "_model_name": "LayoutModel",
            "_view_count": null,
            "_view_module": "@jupyter-widgets/base",
            "_view_module_version": "1.2.0",
            "_view_name": "LayoutView",
            "align_content": null,
            "align_items": null,
            "align_self": null,
            "border": null,
            "bottom": null,
            "display": null,
            "flex": null,
            "flex_flow": null,
            "grid_area": null,
            "grid_auto_columns": null,
            "grid_auto_flow": null,
            "grid_auto_rows": null,
            "grid_column": null,
            "grid_gap": null,
            "grid_row": null,
            "grid_template_areas": null,
            "grid_template_columns": null,
            "grid_template_rows": null,
            "height": null,
            "justify_content": null,
            "justify_items": null,
            "left": null,
            "margin": null,
            "max_height": null,
            "max_width": null,
            "min_height": null,
            "min_width": null,
            "object_fit": null,
            "object_position": null,
            "order": null,
            "overflow": null,
            "overflow_x": null,
            "overflow_y": null,
            "padding": null,
            "right": null,
            "top": null,
            "visibility": null,
            "width": null
          }
        },
        "a756c3f635a7446f910772109a7ed90b": {
          "model_module": "@jupyter-widgets/controls",
          "model_name": "ProgressStyleModel",
          "model_module_version": "1.5.0",
          "state": {
            "_model_module": "@jupyter-widgets/controls",
            "_model_module_version": "1.5.0",
            "_model_name": "ProgressStyleModel",
            "_view_count": null,
            "_view_module": "@jupyter-widgets/base",
            "_view_module_version": "1.2.0",
            "_view_name": "StyleView",
            "bar_color": null,
            "description_width": ""
          }
        },
        "bbc87883103e4a828d50aa34db3bafb1": {
          "model_module": "@jupyter-widgets/base",
          "model_name": "LayoutModel",
          "model_module_version": "1.2.0",
          "state": {
            "_model_module": "@jupyter-widgets/base",
            "_model_module_version": "1.2.0",
            "_model_name": "LayoutModel",
            "_view_count": null,
            "_view_module": "@jupyter-widgets/base",
            "_view_module_version": "1.2.0",
            "_view_name": "LayoutView",
            "align_content": null,
            "align_items": null,
            "align_self": null,
            "border": null,
            "bottom": null,
            "display": null,
            "flex": null,
            "flex_flow": null,
            "grid_area": null,
            "grid_auto_columns": null,
            "grid_auto_flow": null,
            "grid_auto_rows": null,
            "grid_column": null,
            "grid_gap": null,
            "grid_row": null,
            "grid_template_areas": null,
            "grid_template_columns": null,
            "grid_template_rows": null,
            "height": null,
            "justify_content": null,
            "justify_items": null,
            "left": null,
            "margin": null,
            "max_height": null,
            "max_width": null,
            "min_height": null,
            "min_width": null,
            "object_fit": null,
            "object_position": null,
            "order": null,
            "overflow": null,
            "overflow_x": null,
            "overflow_y": null,
            "padding": null,
            "right": null,
            "top": null,
            "visibility": null,
            "width": null
          }
        },
        "e73cc11cf337404889e22f6b53a463ae": {
          "model_module": "@jupyter-widgets/controls",
          "model_name": "DescriptionStyleModel",
          "model_module_version": "1.5.0",
          "state": {
            "_model_module": "@jupyter-widgets/controls",
            "_model_module_version": "1.5.0",
            "_model_name": "DescriptionStyleModel",
            "_view_count": null,
            "_view_module": "@jupyter-widgets/base",
            "_view_module_version": "1.2.0",
            "_view_name": "StyleView",
            "description_width": ""
          }
        },
        "f74466b53e654495801e00571c94761b": {
          "model_module": "@jupyter-widgets/controls",
          "model_name": "HBoxModel",
          "model_module_version": "1.5.0",
          "state": {
            "_dom_classes": [],
            "_model_module": "@jupyter-widgets/controls",
            "_model_module_version": "1.5.0",
            "_model_name": "HBoxModel",
            "_view_count": null,
            "_view_module": "@jupyter-widgets/controls",
            "_view_module_version": "1.5.0",
            "_view_name": "HBoxView",
            "box_style": "",
            "children": [
              "IPY_MODEL_5cc662bff3ac492eab197e2b696a9c35",
              "IPY_MODEL_8c035bd0cab84415b4a50d2a8b51a4bc",
              "IPY_MODEL_0ce446bf396344f7be24c2e9b2141c73"
            ],
            "layout": "IPY_MODEL_983bcafc04fa411f9ca92c7213d9e760"
          }
        },
        "5cc662bff3ac492eab197e2b696a9c35": {
          "model_module": "@jupyter-widgets/controls",
          "model_name": "HTMLModel",
          "model_module_version": "1.5.0",
          "state": {
            "_dom_classes": [],
            "_model_module": "@jupyter-widgets/controls",
            "_model_module_version": "1.5.0",
            "_model_name": "HTMLModel",
            "_view_count": null,
            "_view_module": "@jupyter-widgets/controls",
            "_view_module_version": "1.5.0",
            "_view_name": "HTMLView",
            "description": "",
            "description_tooltip": null,
            "layout": "IPY_MODEL_b1042b6361f74b7890392984c4b93cbf",
            "placeholder": "​",
            "style": "IPY_MODEL_e5f88b4566544a6fa60507411aec4984",
            "value": "100%"
          }
        },
        "8c035bd0cab84415b4a50d2a8b51a4bc": {
          "model_module": "@jupyter-widgets/controls",
          "model_name": "FloatProgressModel",
          "model_module_version": "1.5.0",
          "state": {
            "_dom_classes": [],
            "_model_module": "@jupyter-widgets/controls",
            "_model_module_version": "1.5.0",
            "_model_name": "FloatProgressModel",
            "_view_count": null,
            "_view_module": "@jupyter-widgets/controls",
            "_view_module_version": "1.5.0",
            "_view_name": "ProgressView",
            "bar_style": "success",
            "description": "",
            "description_tooltip": null,
            "layout": "IPY_MODEL_3f88ce8c4af541b9bf86a2584c2ae6ba",
            "max": 12326,
            "min": 0,
            "orientation": "horizontal",
            "style": "IPY_MODEL_c908b982b4954208bb5863eae59e31b8",
            "value": 12326
          }
        },
        "0ce446bf396344f7be24c2e9b2141c73": {
          "model_module": "@jupyter-widgets/controls",
          "model_name": "HTMLModel",
          "model_module_version": "1.5.0",
          "state": {
            "_dom_classes": [],
            "_model_module": "@jupyter-widgets/controls",
            "_model_module_version": "1.5.0",
            "_model_name": "HTMLModel",
            "_view_count": null,
            "_view_module": "@jupyter-widgets/controls",
            "_view_module_version": "1.5.0",
            "_view_name": "HTMLView",
            "description": "",
            "description_tooltip": null,
            "layout": "IPY_MODEL_b123ae0d1ee642c0811ec0aa1be9dc71",
            "placeholder": "​",
            "style": "IPY_MODEL_ed8848a79484485d96c1aa43f37d8e0d",
            "value": " 12326/12326 [00:00&lt;00:00, 14160.34it/s]"
          }
        },
        "983bcafc04fa411f9ca92c7213d9e760": {
          "model_module": "@jupyter-widgets/base",
          "model_name": "LayoutModel",
          "model_module_version": "1.2.0",
          "state": {
            "_model_module": "@jupyter-widgets/base",
            "_model_module_version": "1.2.0",
            "_model_name": "LayoutModel",
            "_view_count": null,
            "_view_module": "@jupyter-widgets/base",
            "_view_module_version": "1.2.0",
            "_view_name": "LayoutView",
            "align_content": null,
            "align_items": null,
            "align_self": null,
            "border": null,
            "bottom": null,
            "display": null,
            "flex": null,
            "flex_flow": null,
            "grid_area": null,
            "grid_auto_columns": null,
            "grid_auto_flow": null,
            "grid_auto_rows": null,
            "grid_column": null,
            "grid_gap": null,
            "grid_row": null,
            "grid_template_areas": null,
            "grid_template_columns": null,
            "grid_template_rows": null,
            "height": null,
            "justify_content": null,
            "justify_items": null,
            "left": null,
            "margin": null,
            "max_height": null,
            "max_width": null,
            "min_height": null,
            "min_width": null,
            "object_fit": null,
            "object_position": null,
            "order": null,
            "overflow": null,
            "overflow_x": null,
            "overflow_y": null,
            "padding": null,
            "right": null,
            "top": null,
            "visibility": null,
            "width": null
          }
        },
        "b1042b6361f74b7890392984c4b93cbf": {
          "model_module": "@jupyter-widgets/base",
          "model_name": "LayoutModel",
          "model_module_version": "1.2.0",
          "state": {
            "_model_module": "@jupyter-widgets/base",
            "_model_module_version": "1.2.0",
            "_model_name": "LayoutModel",
            "_view_count": null,
            "_view_module": "@jupyter-widgets/base",
            "_view_module_version": "1.2.0",
            "_view_name": "LayoutView",
            "align_content": null,
            "align_items": null,
            "align_self": null,
            "border": null,
            "bottom": null,
            "display": null,
            "flex": null,
            "flex_flow": null,
            "grid_area": null,
            "grid_auto_columns": null,
            "grid_auto_flow": null,
            "grid_auto_rows": null,
            "grid_column": null,
            "grid_gap": null,
            "grid_row": null,
            "grid_template_areas": null,
            "grid_template_columns": null,
            "grid_template_rows": null,
            "height": null,
            "justify_content": null,
            "justify_items": null,
            "left": null,
            "margin": null,
            "max_height": null,
            "max_width": null,
            "min_height": null,
            "min_width": null,
            "object_fit": null,
            "object_position": null,
            "order": null,
            "overflow": null,
            "overflow_x": null,
            "overflow_y": null,
            "padding": null,
            "right": null,
            "top": null,
            "visibility": null,
            "width": null
          }
        },
        "e5f88b4566544a6fa60507411aec4984": {
          "model_module": "@jupyter-widgets/controls",
          "model_name": "DescriptionStyleModel",
          "model_module_version": "1.5.0",
          "state": {
            "_model_module": "@jupyter-widgets/controls",
            "_model_module_version": "1.5.0",
            "_model_name": "DescriptionStyleModel",
            "_view_count": null,
            "_view_module": "@jupyter-widgets/base",
            "_view_module_version": "1.2.0",
            "_view_name": "StyleView",
            "description_width": ""
          }
        },
        "3f88ce8c4af541b9bf86a2584c2ae6ba": {
          "model_module": "@jupyter-widgets/base",
          "model_name": "LayoutModel",
          "model_module_version": "1.2.0",
          "state": {
            "_model_module": "@jupyter-widgets/base",
            "_model_module_version": "1.2.0",
            "_model_name": "LayoutModel",
            "_view_count": null,
            "_view_module": "@jupyter-widgets/base",
            "_view_module_version": "1.2.0",
            "_view_name": "LayoutView",
            "align_content": null,
            "align_items": null,
            "align_self": null,
            "border": null,
            "bottom": null,
            "display": null,
            "flex": null,
            "flex_flow": null,
            "grid_area": null,
            "grid_auto_columns": null,
            "grid_auto_flow": null,
            "grid_auto_rows": null,
            "grid_column": null,
            "grid_gap": null,
            "grid_row": null,
            "grid_template_areas": null,
            "grid_template_columns": null,
            "grid_template_rows": null,
            "height": null,
            "justify_content": null,
            "justify_items": null,
            "left": null,
            "margin": null,
            "max_height": null,
            "max_width": null,
            "min_height": null,
            "min_width": null,
            "object_fit": null,
            "object_position": null,
            "order": null,
            "overflow": null,
            "overflow_x": null,
            "overflow_y": null,
            "padding": null,
            "right": null,
            "top": null,
            "visibility": null,
            "width": null
          }
        },
        "c908b982b4954208bb5863eae59e31b8": {
          "model_module": "@jupyter-widgets/controls",
          "model_name": "ProgressStyleModel",
          "model_module_version": "1.5.0",
          "state": {
            "_model_module": "@jupyter-widgets/controls",
            "_model_module_version": "1.5.0",
            "_model_name": "ProgressStyleModel",
            "_view_count": null,
            "_view_module": "@jupyter-widgets/base",
            "_view_module_version": "1.2.0",
            "_view_name": "StyleView",
            "bar_color": null,
            "description_width": ""
          }
        },
        "b123ae0d1ee642c0811ec0aa1be9dc71": {
          "model_module": "@jupyter-widgets/base",
          "model_name": "LayoutModel",
          "model_module_version": "1.2.0",
          "state": {
            "_model_module": "@jupyter-widgets/base",
            "_model_module_version": "1.2.0",
            "_model_name": "LayoutModel",
            "_view_count": null,
            "_view_module": "@jupyter-widgets/base",
            "_view_module_version": "1.2.0",
            "_view_name": "LayoutView",
            "align_content": null,
            "align_items": null,
            "align_self": null,
            "border": null,
            "bottom": null,
            "display": null,
            "flex": null,
            "flex_flow": null,
            "grid_area": null,
            "grid_auto_columns": null,
            "grid_auto_flow": null,
            "grid_auto_rows": null,
            "grid_column": null,
            "grid_gap": null,
            "grid_row": null,
            "grid_template_areas": null,
            "grid_template_columns": null,
            "grid_template_rows": null,
            "height": null,
            "justify_content": null,
            "justify_items": null,
            "left": null,
            "margin": null,
            "max_height": null,
            "max_width": null,
            "min_height": null,
            "min_width": null,
            "object_fit": null,
            "object_position": null,
            "order": null,
            "overflow": null,
            "overflow_x": null,
            "overflow_y": null,
            "padding": null,
            "right": null,
            "top": null,
            "visibility": null,
            "width": null
          }
        },
        "ed8848a79484485d96c1aa43f37d8e0d": {
          "model_module": "@jupyter-widgets/controls",
          "model_name": "DescriptionStyleModel",
          "model_module_version": "1.5.0",
          "state": {
            "_model_module": "@jupyter-widgets/controls",
            "_model_module_version": "1.5.0",
            "_model_name": "DescriptionStyleModel",
            "_view_count": null,
            "_view_module": "@jupyter-widgets/base",
            "_view_module_version": "1.2.0",
            "_view_name": "StyleView",
            "description_width": ""
          }
        }
      }
    },
    "accelerator": "GPU"
  },
  "nbformat": 4,
  "nbformat_minor": 0
}